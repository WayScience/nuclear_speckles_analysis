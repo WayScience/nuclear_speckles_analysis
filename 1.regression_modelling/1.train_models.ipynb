{
    "cells": [
        {
            "cell_type": "markdown",
            "metadata": {},
            "source": [
                "# Train ElasticNet model to predict each A647 and GOLD feature using the nuclear features\n",
                "\n",
                "In this notebook, we split the features into each group for nuclear speckle or nucleus and then train a regression model per nuclear speckle feature using the nuclear features to predict it.\n",
                "\n",
                "We are looking to find the best nuclear speckle feature that can be predicted using nucleus features."
            ]
        },
        {
            "cell_type": "markdown",
            "metadata": {},
            "source": [
                "## Import libraries"
            ]
        },
        {
            "cell_type": "code",
            "execution_count": 1,
            "metadata": {},
            "outputs": [],
            "source": [
                "import os\n",
                "import pathlib\n",
                "import sys\n",
                "import warnings\n",
                "\n",
                "import yaml\n",
                "import joblib\n",
                "import numpy as np\n",
                "import pandas as pd\n",
                "from sklearn.linear_model import ElasticNet\n",
                "from sklearn.model_selection import KFold, RandomizedSearchCV\n",
                "from tqdm import tqdm\n",
                "\n",
                "# Ignore the ConvergenceWarnings (only thing that will work \ud83d\ude43)\n",
                "if not sys.warnoptions:\n",
                "    warnings.simplefilter(\"ignore\")\n",
                "    os.environ[\"PYTHONWARNINGS\"] = \"ignore\""
            ]
        },
        {
            "cell_type": "markdown",
            "metadata": {},
            "source": [
                "## Set paths and random seed"
            ]
        },
        {
            "cell_type": "code",
            "execution_count": 2,
            "metadata": {},
            "outputs": [],
            "source": [
                "# set numpy seed to make sure any random operations performs are reproducible\n",
                "np.random.seed(0)\n",
                "\n",
                "# Directory for models to be outputted\n",
                "model_dir = pathlib.Path(\"./models\")\n",
                "model_dir.mkdir(exist_ok=True, parents=True)\n",
                "\n",
                "# Make specific folders in model dir for each model type\n",
                "final_dir = model_dir / \"final\"\n",
                "final_dir.mkdir(exist_ok=True, parents=True)\n",
                "shuffled_dir = model_dir / \"shuffled_baseline\"\n",
                "shuffled_dir.mkdir(exist_ok=True, parents=True)"
            ]
        },
        {
            "cell_type": "markdown",
            "metadata": {},
            "source": [
                "## Load in training data and categorize the features as nuclear speckle (A647 or GOLD) or nucleus (DAPI) to use for model"
            ]
        },
        {
            "cell_type": "code",
            "execution_count": 3,
            "metadata": {},
            "outputs": [
                {
                    "name": "stdout",
                    "output_type": "stream",
                    "text": [
                        "Column names saved to features_dict.yml\n",
                        "Nucleus Features: 225\n",
                        "A647 Features: 170\n",
                        "Gold Features: 170\n"
                    ]
                }
            ],
            "source": [
                "# load in training data\n",
                "training_df = pd.read_parquet(pathlib.Path(\"./data/training_data.parquet\"))\n",
                "\n",
                "# Initialize lists to store column names for each feature group\n",
                "nucleus_features = []\n",
                "a647_features = []\n",
                "gold_features = []\n",
                "\n",
                "# Iterate over column names to categorize them\n",
                "for column in training_df.columns:\n",
                "    if not column.startswith(\"Metadata_\"):  # Only look at feature columns\n",
                "        parts = column.split(\"_\")\n",
                "\n",
                "        if \"Correlation\" in parts[1]:  # Check if it's a correlation feature\n",
                "            if \"DAPI\" in column:  # If DAPI is present in a correlation feature\n",
                "                if len(parts) > 4 and (\"A647\" in parts[3] or \"A647\" in parts[4]):\n",
                "                    a647_features.append(column)\n",
                "                elif len(parts) > 4 and (\"GOLD\" in parts[3] or \"GOLD\" in parts[4]):\n",
                "                    gold_features.append(column)\n",
                "            else:  # No DAPI in correlation feature, check only 4th part\n",
                "                if len(parts) > 3 and \"A647\" in parts[3]:\n",
                "                    a647_features.append(column)\n",
                "                elif len(parts) > 3 and \"GOLD\" in parts[3]:\n",
                "                    gold_features.append(column)\n",
                "        else:  # Non-correlation features\n",
                "            if len(parts) > 4 and \"Location\" in parts[1]:  # If it's a Location feature\n",
                "                if parts[4] == \"DAPI\":\n",
                "                    nucleus_features.append(column)\n",
                "                elif parts[4] == \"A647\":\n",
                "                    a647_features.append(column)\n",
                "                elif parts[4] == \"GOLD\":\n",
                "                    gold_features.append(column)\n",
                "            elif len(parts) > 3 and \"DAPI\" in parts[3]:\n",
                "                nucleus_features.append(column)\n",
                "            elif len(parts) > 3 and \"A647\" in parts[3]:\n",
                "                a647_features.append(column)\n",
                "            elif len(parts) > 3 and \"GOLD\" in parts[3]:\n",
                "                gold_features.append(column)\n",
                "            else:\n",
                "                nucleus_features.append(column)  # Default to nucleus_features\n",
                "\n",
                "\n",
                "# Prepare X data for with all nucleus features\n",
                "X = training_df[nucleus_features]\n",
                "\n",
                "# Generate shuffled data for the shuffled models to use (only do this once)\n",
                "X_shuffled = X.copy()\n",
                "for col in X_shuffled.columns:\n",
                "    np.random.shuffle(X_shuffled[col].values)  # Shuffle values in place, independently\n",
                "\n",
                "\n",
                "# Organize the column names into a dictionary\n",
                "features_dict = {\n",
                "    \"nucleus_features\": nucleus_features,\n",
                "    \"a647_features\": a647_features,\n",
                "    \"gold_features\": gold_features,\n",
                "}\n",
                "\n",
                "# Define the path to save the YAML file\n",
                "yaml_file_path = pathlib.Path(\"./features_dict.yml\")\n",
                "\n",
                "# Save the dictionary as a YAML file\n",
                "with open(yaml_file_path, \"w\") as yaml_file:\n",
                "    yaml.dump(features_dict, yaml_file, default_flow_style=False)\n",
                "\n",
                "print(f\"Column names saved to {yaml_file_path}\")\n",
                "\n",
                "# Print the lists to verify\n",
                "print(f\"Nucleus Features: {len(nucleus_features)}\")\n",
                "print(f\"A647 Features: {len(a647_features)}\")\n",
                "print(f\"Gold Features: {len(gold_features)}\")"
            ]
        },
        {
            "cell_type": "markdown",
            "metadata": {},
            "source": [
                "## Set hyperparameter parameters and search space"
            ]
        },
        {
            "cell_type": "code",
            "execution_count": 4,
            "metadata": {},
            "outputs": [],
            "source": [
                "# Set folds for k-fold cross-validation\n",
                "k_folds = KFold(n_splits=5, shuffle=True, random_state=0)\n",
                "\n",
                "# Set ElasticNet regression model parameters\n",
                "elasticnet_params = {\n",
                "    \"alpha\": 1.0,  # Equivalent to 'C' in LogisticRegression, but in reverse\n",
                "    \"l1_ratio\": 0.5,  # Mixture of L1 and L2 regularization\n",
                "    \"max_iter\": 10,\n",
                "    \"random_state\": 0,\n",
                "}\n",
                "\n",
                "# Define the hyperparameter search space for RandomizedSearchCV\n",
                "param_dist = {\n",
                "    \"alpha\": np.logspace(-3, 3, 7),  # Regularization strength\n",
                "    \"l1_ratio\": np.linspace(0, 1, 11),  # Mix of L1 and L2 regularization\n",
                "}\n",
                "\n",
                "# Set the random search hyperparameterization method parameters\n",
                "random_search_params = {\n",
                "    \"param_distributions\": param_dist,\n",
                "    \"scoring\": \"neg_mean_squared_error\",  # Suitable for regression\n",
                "    \"random_state\": 0,\n",
                "    \"n_jobs\": -1,\n",
                "    \"cv\": k_folds,\n",
                "}"
            ]
        },
        {
            "cell_type": "markdown",
            "metadata": {},
            "source": [
                "## Train A647 models"
            ]
        },
        {
            "cell_type": "code",
            "execution_count": 5,
            "metadata": {},
            "outputs": [
                {
                    "name": "stderr",
                    "output_type": "stream",
                    "text": [
                        "Processing A647 Features:   1%|          | 1/170 [00:08<22:42,  8.06s/it]"
                    ]
                },
                {
                    "name": "stdout",
                    "output_type": "stream",
                    "text": [
                        "Trained and saved tuned model for Nuclei_Correlation_Correlation_A647_DAPI\n",
                        "Trained and saved shuffled tuned model for Nuclei_Correlation_Correlation_A647_DAPI\n"
                    ]
                },
                {
                    "name": "stderr",
                    "output_type": "stream",
                    "text": [
                        "Processing A647 Features:   1%|          | 2/170 [00:14<20:02,  7.16s/it]"
                    ]
                },
                {
                    "name": "stdout",
                    "output_type": "stream",
                    "text": [
                        "Trained and saved tuned model for Nuclei_Correlation_Correlation_A647_GOLD\n",
                        "Trained and saved shuffled tuned model for Nuclei_Correlation_Correlation_A647_GOLD\n"
                    ]
                },
                {
                    "name": "stderr",
                    "output_type": "stream",
                    "text": [
                        "Processing A647 Features:   2%|\u258f         | 3/170 [00:21<19:07,  6.87s/it]"
                    ]
                },
                {
                    "name": "stdout",
                    "output_type": "stream",
                    "text": [
                        "Trained and saved tuned model for Nuclei_Correlation_Costes_DAPI_A647\n",
                        "Trained and saved shuffled tuned model for Nuclei_Correlation_Costes_DAPI_A647\n"
                    ]
                },
                {
                    "name": "stderr",
                    "output_type": "stream",
                    "text": [
                        "Processing A647 Features:   2%|\u258f         | 4/170 [00:27<18:47,  6.79s/it]"
                    ]
                },
                {
                    "name": "stdout",
                    "output_type": "stream",
                    "text": [
                        "Trained and saved tuned model for Nuclei_Correlation_Manders_A647_DAPI\n",
                        "Trained and saved shuffled tuned model for Nuclei_Correlation_Manders_A647_DAPI\n"
                    ]
                },
                {
                    "name": "stderr",
                    "output_type": "stream",
                    "text": [
                        "Processing A647 Features:   3%|\u258e         | 5/170 [00:34<18:24,  6.69s/it]"
                    ]
                },
                {
                    "name": "stdout",
                    "output_type": "stream",
                    "text": [
                        "Trained and saved tuned model for Nuclei_Correlation_Manders_A647_GOLD\n",
                        "Trained and saved shuffled tuned model for Nuclei_Correlation_Manders_A647_GOLD\n"
                    ]
                },
                {
                    "name": "stderr",
                    "output_type": "stream",
                    "text": [
                        "Processing A647 Features:   4%|\u258e         | 6/170 [00:40<18:06,  6.62s/it]"
                    ]
                },
                {
                    "name": "stdout",
                    "output_type": "stream",
                    "text": [
                        "Trained and saved tuned model for Nuclei_Correlation_Manders_DAPI_A647\n",
                        "Trained and saved shuffled tuned model for Nuclei_Correlation_Manders_DAPI_A647\n"
                    ]
                },
                {
                    "name": "stderr",
                    "output_type": "stream",
                    "text": [
                        "Processing A647 Features:   4%|\u258d         | 7/170 [00:47<17:52,  6.58s/it]"
                    ]
                },
                {
                    "name": "stdout",
                    "output_type": "stream",
                    "text": [
                        "Trained and saved tuned model for Nuclei_Correlation_RWC_A647_DAPI\n",
                        "Trained and saved shuffled tuned model for Nuclei_Correlation_RWC_A647_DAPI\n"
                    ]
                },
                {
                    "name": "stderr",
                    "output_type": "stream",
                    "text": [
                        "Processing A647 Features:   5%|\u258d         | 8/170 [00:53<17:38,  6.53s/it]"
                    ]
                },
                {
                    "name": "stdout",
                    "output_type": "stream",
                    "text": [
                        "Trained and saved tuned model for Nuclei_Correlation_RWC_A647_GOLD\n",
                        "Trained and saved shuffled tuned model for Nuclei_Correlation_RWC_A647_GOLD\n"
                    ]
                },
                {
                    "name": "stderr",
                    "output_type": "stream",
                    "text": [
                        "Processing A647 Features:   5%|\u258c         | 9/170 [01:00<17:30,  6.53s/it]"
                    ]
                },
                {
                    "name": "stdout",
                    "output_type": "stream",
                    "text": [
                        "Trained and saved tuned model for Nuclei_Correlation_RWC_DAPI_A647\n",
                        "Trained and saved shuffled tuned model for Nuclei_Correlation_RWC_DAPI_A647\n"
                    ]
                },
                {
                    "name": "stderr",
                    "output_type": "stream",
                    "text": [
                        "Processing A647 Features:   6%|\u258c         | 10/170 [01:06<17:20,  6.50s/it]"
                    ]
                },
                {
                    "name": "stdout",
                    "output_type": "stream",
                    "text": [
                        "Trained and saved tuned model for Nuclei_Granularity_10_A647\n",
                        "Trained and saved shuffled tuned model for Nuclei_Granularity_10_A647\n"
                    ]
                },
                {
                    "name": "stderr",
                    "output_type": "stream",
                    "text": [
                        "Processing A647 Features:   6%|\u258b         | 11/170 [01:13<17:10,  6.48s/it]"
                    ]
                },
                {
                    "name": "stdout",
                    "output_type": "stream",
                    "text": [
                        "Trained and saved tuned model for Nuclei_Granularity_11_A647\n",
                        "Trained and saved shuffled tuned model for Nuclei_Granularity_11_A647\n"
                    ]
                },
                {
                    "name": "stderr",
                    "output_type": "stream",
                    "text": [
                        "Processing A647 Features:   7%|\u258b         | 12/170 [01:19<17:01,  6.46s/it]"
                    ]
                },
                {
                    "name": "stdout",
                    "output_type": "stream",
                    "text": [
                        "Trained and saved tuned model for Nuclei_Granularity_12_A647\n",
                        "Trained and saved shuffled tuned model for Nuclei_Granularity_12_A647\n"
                    ]
                },
                {
                    "name": "stderr",
                    "output_type": "stream",
                    "text": [
                        "Processing A647 Features:   8%|\u258a         | 13/170 [01:25<16:53,  6.46s/it]"
                    ]
                },
                {
                    "name": "stdout",
                    "output_type": "stream",
                    "text": [
                        "Trained and saved tuned model for Nuclei_Granularity_13_A647\n",
                        "Trained and saved shuffled tuned model for Nuclei_Granularity_13_A647\n"
                    ]
                },
                {
                    "name": "stderr",
                    "output_type": "stream",
                    "text": [
                        "Processing A647 Features:   8%|\u258a         | 14/170 [01:32<16:47,  6.46s/it]"
                    ]
                },
                {
                    "name": "stdout",
                    "output_type": "stream",
                    "text": [
                        "Trained and saved tuned model for Nuclei_Granularity_14_A647\n",
                        "Trained and saved shuffled tuned model for Nuclei_Granularity_14_A647\n"
                    ]
                },
                {
                    "name": "stderr",
                    "output_type": "stream",
                    "text": [
                        "Processing A647 Features:   9%|\u2589         | 15/170 [01:38<16:40,  6.45s/it]"
                    ]
                },
                {
                    "name": "stdout",
                    "output_type": "stream",
                    "text": [
                        "Trained and saved tuned model for Nuclei_Granularity_15_A647\n",
                        "Trained and saved shuffled tuned model for Nuclei_Granularity_15_A647\n"
                    ]
                },
                {
                    "name": "stderr",
                    "output_type": "stream",
                    "text": [
                        "Processing A647 Features:   9%|\u2589         | 16/170 [01:45<16:33,  6.45s/it]"
                    ]
                },
                {
                    "name": "stdout",
                    "output_type": "stream",
                    "text": [
                        "Trained and saved tuned model for Nuclei_Granularity_16_A647\n",
                        "Trained and saved shuffled tuned model for Nuclei_Granularity_16_A647\n"
                    ]
                },
                {
                    "name": "stderr",
                    "output_type": "stream",
                    "text": [
                        "Processing A647 Features:  10%|\u2588         | 17/170 [01:51<16:31,  6.48s/it]"
                    ]
                },
                {
                    "name": "stdout",
                    "output_type": "stream",
                    "text": [
                        "Trained and saved tuned model for Nuclei_Granularity_1_A647\n",
                        "Trained and saved shuffled tuned model for Nuclei_Granularity_1_A647\n"
                    ]
                },
                {
                    "name": "stderr",
                    "output_type": "stream",
                    "text": [
                        "Processing A647 Features:  11%|\u2588         | 18/170 [01:58<16:24,  6.48s/it]"
                    ]
                },
                {
                    "name": "stdout",
                    "output_type": "stream",
                    "text": [
                        "Trained and saved tuned model for Nuclei_Granularity_2_A647\n",
                        "Trained and saved shuffled tuned model for Nuclei_Granularity_2_A647\n"
                    ]
                },
                {
                    "name": "stderr",
                    "output_type": "stream",
                    "text": [
                        "Processing A647 Features:  11%|\u2588         | 19/170 [02:04<16:18,  6.48s/it]"
                    ]
                },
                {
                    "name": "stdout",
                    "output_type": "stream",
                    "text": [
                        "Trained and saved tuned model for Nuclei_Granularity_3_A647\n",
                        "Trained and saved shuffled tuned model for Nuclei_Granularity_3_A647\n"
                    ]
                },
                {
                    "name": "stderr",
                    "output_type": "stream",
                    "text": [
                        "Processing A647 Features:  12%|\u2588\u258f        | 20/170 [02:11<16:11,  6.48s/it]"
                    ]
                },
                {
                    "name": "stdout",
                    "output_type": "stream",
                    "text": [
                        "Trained and saved tuned model for Nuclei_Granularity_4_A647\n",
                        "Trained and saved shuffled tuned model for Nuclei_Granularity_4_A647\n"
                    ]
                },
                {
                    "name": "stderr",
                    "output_type": "stream",
                    "text": [
                        "Processing A647 Features:  12%|\u2588\u258f        | 21/170 [02:17<16:03,  6.47s/it]"
                    ]
                },
                {
                    "name": "stdout",
                    "output_type": "stream",
                    "text": [
                        "Trained and saved tuned model for Nuclei_Granularity_5_A647\n",
                        "Trained and saved shuffled tuned model for Nuclei_Granularity_5_A647\n"
                    ]
                },
                {
                    "name": "stderr",
                    "output_type": "stream",
                    "text": [
                        "Processing A647 Features:  13%|\u2588\u258e        | 22/170 [02:24<15:56,  6.46s/it]"
                    ]
                },
                {
                    "name": "stdout",
                    "output_type": "stream",
                    "text": [
                        "Trained and saved tuned model for Nuclei_Granularity_6_A647\n",
                        "Trained and saved shuffled tuned model for Nuclei_Granularity_6_A647\n"
                    ]
                },
                {
                    "name": "stderr",
                    "output_type": "stream",
                    "text": [
                        "Processing A647 Features:  14%|\u2588\u258e        | 23/170 [02:30<15:50,  6.47s/it]"
                    ]
                },
                {
                    "name": "stdout",
                    "output_type": "stream",
                    "text": [
                        "Trained and saved tuned model for Nuclei_Granularity_7_A647\n",
                        "Trained and saved shuffled tuned model for Nuclei_Granularity_7_A647\n"
                    ]
                },
                {
                    "name": "stderr",
                    "output_type": "stream",
                    "text": [
                        "Processing A647 Features:  14%|\u2588\u258d        | 24/170 [02:37<15:43,  6.46s/it]"
                    ]
                },
                {
                    "name": "stdout",
                    "output_type": "stream",
                    "text": [
                        "Trained and saved tuned model for Nuclei_Granularity_8_A647\n",
                        "Trained and saved shuffled tuned model for Nuclei_Granularity_8_A647\n"
                    ]
                },
                {
                    "name": "stderr",
                    "output_type": "stream",
                    "text": [
                        "Processing A647 Features:  15%|\u2588\u258d        | 25/170 [02:43<15:40,  6.48s/it]"
                    ]
                },
                {
                    "name": "stdout",
                    "output_type": "stream",
                    "text": [
                        "Trained and saved tuned model for Nuclei_Granularity_9_A647\n",
                        "Trained and saved shuffled tuned model for Nuclei_Granularity_9_A647\n"
                    ]
                },
                {
                    "name": "stderr",
                    "output_type": "stream",
                    "text": [
                        "Processing A647 Features:  15%|\u2588\u258c        | 26/170 [02:50<15:56,  6.64s/it]"
                    ]
                },
                {
                    "name": "stdout",
                    "output_type": "stream",
                    "text": [
                        "Trained and saved tuned model for Nuclei_Intensity_IntegratedIntensityEdge_A647\n",
                        "Trained and saved shuffled tuned model for Nuclei_Intensity_IntegratedIntensityEdge_A647\n"
                    ]
                },
                {
                    "name": "stderr",
                    "output_type": "stream",
                    "text": [
                        "Processing A647 Features:  16%|\u2588\u258c        | 27/170 [02:57<15:41,  6.58s/it]"
                    ]
                },
                {
                    "name": "stdout",
                    "output_type": "stream",
                    "text": [
                        "Trained and saved tuned model for Nuclei_Intensity_IntegratedIntensity_A647\n",
                        "Trained and saved shuffled tuned model for Nuclei_Intensity_IntegratedIntensity_A647\n"
                    ]
                },
                {
                    "name": "stderr",
                    "output_type": "stream",
                    "text": [
                        "Processing A647 Features:  16%|\u2588\u258b        | 28/170 [03:03<15:29,  6.55s/it]"
                    ]
                },
                {
                    "name": "stdout",
                    "output_type": "stream",
                    "text": [
                        "Trained and saved tuned model for Nuclei_Intensity_LowerQuartileIntensity_A647\n",
                        "Trained and saved shuffled tuned model for Nuclei_Intensity_LowerQuartileIntensity_A647\n"
                    ]
                },
                {
                    "name": "stderr",
                    "output_type": "stream",
                    "text": [
                        "Processing A647 Features:  17%|\u2588\u258b        | 29/170 [03:10<15:21,  6.54s/it]"
                    ]
                },
                {
                    "name": "stdout",
                    "output_type": "stream",
                    "text": [
                        "Trained and saved tuned model for Nuclei_Intensity_MADIntensity_A647\n",
                        "Trained and saved shuffled tuned model for Nuclei_Intensity_MADIntensity_A647\n"
                    ]
                },
                {
                    "name": "stderr",
                    "output_type": "stream",
                    "text": [
                        "Processing A647 Features:  18%|\u2588\u258a        | 30/170 [03:16<15:11,  6.51s/it]"
                    ]
                },
                {
                    "name": "stdout",
                    "output_type": "stream",
                    "text": [
                        "Trained and saved tuned model for Nuclei_Intensity_MassDisplacement_A647\n",
                        "Trained and saved shuffled tuned model for Nuclei_Intensity_MassDisplacement_A647\n"
                    ]
                },
                {
                    "name": "stderr",
                    "output_type": "stream",
                    "text": [
                        "Processing A647 Features:  18%|\u2588\u258a        | 31/170 [03:23<15:03,  6.50s/it]"
                    ]
                },
                {
                    "name": "stdout",
                    "output_type": "stream",
                    "text": [
                        "Trained and saved tuned model for Nuclei_Intensity_MaxIntensityEdge_A647\n",
                        "Trained and saved shuffled tuned model for Nuclei_Intensity_MaxIntensityEdge_A647\n"
                    ]
                },
                {
                    "name": "stderr",
                    "output_type": "stream",
                    "text": [
                        "Processing A647 Features:  19%|\u2588\u2589        | 32/170 [03:29<14:55,  6.49s/it]"
                    ]
                },
                {
                    "name": "stdout",
                    "output_type": "stream",
                    "text": [
                        "Trained and saved tuned model for Nuclei_Intensity_MaxIntensity_A647\n",
                        "Trained and saved shuffled tuned model for Nuclei_Intensity_MaxIntensity_A647\n"
                    ]
                },
                {
                    "name": "stderr",
                    "output_type": "stream",
                    "text": [
                        "Processing A647 Features:  19%|\u2588\u2589        | 33/170 [03:36<14:51,  6.50s/it]"
                    ]
                },
                {
                    "name": "stdout",
                    "output_type": "stream",
                    "text": [
                        "Trained and saved tuned model for Nuclei_Intensity_MeanIntensityEdge_A647\n",
                        "Trained and saved shuffled tuned model for Nuclei_Intensity_MeanIntensityEdge_A647\n"
                    ]
                },
                {
                    "name": "stderr",
                    "output_type": "stream",
                    "text": [
                        "Processing A647 Features:  20%|\u2588\u2588        | 34/170 [03:42<14:44,  6.50s/it]"
                    ]
                },
                {
                    "name": "stdout",
                    "output_type": "stream",
                    "text": [
                        "Trained and saved tuned model for Nuclei_Intensity_MeanIntensity_A647\n",
                        "Trained and saved shuffled tuned model for Nuclei_Intensity_MeanIntensity_A647\n"
                    ]
                },
                {
                    "name": "stderr",
                    "output_type": "stream",
                    "text": [
                        "Processing A647 Features:  21%|\u2588\u2588        | 35/170 [03:48<14:35,  6.49s/it]"
                    ]
                },
                {
                    "name": "stdout",
                    "output_type": "stream",
                    "text": [
                        "Trained and saved tuned model for Nuclei_Intensity_MedianIntensity_A647\n",
                        "Trained and saved shuffled tuned model for Nuclei_Intensity_MedianIntensity_A647\n"
                    ]
                },
                {
                    "name": "stderr",
                    "output_type": "stream",
                    "text": [
                        "Processing A647 Features:  21%|\u2588\u2588        | 36/170 [03:55<14:28,  6.48s/it]"
                    ]
                },
                {
                    "name": "stdout",
                    "output_type": "stream",
                    "text": [
                        "Trained and saved tuned model for Nuclei_Intensity_MinIntensityEdge_A647\n",
                        "Trained and saved shuffled tuned model for Nuclei_Intensity_MinIntensityEdge_A647\n"
                    ]
                },
                {
                    "name": "stderr",
                    "output_type": "stream",
                    "text": [
                        "Processing A647 Features:  22%|\u2588\u2588\u258f       | 37/170 [04:01<14:23,  6.49s/it]"
                    ]
                },
                {
                    "name": "stdout",
                    "output_type": "stream",
                    "text": [
                        "Trained and saved tuned model for Nuclei_Intensity_MinIntensity_A647\n",
                        "Trained and saved shuffled tuned model for Nuclei_Intensity_MinIntensity_A647\n"
                    ]
                },
                {
                    "name": "stderr",
                    "output_type": "stream",
                    "text": [
                        "Processing A647 Features:  22%|\u2588\u2588\u258f       | 38/170 [04:08<14:15,  6.48s/it]"
                    ]
                },
                {
                    "name": "stdout",
                    "output_type": "stream",
                    "text": [
                        "Trained and saved tuned model for Nuclei_Intensity_StdIntensityEdge_A647\n",
                        "Trained and saved shuffled tuned model for Nuclei_Intensity_StdIntensityEdge_A647\n"
                    ]
                },
                {
                    "name": "stderr",
                    "output_type": "stream",
                    "text": [
                        "Processing A647 Features:  23%|\u2588\u2588\u258e       | 39/170 [04:14<14:07,  6.47s/it]"
                    ]
                },
                {
                    "name": "stdout",
                    "output_type": "stream",
                    "text": [
                        "Trained and saved tuned model for Nuclei_Intensity_StdIntensity_A647\n",
                        "Trained and saved shuffled tuned model for Nuclei_Intensity_StdIntensity_A647\n"
                    ]
                },
                {
                    "name": "stderr",
                    "output_type": "stream",
                    "text": [
                        "Processing A647 Features:  24%|\u2588\u2588\u258e       | 40/170 [04:21<14:00,  6.46s/it]"
                    ]
                },
                {
                    "name": "stdout",
                    "output_type": "stream",
                    "text": [
                        "Trained and saved tuned model for Nuclei_Intensity_UpperQuartileIntensity_A647\n",
                        "Trained and saved shuffled tuned model for Nuclei_Intensity_UpperQuartileIntensity_A647\n"
                    ]
                },
                {
                    "name": "stderr",
                    "output_type": "stream",
                    "text": [
                        "Processing A647 Features:  24%|\u2588\u2588\u258d       | 41/170 [04:27<13:54,  6.47s/it]"
                    ]
                },
                {
                    "name": "stdout",
                    "output_type": "stream",
                    "text": [
                        "Trained and saved tuned model for Nuclei_Location_CenterMassIntensity_X_A647\n",
                        "Trained and saved shuffled tuned model for Nuclei_Location_CenterMassIntensity_X_A647\n"
                    ]
                },
                {
                    "name": "stderr",
                    "output_type": "stream",
                    "text": [
                        "Processing A647 Features:  25%|\u2588\u2588\u258d       | 42/170 [04:34<13:47,  6.46s/it]"
                    ]
                },
                {
                    "name": "stdout",
                    "output_type": "stream",
                    "text": [
                        "Trained and saved tuned model for Nuclei_Location_CenterMassIntensity_Y_A647\n",
                        "Trained and saved shuffled tuned model for Nuclei_Location_CenterMassIntensity_Y_A647\n"
                    ]
                },
                {
                    "name": "stderr",
                    "output_type": "stream",
                    "text": [
                        "Processing A647 Features:  25%|\u2588\u2588\u258c       | 43/170 [04:44<16:06,  7.61s/it]"
                    ]
                },
                {
                    "name": "stdout",
                    "output_type": "stream",
                    "text": [
                        "Trained and saved tuned model for Nuclei_Location_CenterMassIntensity_Z_A647\n",
                        "Trained and saved shuffled tuned model for Nuclei_Location_CenterMassIntensity_Z_A647\n"
                    ]
                },
                {
                    "name": "stderr",
                    "output_type": "stream",
                    "text": [
                        "Processing A647 Features:  26%|\u2588\u2588\u258c       | 44/170 [04:50<15:15,  7.27s/it]"
                    ]
                },
                {
                    "name": "stdout",
                    "output_type": "stream",
                    "text": [
                        "Trained and saved tuned model for Nuclei_Location_MaxIntensity_X_A647\n",
                        "Trained and saved shuffled tuned model for Nuclei_Location_MaxIntensity_X_A647\n"
                    ]
                },
                {
                    "name": "stderr",
                    "output_type": "stream",
                    "text": [
                        "Processing A647 Features:  26%|\u2588\u2588\u258b       | 45/170 [04:57<14:37,  7.02s/it]"
                    ]
                },
                {
                    "name": "stdout",
                    "output_type": "stream",
                    "text": [
                        "Trained and saved tuned model for Nuclei_Location_MaxIntensity_Y_A647\n",
                        "Trained and saved shuffled tuned model for Nuclei_Location_MaxIntensity_Y_A647\n"
                    ]
                },
                {
                    "name": "stderr",
                    "output_type": "stream",
                    "text": [
                        "Processing A647 Features:  27%|\u2588\u2588\u258b       | 46/170 [05:07<16:27,  7.97s/it]"
                    ]
                },
                {
                    "name": "stdout",
                    "output_type": "stream",
                    "text": [
                        "Trained and saved tuned model for Nuclei_Location_MaxIntensity_Z_A647\n",
                        "Trained and saved shuffled tuned model for Nuclei_Location_MaxIntensity_Z_A647\n"
                    ]
                },
                {
                    "name": "stderr",
                    "output_type": "stream",
                    "text": [
                        "Processing A647 Features:  28%|\u2588\u2588\u258a       | 47/170 [05:14<15:28,  7.55s/it]"
                    ]
                },
                {
                    "name": "stdout",
                    "output_type": "stream",
                    "text": [
                        "Trained and saved tuned model for Nuclei_RadialDistribution_FracAtD_A647_1of4\n",
                        "Trained and saved shuffled tuned model for Nuclei_RadialDistribution_FracAtD_A647_1of4\n"
                    ]
                },
                {
                    "name": "stderr",
                    "output_type": "stream",
                    "text": [
                        "Processing A647 Features:  28%|\u2588\u2588\u258a       | 48/170 [05:20<14:42,  7.23s/it]"
                    ]
                },
                {
                    "name": "stdout",
                    "output_type": "stream",
                    "text": [
                        "Trained and saved tuned model for Nuclei_RadialDistribution_FracAtD_A647_2of4\n",
                        "Trained and saved shuffled tuned model for Nuclei_RadialDistribution_FracAtD_A647_2of4\n"
                    ]
                },
                {
                    "name": "stderr",
                    "output_type": "stream",
                    "text": [
                        "Processing A647 Features:  29%|\u2588\u2588\u2589       | 49/170 [05:27<14:06,  6.99s/it]"
                    ]
                },
                {
                    "name": "stdout",
                    "output_type": "stream",
                    "text": [
                        "Trained and saved tuned model for Nuclei_RadialDistribution_FracAtD_A647_3of4\n",
                        "Trained and saved shuffled tuned model for Nuclei_RadialDistribution_FracAtD_A647_3of4\n"
                    ]
                },
                {
                    "name": "stderr",
                    "output_type": "stream",
                    "text": [
                        "Processing A647 Features:  29%|\u2588\u2588\u2589       | 50/170 [05:33<13:40,  6.84s/it]"
                    ]
                },
                {
                    "name": "stdout",
                    "output_type": "stream",
                    "text": [
                        "Trained and saved tuned model for Nuclei_RadialDistribution_FracAtD_A647_4of4\n",
                        "Trained and saved shuffled tuned model for Nuclei_RadialDistribution_FracAtD_A647_4of4\n"
                    ]
                },
                {
                    "name": "stderr",
                    "output_type": "stream",
                    "text": [
                        "Processing A647 Features:  30%|\u2588\u2588\u2588       | 51/170 [05:40<13:21,  6.73s/it]"
                    ]
                },
                {
                    "name": "stdout",
                    "output_type": "stream",
                    "text": [
                        "Trained and saved tuned model for Nuclei_RadialDistribution_MeanFrac_A647_1of4\n",
                        "Trained and saved shuffled tuned model for Nuclei_RadialDistribution_MeanFrac_A647_1of4\n"
                    ]
                },
                {
                    "name": "stderr",
                    "output_type": "stream",
                    "text": [
                        "Processing A647 Features:  31%|\u2588\u2588\u2588       | 52/170 [05:46<13:05,  6.66s/it]"
                    ]
                },
                {
                    "name": "stdout",
                    "output_type": "stream",
                    "text": [
                        "Trained and saved tuned model for Nuclei_RadialDistribution_MeanFrac_A647_2of4\n",
                        "Trained and saved shuffled tuned model for Nuclei_RadialDistribution_MeanFrac_A647_2of4\n"
                    ]
                },
                {
                    "name": "stderr",
                    "output_type": "stream",
                    "text": [
                        "Processing A647 Features:  31%|\u2588\u2588\u2588       | 53/170 [05:53<12:53,  6.61s/it]"
                    ]
                },
                {
                    "name": "stdout",
                    "output_type": "stream",
                    "text": [
                        "Trained and saved tuned model for Nuclei_RadialDistribution_MeanFrac_A647_3of4\n",
                        "Trained and saved shuffled tuned model for Nuclei_RadialDistribution_MeanFrac_A647_3of4\n"
                    ]
                },
                {
                    "name": "stderr",
                    "output_type": "stream",
                    "text": [
                        "Processing A647 Features:  32%|\u2588\u2588\u2588\u258f      | 54/170 [05:59<12:41,  6.57s/it]"
                    ]
                },
                {
                    "name": "stdout",
                    "output_type": "stream",
                    "text": [
                        "Trained and saved tuned model for Nuclei_RadialDistribution_MeanFrac_A647_4of4\n",
                        "Trained and saved shuffled tuned model for Nuclei_RadialDistribution_MeanFrac_A647_4of4\n"
                    ]
                },
                {
                    "name": "stderr",
                    "output_type": "stream",
                    "text": [
                        "Processing A647 Features:  32%|\u2588\u2588\u2588\u258f      | 55/170 [06:05<12:31,  6.53s/it]"
                    ]
                },
                {
                    "name": "stdout",
                    "output_type": "stream",
                    "text": [
                        "Trained and saved tuned model for Nuclei_RadialDistribution_RadialCV_A647_1of4\n",
                        "Trained and saved shuffled tuned model for Nuclei_RadialDistribution_RadialCV_A647_1of4\n"
                    ]
                },
                {
                    "name": "stderr",
                    "output_type": "stream",
                    "text": [
                        "Processing A647 Features:  33%|\u2588\u2588\u2588\u258e      | 56/170 [06:12<12:26,  6.55s/it]"
                    ]
                },
                {
                    "name": "stdout",
                    "output_type": "stream",
                    "text": [
                        "Trained and saved tuned model for Nuclei_RadialDistribution_RadialCV_A647_2of4\n",
                        "Trained and saved shuffled tuned model for Nuclei_RadialDistribution_RadialCV_A647_2of4\n"
                    ]
                },
                {
                    "name": "stderr",
                    "output_type": "stream",
                    "text": [
                        "Processing A647 Features:  34%|\u2588\u2588\u2588\u258e      | 57/170 [06:19<12:17,  6.53s/it]"
                    ]
                },
                {
                    "name": "stdout",
                    "output_type": "stream",
                    "text": [
                        "Trained and saved tuned model for Nuclei_RadialDistribution_RadialCV_A647_3of4\n",
                        "Trained and saved shuffled tuned model for Nuclei_RadialDistribution_RadialCV_A647_3of4\n"
                    ]
                },
                {
                    "name": "stderr",
                    "output_type": "stream",
                    "text": [
                        "Processing A647 Features:  34%|\u2588\u2588\u2588\u258d      | 58/170 [06:25<12:08,  6.51s/it]"
                    ]
                },
                {
                    "name": "stdout",
                    "output_type": "stream",
                    "text": [
                        "Trained and saved tuned model for Nuclei_RadialDistribution_RadialCV_A647_4of4\n",
                        "Trained and saved shuffled tuned model for Nuclei_RadialDistribution_RadialCV_A647_4of4\n"
                    ]
                },
                {
                    "name": "stderr",
                    "output_type": "stream",
                    "text": [
                        "Processing A647 Features:  35%|\u2588\u2588\u2588\u258d      | 59/170 [06:32<12:05,  6.54s/it]"
                    ]
                },
                {
                    "name": "stdout",
                    "output_type": "stream",
                    "text": [
                        "Trained and saved tuned model for Nuclei_RadialDistribution_ZernikeMagnitude_A647_0_0\n",
                        "Trained and saved shuffled tuned model for Nuclei_RadialDistribution_ZernikeMagnitude_A647_0_0\n"
                    ]
                },
                {
                    "name": "stderr",
                    "output_type": "stream",
                    "text": [
                        "Processing A647 Features:  35%|\u2588\u2588\u2588\u258c      | 60/170 [06:38<11:58,  6.53s/it]"
                    ]
                },
                {
                    "name": "stdout",
                    "output_type": "stream",
                    "text": [
                        "Trained and saved tuned model for Nuclei_RadialDistribution_ZernikeMagnitude_A647_1_1\n",
                        "Trained and saved shuffled tuned model for Nuclei_RadialDistribution_ZernikeMagnitude_A647_1_1\n"
                    ]
                },
                {
                    "name": "stderr",
                    "output_type": "stream",
                    "text": [
                        "Processing A647 Features:  36%|\u2588\u2588\u2588\u258c      | 61/170 [06:45<11:49,  6.51s/it]"
                    ]
                },
                {
                    "name": "stdout",
                    "output_type": "stream",
                    "text": [
                        "Trained and saved tuned model for Nuclei_RadialDistribution_ZernikeMagnitude_A647_2_0\n",
                        "Trained and saved shuffled tuned model for Nuclei_RadialDistribution_ZernikeMagnitude_A647_2_0\n"
                    ]
                },
                {
                    "name": "stderr",
                    "output_type": "stream",
                    "text": [
                        "Processing A647 Features:  36%|\u2588\u2588\u2588\u258b      | 62/170 [06:51<11:42,  6.51s/it]"
                    ]
                },
                {
                    "name": "stdout",
                    "output_type": "stream",
                    "text": [
                        "Trained and saved tuned model for Nuclei_RadialDistribution_ZernikeMagnitude_A647_2_2\n",
                        "Trained and saved shuffled tuned model for Nuclei_RadialDistribution_ZernikeMagnitude_A647_2_2\n"
                    ]
                },
                {
                    "name": "stderr",
                    "output_type": "stream",
                    "text": [
                        "Processing A647 Features:  37%|\u2588\u2588\u2588\u258b      | 63/170 [06:58<11:34,  6.50s/it]"
                    ]
                },
                {
                    "name": "stdout",
                    "output_type": "stream",
                    "text": [
                        "Trained and saved tuned model for Nuclei_RadialDistribution_ZernikeMagnitude_A647_3_1\n",
                        "Trained and saved shuffled tuned model for Nuclei_RadialDistribution_ZernikeMagnitude_A647_3_1\n"
                    ]
                },
                {
                    "name": "stderr",
                    "output_type": "stream",
                    "text": [
                        "Processing A647 Features:  38%|\u2588\u2588\u2588\u258a      | 64/170 [07:04<11:24,  6.46s/it]"
                    ]
                },
                {
                    "name": "stdout",
                    "output_type": "stream",
                    "text": [
                        "Trained and saved tuned model for Nuclei_RadialDistribution_ZernikeMagnitude_A647_3_3\n",
                        "Trained and saved shuffled tuned model for Nuclei_RadialDistribution_ZernikeMagnitude_A647_3_3\n"
                    ]
                },
                {
                    "name": "stderr",
                    "output_type": "stream",
                    "text": [
                        "Processing A647 Features:  38%|\u2588\u2588\u2588\u258a      | 65/170 [07:10<11:16,  6.44s/it]"
                    ]
                },
                {
                    "name": "stdout",
                    "output_type": "stream",
                    "text": [
                        "Trained and saved tuned model for Nuclei_RadialDistribution_ZernikeMagnitude_A647_4_0\n",
                        "Trained and saved shuffled tuned model for Nuclei_RadialDistribution_ZernikeMagnitude_A647_4_0\n"
                    ]
                },
                {
                    "name": "stderr",
                    "output_type": "stream",
                    "text": [
                        "Processing A647 Features:  39%|\u2588\u2588\u2588\u2589      | 66/170 [07:17<11:11,  6.45s/it]"
                    ]
                },
                {
                    "name": "stdout",
                    "output_type": "stream",
                    "text": [
                        "Trained and saved tuned model for Nuclei_RadialDistribution_ZernikeMagnitude_A647_4_2\n",
                        "Trained and saved shuffled tuned model for Nuclei_RadialDistribution_ZernikeMagnitude_A647_4_2\n"
                    ]
                },
                {
                    "name": "stderr",
                    "output_type": "stream",
                    "text": [
                        "Processing A647 Features:  39%|\u2588\u2588\u2588\u2589      | 67/170 [07:23<11:04,  6.46s/it]"
                    ]
                },
                {
                    "name": "stdout",
                    "output_type": "stream",
                    "text": [
                        "Trained and saved tuned model for Nuclei_RadialDistribution_ZernikeMagnitude_A647_4_4\n",
                        "Trained and saved shuffled tuned model for Nuclei_RadialDistribution_ZernikeMagnitude_A647_4_4\n"
                    ]
                },
                {
                    "name": "stderr",
                    "output_type": "stream",
                    "text": [
                        "Processing A647 Features:  40%|\u2588\u2588\u2588\u2588      | 68/170 [07:30<10:56,  6.44s/it]"
                    ]
                },
                {
                    "name": "stdout",
                    "output_type": "stream",
                    "text": [
                        "Trained and saved tuned model for Nuclei_RadialDistribution_ZernikeMagnitude_A647_5_1\n",
                        "Trained and saved shuffled tuned model for Nuclei_RadialDistribution_ZernikeMagnitude_A647_5_1\n"
                    ]
                },
                {
                    "name": "stderr",
                    "output_type": "stream",
                    "text": [
                        "Processing A647 Features:  41%|\u2588\u2588\u2588\u2588      | 69/170 [07:36<10:52,  6.46s/it]"
                    ]
                },
                {
                    "name": "stdout",
                    "output_type": "stream",
                    "text": [
                        "Trained and saved tuned model for Nuclei_RadialDistribution_ZernikeMagnitude_A647_5_3\n",
                        "Trained and saved shuffled tuned model for Nuclei_RadialDistribution_ZernikeMagnitude_A647_5_3\n"
                    ]
                },
                {
                    "name": "stderr",
                    "output_type": "stream",
                    "text": [
                        "Processing A647 Features:  41%|\u2588\u2588\u2588\u2588      | 70/170 [07:43<10:45,  6.46s/it]"
                    ]
                },
                {
                    "name": "stdout",
                    "output_type": "stream",
                    "text": [
                        "Trained and saved tuned model for Nuclei_RadialDistribution_ZernikeMagnitude_A647_5_5\n",
                        "Trained and saved shuffled tuned model for Nuclei_RadialDistribution_ZernikeMagnitude_A647_5_5\n"
                    ]
                },
                {
                    "name": "stderr",
                    "output_type": "stream",
                    "text": [
                        "Processing A647 Features:  42%|\u2588\u2588\u2588\u2588\u258f     | 71/170 [07:49<10:39,  6.46s/it]"
                    ]
                },
                {
                    "name": "stdout",
                    "output_type": "stream",
                    "text": [
                        "Trained and saved tuned model for Nuclei_RadialDistribution_ZernikeMagnitude_A647_6_0\n",
                        "Trained and saved shuffled tuned model for Nuclei_RadialDistribution_ZernikeMagnitude_A647_6_0\n"
                    ]
                },
                {
                    "name": "stderr",
                    "output_type": "stream",
                    "text": [
                        "Processing A647 Features:  42%|\u2588\u2588\u2588\u2588\u258f     | 72/170 [07:56<10:33,  6.46s/it]"
                    ]
                },
                {
                    "name": "stdout",
                    "output_type": "stream",
                    "text": [
                        "Trained and saved tuned model for Nuclei_RadialDistribution_ZernikeMagnitude_A647_6_2\n",
                        "Trained and saved shuffled tuned model for Nuclei_RadialDistribution_ZernikeMagnitude_A647_6_2\n"
                    ]
                },
                {
                    "name": "stderr",
                    "output_type": "stream",
                    "text": [
                        "Processing A647 Features:  43%|\u2588\u2588\u2588\u2588\u258e     | 73/170 [08:02<10:24,  6.44s/it]"
                    ]
                },
                {
                    "name": "stdout",
                    "output_type": "stream",
                    "text": [
                        "Trained and saved tuned model for Nuclei_RadialDistribution_ZernikeMagnitude_A647_6_4\n",
                        "Trained and saved shuffled tuned model for Nuclei_RadialDistribution_ZernikeMagnitude_A647_6_4\n"
                    ]
                },
                {
                    "name": "stderr",
                    "output_type": "stream",
                    "text": [
                        "Processing A647 Features:  44%|\u2588\u2588\u2588\u2588\u258e     | 74/170 [08:08<10:20,  6.46s/it]"
                    ]
                },
                {
                    "name": "stdout",
                    "output_type": "stream",
                    "text": [
                        "Trained and saved tuned model for Nuclei_RadialDistribution_ZernikeMagnitude_A647_6_6\n",
                        "Trained and saved shuffled tuned model for Nuclei_RadialDistribution_ZernikeMagnitude_A647_6_6\n"
                    ]
                },
                {
                    "name": "stderr",
                    "output_type": "stream",
                    "text": [
                        "Processing A647 Features:  44%|\u2588\u2588\u2588\u2588\u258d     | 75/170 [08:15<10:13,  6.46s/it]"
                    ]
                },
                {
                    "name": "stdout",
                    "output_type": "stream",
                    "text": [
                        "Trained and saved tuned model for Nuclei_RadialDistribution_ZernikeMagnitude_A647_7_1\n",
                        "Trained and saved shuffled tuned model for Nuclei_RadialDistribution_ZernikeMagnitude_A647_7_1\n"
                    ]
                },
                {
                    "name": "stderr",
                    "output_type": "stream",
                    "text": [
                        "Processing A647 Features:  45%|\u2588\u2588\u2588\u2588\u258d     | 76/170 [08:21<10:07,  6.46s/it]"
                    ]
                },
                {
                    "name": "stdout",
                    "output_type": "stream",
                    "text": [
                        "Trained and saved tuned model for Nuclei_RadialDistribution_ZernikeMagnitude_A647_7_3\n",
                        "Trained and saved shuffled tuned model for Nuclei_RadialDistribution_ZernikeMagnitude_A647_7_3\n"
                    ]
                },
                {
                    "name": "stderr",
                    "output_type": "stream",
                    "text": [
                        "Processing A647 Features:  45%|\u2588\u2588\u2588\u2588\u258c     | 77/170 [08:28<10:02,  6.48s/it]"
                    ]
                },
                {
                    "name": "stdout",
                    "output_type": "stream",
                    "text": [
                        "Trained and saved tuned model for Nuclei_RadialDistribution_ZernikeMagnitude_A647_7_5\n",
                        "Trained and saved shuffled tuned model for Nuclei_RadialDistribution_ZernikeMagnitude_A647_7_5\n"
                    ]
                },
                {
                    "name": "stderr",
                    "output_type": "stream",
                    "text": [
                        "Processing A647 Features:  46%|\u2588\u2588\u2588\u2588\u258c     | 78/170 [08:34<09:58,  6.51s/it]"
                    ]
                },
                {
                    "name": "stdout",
                    "output_type": "stream",
                    "text": [
                        "Trained and saved tuned model for Nuclei_RadialDistribution_ZernikeMagnitude_A647_7_7\n",
                        "Trained and saved shuffled tuned model for Nuclei_RadialDistribution_ZernikeMagnitude_A647_7_7\n"
                    ]
                },
                {
                    "name": "stderr",
                    "output_type": "stream",
                    "text": [
                        "Processing A647 Features:  46%|\u2588\u2588\u2588\u2588\u258b     | 79/170 [08:41<09:55,  6.54s/it]"
                    ]
                },
                {
                    "name": "stdout",
                    "output_type": "stream",
                    "text": [
                        "Trained and saved tuned model for Nuclei_RadialDistribution_ZernikeMagnitude_A647_8_0\n",
                        "Trained and saved shuffled tuned model for Nuclei_RadialDistribution_ZernikeMagnitude_A647_8_0\n"
                    ]
                },
                {
                    "name": "stderr",
                    "output_type": "stream",
                    "text": [
                        "Processing A647 Features:  47%|\u2588\u2588\u2588\u2588\u258b     | 80/170 [08:48<09:48,  6.54s/it]"
                    ]
                },
                {
                    "name": "stdout",
                    "output_type": "stream",
                    "text": [
                        "Trained and saved tuned model for Nuclei_RadialDistribution_ZernikeMagnitude_A647_8_2\n",
                        "Trained and saved shuffled tuned model for Nuclei_RadialDistribution_ZernikeMagnitude_A647_8_2\n"
                    ]
                },
                {
                    "name": "stderr",
                    "output_type": "stream",
                    "text": [
                        "Processing A647 Features:  48%|\u2588\u2588\u2588\u2588\u258a     | 81/170 [08:54<09:41,  6.54s/it]"
                    ]
                },
                {
                    "name": "stdout",
                    "output_type": "stream",
                    "text": [
                        "Trained and saved tuned model for Nuclei_RadialDistribution_ZernikeMagnitude_A647_8_4\n",
                        "Trained and saved shuffled tuned model for Nuclei_RadialDistribution_ZernikeMagnitude_A647_8_4\n"
                    ]
                },
                {
                    "name": "stderr",
                    "output_type": "stream",
                    "text": [
                        "Processing A647 Features:  48%|\u2588\u2588\u2588\u2588\u258a     | 82/170 [09:01<09:35,  6.54s/it]"
                    ]
                },
                {
                    "name": "stdout",
                    "output_type": "stream",
                    "text": [
                        "Trained and saved tuned model for Nuclei_RadialDistribution_ZernikeMagnitude_A647_8_6\n",
                        "Trained and saved shuffled tuned model for Nuclei_RadialDistribution_ZernikeMagnitude_A647_8_6\n"
                    ]
                },
                {
                    "name": "stderr",
                    "output_type": "stream",
                    "text": [
                        "Processing A647 Features:  49%|\u2588\u2588\u2588\u2588\u2589     | 83/170 [09:07<09:26,  6.51s/it]"
                    ]
                },
                {
                    "name": "stdout",
                    "output_type": "stream",
                    "text": [
                        "Trained and saved tuned model for Nuclei_RadialDistribution_ZernikeMagnitude_A647_8_8\n",
                        "Trained and saved shuffled tuned model for Nuclei_RadialDistribution_ZernikeMagnitude_A647_8_8\n"
                    ]
                },
                {
                    "name": "stderr",
                    "output_type": "stream",
                    "text": [
                        "Processing A647 Features:  49%|\u2588\u2588\u2588\u2588\u2589     | 84/170 [09:14<09:21,  6.53s/it]"
                    ]
                },
                {
                    "name": "stdout",
                    "output_type": "stream",
                    "text": [
                        "Trained and saved tuned model for Nuclei_RadialDistribution_ZernikeMagnitude_A647_9_1\n",
                        "Trained and saved shuffled tuned model for Nuclei_RadialDistribution_ZernikeMagnitude_A647_9_1\n"
                    ]
                },
                {
                    "name": "stderr",
                    "output_type": "stream",
                    "text": [
                        "Processing A647 Features:  50%|\u2588\u2588\u2588\u2588\u2588     | 85/170 [09:20<09:13,  6.51s/it]"
                    ]
                },
                {
                    "name": "stdout",
                    "output_type": "stream",
                    "text": [
                        "Trained and saved tuned model for Nuclei_RadialDistribution_ZernikeMagnitude_A647_9_3\n",
                        "Trained and saved shuffled tuned model for Nuclei_RadialDistribution_ZernikeMagnitude_A647_9_3\n"
                    ]
                },
                {
                    "name": "stderr",
                    "output_type": "stream",
                    "text": [
                        "Processing A647 Features:  51%|\u2588\u2588\u2588\u2588\u2588     | 86/170 [09:27<09:05,  6.49s/it]"
                    ]
                },
                {
                    "name": "stdout",
                    "output_type": "stream",
                    "text": [
                        "Trained and saved tuned model for Nuclei_RadialDistribution_ZernikeMagnitude_A647_9_5\n",
                        "Trained and saved shuffled tuned model for Nuclei_RadialDistribution_ZernikeMagnitude_A647_9_5\n"
                    ]
                },
                {
                    "name": "stderr",
                    "output_type": "stream",
                    "text": [
                        "Processing A647 Features:  51%|\u2588\u2588\u2588\u2588\u2588     | 87/170 [09:33<08:59,  6.50s/it]"
                    ]
                },
                {
                    "name": "stdout",
                    "output_type": "stream",
                    "text": [
                        "Trained and saved tuned model for Nuclei_RadialDistribution_ZernikeMagnitude_A647_9_7\n",
                        "Trained and saved shuffled tuned model for Nuclei_RadialDistribution_ZernikeMagnitude_A647_9_7\n"
                    ]
                },
                {
                    "name": "stderr",
                    "output_type": "stream",
                    "text": [
                        "Processing A647 Features:  52%|\u2588\u2588\u2588\u2588\u2588\u258f    | 88/170 [09:40<08:55,  6.53s/it]"
                    ]
                },
                {
                    "name": "stdout",
                    "output_type": "stream",
                    "text": [
                        "Trained and saved tuned model for Nuclei_RadialDistribution_ZernikeMagnitude_A647_9_9\n",
                        "Trained and saved shuffled tuned model for Nuclei_RadialDistribution_ZernikeMagnitude_A647_9_9\n"
                    ]
                },
                {
                    "name": "stderr",
                    "output_type": "stream",
                    "text": [
                        "Processing A647 Features:  52%|\u2588\u2588\u2588\u2588\u2588\u258f    | 89/170 [09:46<08:45,  6.49s/it]"
                    ]
                },
                {
                    "name": "stdout",
                    "output_type": "stream",
                    "text": [
                        "Trained and saved tuned model for Nuclei_RadialDistribution_ZernikePhase_A647_0_0\n",
                        "Trained and saved shuffled tuned model for Nuclei_RadialDistribution_ZernikePhase_A647_0_0\n"
                    ]
                },
                {
                    "name": "stderr",
                    "output_type": "stream",
                    "text": [
                        "Processing A647 Features:  53%|\u2588\u2588\u2588\u2588\u2588\u258e    | 90/170 [09:53<08:36,  6.46s/it]"
                    ]
                },
                {
                    "name": "stdout",
                    "output_type": "stream",
                    "text": [
                        "Trained and saved tuned model for Nuclei_RadialDistribution_ZernikePhase_A647_1_1\n",
                        "Trained and saved shuffled tuned model for Nuclei_RadialDistribution_ZernikePhase_A647_1_1\n"
                    ]
                },
                {
                    "name": "stderr",
                    "output_type": "stream",
                    "text": [
                        "Processing A647 Features:  54%|\u2588\u2588\u2588\u2588\u2588\u258e    | 91/170 [09:59<08:29,  6.45s/it]"
                    ]
                },
                {
                    "name": "stdout",
                    "output_type": "stream",
                    "text": [
                        "Trained and saved tuned model for Nuclei_RadialDistribution_ZernikePhase_A647_2_0\n",
                        "Trained and saved shuffled tuned model for Nuclei_RadialDistribution_ZernikePhase_A647_2_0\n"
                    ]
                },
                {
                    "name": "stderr",
                    "output_type": "stream",
                    "text": [
                        "Processing A647 Features:  54%|\u2588\u2588\u2588\u2588\u2588\u258d    | 92/170 [10:05<08:21,  6.43s/it]"
                    ]
                },
                {
                    "name": "stdout",
                    "output_type": "stream",
                    "text": [
                        "Trained and saved tuned model for Nuclei_RadialDistribution_ZernikePhase_A647_2_2\n",
                        "Trained and saved shuffled tuned model for Nuclei_RadialDistribution_ZernikePhase_A647_2_2\n"
                    ]
                },
                {
                    "name": "stderr",
                    "output_type": "stream",
                    "text": [
                        "Processing A647 Features:  55%|\u2588\u2588\u2588\u2588\u2588\u258d    | 93/170 [10:12<08:21,  6.51s/it]"
                    ]
                },
                {
                    "name": "stdout",
                    "output_type": "stream",
                    "text": [
                        "Trained and saved tuned model for Nuclei_RadialDistribution_ZernikePhase_A647_3_1\n",
                        "Trained and saved shuffled tuned model for Nuclei_RadialDistribution_ZernikePhase_A647_3_1\n"
                    ]
                },
                {
                    "name": "stderr",
                    "output_type": "stream",
                    "text": [
                        "Processing A647 Features:  55%|\u2588\u2588\u2588\u2588\u2588\u258c    | 94/170 [10:18<08:08,  6.43s/it]"
                    ]
                },
                {
                    "name": "stdout",
                    "output_type": "stream",
                    "text": [
                        "Trained and saved tuned model for Nuclei_RadialDistribution_ZernikePhase_A647_3_3\n",
                        "Trained and saved shuffled tuned model for Nuclei_RadialDistribution_ZernikePhase_A647_3_3\n"
                    ]
                },
                {
                    "name": "stderr",
                    "output_type": "stream",
                    "text": [
                        "Processing A647 Features:  56%|\u2588\u2588\u2588\u2588\u2588\u258c    | 95/170 [10:25<08:00,  6.41s/it]"
                    ]
                },
                {
                    "name": "stdout",
                    "output_type": "stream",
                    "text": [
                        "Trained and saved tuned model for Nuclei_RadialDistribution_ZernikePhase_A647_4_0\n",
                        "Trained and saved shuffled tuned model for Nuclei_RadialDistribution_ZernikePhase_A647_4_0\n"
                    ]
                },
                {
                    "name": "stderr",
                    "output_type": "stream",
                    "text": [
                        "Processing A647 Features:  56%|\u2588\u2588\u2588\u2588\u2588\u258b    | 96/170 [10:31<07:53,  6.39s/it]"
                    ]
                },
                {
                    "name": "stdout",
                    "output_type": "stream",
                    "text": [
                        "Trained and saved tuned model for Nuclei_RadialDistribution_ZernikePhase_A647_4_2\n",
                        "Trained and saved shuffled tuned model for Nuclei_RadialDistribution_ZernikePhase_A647_4_2\n"
                    ]
                },
                {
                    "name": "stderr",
                    "output_type": "stream",
                    "text": [
                        "Processing A647 Features:  57%|\u2588\u2588\u2588\u2588\u2588\u258b    | 97/170 [10:37<07:44,  6.37s/it]"
                    ]
                },
                {
                    "name": "stdout",
                    "output_type": "stream",
                    "text": [
                        "Trained and saved tuned model for Nuclei_RadialDistribution_ZernikePhase_A647_4_4\n",
                        "Trained and saved shuffled tuned model for Nuclei_RadialDistribution_ZernikePhase_A647_4_4\n"
                    ]
                },
                {
                    "name": "stderr",
                    "output_type": "stream",
                    "text": [
                        "Processing A647 Features:  58%|\u2588\u2588\u2588\u2588\u2588\u258a    | 98/170 [10:43<07:34,  6.32s/it]"
                    ]
                },
                {
                    "name": "stdout",
                    "output_type": "stream",
                    "text": [
                        "Trained and saved tuned model for Nuclei_RadialDistribution_ZernikePhase_A647_5_1\n",
                        "Trained and saved shuffled tuned model for Nuclei_RadialDistribution_ZernikePhase_A647_5_1\n"
                    ]
                },
                {
                    "name": "stderr",
                    "output_type": "stream",
                    "text": [
                        "Processing A647 Features:  58%|\u2588\u2588\u2588\u2588\u2588\u258a    | 99/170 [10:50<07:26,  6.29s/it]"
                    ]
                },
                {
                    "name": "stdout",
                    "output_type": "stream",
                    "text": [
                        "Trained and saved tuned model for Nuclei_RadialDistribution_ZernikePhase_A647_5_3\n",
                        "Trained and saved shuffled tuned model for Nuclei_RadialDistribution_ZernikePhase_A647_5_3\n"
                    ]
                },
                {
                    "name": "stderr",
                    "output_type": "stream",
                    "text": [
                        "Processing A647 Features:  59%|\u2588\u2588\u2588\u2588\u2588\u2589    | 100/170 [10:56<07:19,  6.28s/it]"
                    ]
                },
                {
                    "name": "stdout",
                    "output_type": "stream",
                    "text": [
                        "Trained and saved tuned model for Nuclei_RadialDistribution_ZernikePhase_A647_5_5\n",
                        "Trained and saved shuffled tuned model for Nuclei_RadialDistribution_ZernikePhase_A647_5_5\n"
                    ]
                },
                {
                    "name": "stderr",
                    "output_type": "stream",
                    "text": [
                        "Processing A647 Features:  59%|\u2588\u2588\u2588\u2588\u2588\u2589    | 101/170 [11:02<07:14,  6.30s/it]"
                    ]
                },
                {
                    "name": "stdout",
                    "output_type": "stream",
                    "text": [
                        "Trained and saved tuned model for Nuclei_RadialDistribution_ZernikePhase_A647_6_0\n",
                        "Trained and saved shuffled tuned model for Nuclei_RadialDistribution_ZernikePhase_A647_6_0\n"
                    ]
                },
                {
                    "name": "stderr",
                    "output_type": "stream",
                    "text": [
                        "Processing A647 Features:  60%|\u2588\u2588\u2588\u2588\u2588\u2588    | 102/170 [11:09<07:07,  6.29s/it]"
                    ]
                },
                {
                    "name": "stdout",
                    "output_type": "stream",
                    "text": [
                        "Trained and saved tuned model for Nuclei_RadialDistribution_ZernikePhase_A647_6_2\n",
                        "Trained and saved shuffled tuned model for Nuclei_RadialDistribution_ZernikePhase_A647_6_2\n"
                    ]
                },
                {
                    "name": "stderr",
                    "output_type": "stream",
                    "text": [
                        "Processing A647 Features:  61%|\u2588\u2588\u2588\u2588\u2588\u2588    | 103/170 [11:15<07:01,  6.29s/it]"
                    ]
                },
                {
                    "name": "stdout",
                    "output_type": "stream",
                    "text": [
                        "Trained and saved tuned model for Nuclei_RadialDistribution_ZernikePhase_A647_6_4\n",
                        "Trained and saved shuffled tuned model for Nuclei_RadialDistribution_ZernikePhase_A647_6_4\n"
                    ]
                },
                {
                    "name": "stderr",
                    "output_type": "stream",
                    "text": [
                        "Processing A647 Features:  61%|\u2588\u2588\u2588\u2588\u2588\u2588    | 104/170 [11:21<06:55,  6.30s/it]"
                    ]
                },
                {
                    "name": "stdout",
                    "output_type": "stream",
                    "text": [
                        "Trained and saved tuned model for Nuclei_RadialDistribution_ZernikePhase_A647_6_6\n",
                        "Trained and saved shuffled tuned model for Nuclei_RadialDistribution_ZernikePhase_A647_6_6\n"
                    ]
                },
                {
                    "name": "stderr",
                    "output_type": "stream",
                    "text": [
                        "Processing A647 Features:  62%|\u2588\u2588\u2588\u2588\u2588\u2588\u258f   | 105/170 [11:27<06:48,  6.29s/it]"
                    ]
                },
                {
                    "name": "stdout",
                    "output_type": "stream",
                    "text": [
                        "Trained and saved tuned model for Nuclei_RadialDistribution_ZernikePhase_A647_7_1\n",
                        "Trained and saved shuffled tuned model for Nuclei_RadialDistribution_ZernikePhase_A647_7_1\n"
                    ]
                },
                {
                    "name": "stderr",
                    "output_type": "stream",
                    "text": [
                        "Processing A647 Features:  62%|\u2588\u2588\u2588\u2588\u2588\u2588\u258f   | 106/170 [11:34<06:40,  6.26s/it]"
                    ]
                },
                {
                    "name": "stdout",
                    "output_type": "stream",
                    "text": [
                        "Trained and saved tuned model for Nuclei_RadialDistribution_ZernikePhase_A647_7_3\n",
                        "Trained and saved shuffled tuned model for Nuclei_RadialDistribution_ZernikePhase_A647_7_3\n"
                    ]
                },
                {
                    "name": "stderr",
                    "output_type": "stream",
                    "text": [
                        "Processing A647 Features:  63%|\u2588\u2588\u2588\u2588\u2588\u2588\u258e   | 107/170 [11:40<06:34,  6.26s/it]"
                    ]
                },
                {
                    "name": "stdout",
                    "output_type": "stream",
                    "text": [
                        "Trained and saved tuned model for Nuclei_RadialDistribution_ZernikePhase_A647_7_5\n",
                        "Trained and saved shuffled tuned model for Nuclei_RadialDistribution_ZernikePhase_A647_7_5\n"
                    ]
                },
                {
                    "name": "stderr",
                    "output_type": "stream",
                    "text": [
                        "Processing A647 Features:  64%|\u2588\u2588\u2588\u2588\u2588\u2588\u258e   | 108/170 [11:46<06:26,  6.23s/it]"
                    ]
                },
                {
                    "name": "stdout",
                    "output_type": "stream",
                    "text": [
                        "Trained and saved tuned model for Nuclei_RadialDistribution_ZernikePhase_A647_7_7\n",
                        "Trained and saved shuffled tuned model for Nuclei_RadialDistribution_ZernikePhase_A647_7_7\n"
                    ]
                },
                {
                    "name": "stderr",
                    "output_type": "stream",
                    "text": [
                        "Processing A647 Features:  64%|\u2588\u2588\u2588\u2588\u2588\u2588\u258d   | 109/170 [11:52<06:20,  6.24s/it]"
                    ]
                },
                {
                    "name": "stdout",
                    "output_type": "stream",
                    "text": [
                        "Trained and saved tuned model for Nuclei_RadialDistribution_ZernikePhase_A647_8_0\n",
                        "Trained and saved shuffled tuned model for Nuclei_RadialDistribution_ZernikePhase_A647_8_0\n"
                    ]
                },
                {
                    "name": "stderr",
                    "output_type": "stream",
                    "text": [
                        "Processing A647 Features:  65%|\u2588\u2588\u2588\u2588\u2588\u2588\u258d   | 110/170 [11:59<06:14,  6.25s/it]"
                    ]
                },
                {
                    "name": "stdout",
                    "output_type": "stream",
                    "text": [
                        "Trained and saved tuned model for Nuclei_RadialDistribution_ZernikePhase_A647_8_2\n",
                        "Trained and saved shuffled tuned model for Nuclei_RadialDistribution_ZernikePhase_A647_8_2\n"
                    ]
                },
                {
                    "name": "stderr",
                    "output_type": "stream",
                    "text": [
                        "Processing A647 Features:  65%|\u2588\u2588\u2588\u2588\u2588\u2588\u258c   | 111/170 [12:05<06:08,  6.25s/it]"
                    ]
                },
                {
                    "name": "stdout",
                    "output_type": "stream",
                    "text": [
                        "Trained and saved tuned model for Nuclei_RadialDistribution_ZernikePhase_A647_8_4\n",
                        "Trained and saved shuffled tuned model for Nuclei_RadialDistribution_ZernikePhase_A647_8_4\n"
                    ]
                },
                {
                    "name": "stderr",
                    "output_type": "stream",
                    "text": [
                        "Processing A647 Features:  66%|\u2588\u2588\u2588\u2588\u2588\u2588\u258c   | 112/170 [12:11<06:01,  6.24s/it]"
                    ]
                },
                {
                    "name": "stdout",
                    "output_type": "stream",
                    "text": [
                        "Trained and saved tuned model for Nuclei_RadialDistribution_ZernikePhase_A647_8_6\n",
                        "Trained and saved shuffled tuned model for Nuclei_RadialDistribution_ZernikePhase_A647_8_6\n"
                    ]
                },
                {
                    "name": "stderr",
                    "output_type": "stream",
                    "text": [
                        "Processing A647 Features:  66%|\u2588\u2588\u2588\u2588\u2588\u2588\u258b   | 113/170 [12:17<05:54,  6.22s/it]"
                    ]
                },
                {
                    "name": "stdout",
                    "output_type": "stream",
                    "text": [
                        "Trained and saved tuned model for Nuclei_RadialDistribution_ZernikePhase_A647_8_8\n",
                        "Trained and saved shuffled tuned model for Nuclei_RadialDistribution_ZernikePhase_A647_8_8\n"
                    ]
                },
                {
                    "name": "stderr",
                    "output_type": "stream",
                    "text": [
                        "Processing A647 Features:  67%|\u2588\u2588\u2588\u2588\u2588\u2588\u258b   | 114/170 [12:23<05:48,  6.22s/it]"
                    ]
                },
                {
                    "name": "stdout",
                    "output_type": "stream",
                    "text": [
                        "Trained and saved tuned model for Nuclei_RadialDistribution_ZernikePhase_A647_9_1\n",
                        "Trained and saved shuffled tuned model for Nuclei_RadialDistribution_ZernikePhase_A647_9_1\n"
                    ]
                },
                {
                    "name": "stderr",
                    "output_type": "stream",
                    "text": [
                        "Processing A647 Features:  68%|\u2588\u2588\u2588\u2588\u2588\u2588\u258a   | 115/170 [12:30<05:41,  6.21s/it]"
                    ]
                },
                {
                    "name": "stdout",
                    "output_type": "stream",
                    "text": [
                        "Trained and saved tuned model for Nuclei_RadialDistribution_ZernikePhase_A647_9_3\n",
                        "Trained and saved shuffled tuned model for Nuclei_RadialDistribution_ZernikePhase_A647_9_3\n"
                    ]
                },
                {
                    "name": "stderr",
                    "output_type": "stream",
                    "text": [
                        "Processing A647 Features:  68%|\u2588\u2588\u2588\u2588\u2588\u2588\u258a   | 116/170 [12:36<05:35,  6.22s/it]"
                    ]
                },
                {
                    "name": "stdout",
                    "output_type": "stream",
                    "text": [
                        "Trained and saved tuned model for Nuclei_RadialDistribution_ZernikePhase_A647_9_5\n",
                        "Trained and saved shuffled tuned model for Nuclei_RadialDistribution_ZernikePhase_A647_9_5\n"
                    ]
                },
                {
                    "name": "stderr",
                    "output_type": "stream",
                    "text": [
                        "Processing A647 Features:  69%|\u2588\u2588\u2588\u2588\u2588\u2588\u2589   | 117/170 [12:42<05:28,  6.20s/it]"
                    ]
                },
                {
                    "name": "stdout",
                    "output_type": "stream",
                    "text": [
                        "Trained and saved tuned model for Nuclei_RadialDistribution_ZernikePhase_A647_9_7\n",
                        "Trained and saved shuffled tuned model for Nuclei_RadialDistribution_ZernikePhase_A647_9_7\n"
                    ]
                },
                {
                    "name": "stderr",
                    "output_type": "stream",
                    "text": [
                        "Processing A647 Features:  69%|\u2588\u2588\u2588\u2588\u2588\u2588\u2589   | 118/170 [12:48<05:22,  6.20s/it]"
                    ]
                },
                {
                    "name": "stdout",
                    "output_type": "stream",
                    "text": [
                        "Trained and saved tuned model for Nuclei_RadialDistribution_ZernikePhase_A647_9_9\n",
                        "Trained and saved shuffled tuned model for Nuclei_RadialDistribution_ZernikePhase_A647_9_9\n"
                    ]
                },
                {
                    "name": "stderr",
                    "output_type": "stream",
                    "text": [
                        "Processing A647 Features:  70%|\u2588\u2588\u2588\u2588\u2588\u2588\u2588   | 119/170 [12:55<05:18,  6.25s/it]"
                    ]
                },
                {
                    "name": "stdout",
                    "output_type": "stream",
                    "text": [
                        "Trained and saved tuned model for Nuclei_Texture_AngularSecondMoment_A647_3_00_256\n",
                        "Trained and saved shuffled tuned model for Nuclei_Texture_AngularSecondMoment_A647_3_00_256\n"
                    ]
                },
                {
                    "name": "stderr",
                    "output_type": "stream",
                    "text": [
                        "Processing A647 Features:  71%|\u2588\u2588\u2588\u2588\u2588\u2588\u2588   | 120/170 [13:01<05:14,  6.28s/it]"
                    ]
                },
                {
                    "name": "stdout",
                    "output_type": "stream",
                    "text": [
                        "Trained and saved tuned model for Nuclei_Texture_AngularSecondMoment_A647_3_01_256\n",
                        "Trained and saved shuffled tuned model for Nuclei_Texture_AngularSecondMoment_A647_3_01_256\n"
                    ]
                },
                {
                    "name": "stderr",
                    "output_type": "stream",
                    "text": [
                        "Processing A647 Features:  71%|\u2588\u2588\u2588\u2588\u2588\u2588\u2588   | 121/170 [13:07<05:08,  6.29s/it]"
                    ]
                },
                {
                    "name": "stdout",
                    "output_type": "stream",
                    "text": [
                        "Trained and saved tuned model for Nuclei_Texture_AngularSecondMoment_A647_3_02_256\n",
                        "Trained and saved shuffled tuned model for Nuclei_Texture_AngularSecondMoment_A647_3_02_256\n"
                    ]
                },
                {
                    "name": "stderr",
                    "output_type": "stream",
                    "text": [
                        "Processing A647 Features:  72%|\u2588\u2588\u2588\u2588\u2588\u2588\u2588\u258f  | 122/170 [13:14<05:03,  6.31s/it]"
                    ]
                },
                {
                    "name": "stdout",
                    "output_type": "stream",
                    "text": [
                        "Trained and saved tuned model for Nuclei_Texture_AngularSecondMoment_A647_3_03_256\n",
                        "Trained and saved shuffled tuned model for Nuclei_Texture_AngularSecondMoment_A647_3_03_256\n"
                    ]
                },
                {
                    "name": "stderr",
                    "output_type": "stream",
                    "text": [
                        "Processing A647 Features:  72%|\u2588\u2588\u2588\u2588\u2588\u2588\u2588\u258f  | 123/170 [13:20<04:56,  6.31s/it]"
                    ]
                },
                {
                    "name": "stdout",
                    "output_type": "stream",
                    "text": [
                        "Trained and saved tuned model for Nuclei_Texture_Contrast_A647_3_00_256\n",
                        "Trained and saved shuffled tuned model for Nuclei_Texture_Contrast_A647_3_00_256\n"
                    ]
                },
                {
                    "name": "stderr",
                    "output_type": "stream",
                    "text": [
                        "Processing A647 Features:  73%|\u2588\u2588\u2588\u2588\u2588\u2588\u2588\u258e  | 124/170 [13:26<04:51,  6.33s/it]"
                    ]
                },
                {
                    "name": "stdout",
                    "output_type": "stream",
                    "text": [
                        "Trained and saved tuned model for Nuclei_Texture_Contrast_A647_3_01_256\n",
                        "Trained and saved shuffled tuned model for Nuclei_Texture_Contrast_A647_3_01_256\n"
                    ]
                },
                {
                    "name": "stderr",
                    "output_type": "stream",
                    "text": [
                        "Processing A647 Features:  74%|\u2588\u2588\u2588\u2588\u2588\u2588\u2588\u258e  | 125/170 [13:33<04:45,  6.34s/it]"
                    ]
                },
                {
                    "name": "stdout",
                    "output_type": "stream",
                    "text": [
                        "Trained and saved tuned model for Nuclei_Texture_Contrast_A647_3_02_256\n",
                        "Trained and saved shuffled tuned model for Nuclei_Texture_Contrast_A647_3_02_256\n"
                    ]
                },
                {
                    "name": "stderr",
                    "output_type": "stream",
                    "text": [
                        "Processing A647 Features:  74%|\u2588\u2588\u2588\u2588\u2588\u2588\u2588\u258d  | 126/170 [13:39<04:38,  6.34s/it]"
                    ]
                },
                {
                    "name": "stdout",
                    "output_type": "stream",
                    "text": [
                        "Trained and saved tuned model for Nuclei_Texture_Contrast_A647_3_03_256\n",
                        "Trained and saved shuffled tuned model for Nuclei_Texture_Contrast_A647_3_03_256\n"
                    ]
                },
                {
                    "name": "stderr",
                    "output_type": "stream",
                    "text": [
                        "Processing A647 Features:  75%|\u2588\u2588\u2588\u2588\u2588\u2588\u2588\u258d  | 127/170 [13:45<04:33,  6.35s/it]"
                    ]
                },
                {
                    "name": "stdout",
                    "output_type": "stream",
                    "text": [
                        "Trained and saved tuned model for Nuclei_Texture_Correlation_A647_3_00_256\n",
                        "Trained and saved shuffled tuned model for Nuclei_Texture_Correlation_A647_3_00_256\n"
                    ]
                },
                {
                    "name": "stderr",
                    "output_type": "stream",
                    "text": [
                        "Processing A647 Features:  75%|\u2588\u2588\u2588\u2588\u2588\u2588\u2588\u258c  | 128/170 [13:52<04:27,  6.36s/it]"
                    ]
                },
                {
                    "name": "stdout",
                    "output_type": "stream",
                    "text": [
                        "Trained and saved tuned model for Nuclei_Texture_Correlation_A647_3_01_256\n",
                        "Trained and saved shuffled tuned model for Nuclei_Texture_Correlation_A647_3_01_256\n"
                    ]
                },
                {
                    "name": "stderr",
                    "output_type": "stream",
                    "text": [
                        "Processing A647 Features:  76%|\u2588\u2588\u2588\u2588\u2588\u2588\u2588\u258c  | 129/170 [13:58<04:21,  6.37s/it]"
                    ]
                },
                {
                    "name": "stdout",
                    "output_type": "stream",
                    "text": [
                        "Trained and saved tuned model for Nuclei_Texture_Correlation_A647_3_02_256\n",
                        "Trained and saved shuffled tuned model for Nuclei_Texture_Correlation_A647_3_02_256\n"
                    ]
                },
                {
                    "name": "stderr",
                    "output_type": "stream",
                    "text": [
                        "Processing A647 Features:  76%|\u2588\u2588\u2588\u2588\u2588\u2588\u2588\u258b  | 130/170 [14:05<04:15,  6.38s/it]"
                    ]
                },
                {
                    "name": "stdout",
                    "output_type": "stream",
                    "text": [
                        "Trained and saved tuned model for Nuclei_Texture_Correlation_A647_3_03_256\n",
                        "Trained and saved shuffled tuned model for Nuclei_Texture_Correlation_A647_3_03_256\n"
                    ]
                },
                {
                    "name": "stderr",
                    "output_type": "stream",
                    "text": [
                        "Processing A647 Features:  77%|\u2588\u2588\u2588\u2588\u2588\u2588\u2588\u258b  | 131/170 [14:11<04:09,  6.40s/it]"
                    ]
                },
                {
                    "name": "stdout",
                    "output_type": "stream",
                    "text": [
                        "Trained and saved tuned model for Nuclei_Texture_DifferenceEntropy_A647_3_00_256\n",
                        "Trained and saved shuffled tuned model for Nuclei_Texture_DifferenceEntropy_A647_3_00_256\n"
                    ]
                },
                {
                    "name": "stderr",
                    "output_type": "stream",
                    "text": [
                        "Processing A647 Features:  78%|\u2588\u2588\u2588\u2588\u2588\u2588\u2588\u258a  | 132/170 [14:17<04:02,  6.39s/it]"
                    ]
                },
                {
                    "name": "stdout",
                    "output_type": "stream",
                    "text": [
                        "Trained and saved tuned model for Nuclei_Texture_DifferenceEntropy_A647_3_01_256\n",
                        "Trained and saved shuffled tuned model for Nuclei_Texture_DifferenceEntropy_A647_3_01_256\n"
                    ]
                },
                {
                    "name": "stderr",
                    "output_type": "stream",
                    "text": [
                        "Processing A647 Features:  78%|\u2588\u2588\u2588\u2588\u2588\u2588\u2588\u258a  | 133/170 [14:24<03:56,  6.38s/it]"
                    ]
                },
                {
                    "name": "stdout",
                    "output_type": "stream",
                    "text": [
                        "Trained and saved tuned model for Nuclei_Texture_DifferenceEntropy_A647_3_02_256\n",
                        "Trained and saved shuffled tuned model for Nuclei_Texture_DifferenceEntropy_A647_3_02_256\n"
                    ]
                },
                {
                    "name": "stderr",
                    "output_type": "stream",
                    "text": [
                        "Processing A647 Features:  79%|\u2588\u2588\u2588\u2588\u2588\u2588\u2588\u2589  | 134/170 [14:30<03:50,  6.39s/it]"
                    ]
                },
                {
                    "name": "stdout",
                    "output_type": "stream",
                    "text": [
                        "Trained and saved tuned model for Nuclei_Texture_DifferenceEntropy_A647_3_03_256\n",
                        "Trained and saved shuffled tuned model for Nuclei_Texture_DifferenceEntropy_A647_3_03_256\n"
                    ]
                },
                {
                    "name": "stderr",
                    "output_type": "stream",
                    "text": [
                        "Processing A647 Features:  79%|\u2588\u2588\u2588\u2588\u2588\u2588\u2588\u2589  | 135/170 [14:36<03:42,  6.36s/it]"
                    ]
                },
                {
                    "name": "stdout",
                    "output_type": "stream",
                    "text": [
                        "Trained and saved tuned model for Nuclei_Texture_DifferenceVariance_A647_3_00_256\n",
                        "Trained and saved shuffled tuned model for Nuclei_Texture_DifferenceVariance_A647_3_00_256\n"
                    ]
                },
                {
                    "name": "stderr",
                    "output_type": "stream",
                    "text": [
                        "Processing A647 Features:  80%|\u2588\u2588\u2588\u2588\u2588\u2588\u2588\u2588  | 136/170 [14:43<03:36,  6.36s/it]"
                    ]
                },
                {
                    "name": "stdout",
                    "output_type": "stream",
                    "text": [
                        "Trained and saved tuned model for Nuclei_Texture_DifferenceVariance_A647_3_01_256\n",
                        "Trained and saved shuffled tuned model for Nuclei_Texture_DifferenceVariance_A647_3_01_256\n"
                    ]
                },
                {
                    "name": "stderr",
                    "output_type": "stream",
                    "text": [
                        "Processing A647 Features:  81%|\u2588\u2588\u2588\u2588\u2588\u2588\u2588\u2588  | 137/170 [14:49<03:30,  6.39s/it]"
                    ]
                },
                {
                    "name": "stdout",
                    "output_type": "stream",
                    "text": [
                        "Trained and saved tuned model for Nuclei_Texture_DifferenceVariance_A647_3_02_256\n",
                        "Trained and saved shuffled tuned model for Nuclei_Texture_DifferenceVariance_A647_3_02_256\n"
                    ]
                },
                {
                    "name": "stderr",
                    "output_type": "stream",
                    "text": [
                        "Processing A647 Features:  81%|\u2588\u2588\u2588\u2588\u2588\u2588\u2588\u2588  | 138/170 [14:56<03:24,  6.40s/it]"
                    ]
                },
                {
                    "name": "stdout",
                    "output_type": "stream",
                    "text": [
                        "Trained and saved tuned model for Nuclei_Texture_DifferenceVariance_A647_3_03_256\n",
                        "Trained and saved shuffled tuned model for Nuclei_Texture_DifferenceVariance_A647_3_03_256\n"
                    ]
                },
                {
                    "name": "stderr",
                    "output_type": "stream",
                    "text": [
                        "Processing A647 Features:  82%|\u2588\u2588\u2588\u2588\u2588\u2588\u2588\u2588\u258f | 139/170 [15:02<03:18,  6.42s/it]"
                    ]
                },
                {
                    "name": "stdout",
                    "output_type": "stream",
                    "text": [
                        "Trained and saved tuned model for Nuclei_Texture_Entropy_A647_3_00_256\n",
                        "Trained and saved shuffled tuned model for Nuclei_Texture_Entropy_A647_3_00_256\n"
                    ]
                },
                {
                    "name": "stderr",
                    "output_type": "stream",
                    "text": [
                        "Processing A647 Features:  82%|\u2588\u2588\u2588\u2588\u2588\u2588\u2588\u2588\u258f | 140/170 [15:09<03:12,  6.41s/it]"
                    ]
                },
                {
                    "name": "stdout",
                    "output_type": "stream",
                    "text": [
                        "Trained and saved tuned model for Nuclei_Texture_Entropy_A647_3_01_256\n",
                        "Trained and saved shuffled tuned model for Nuclei_Texture_Entropy_A647_3_01_256\n"
                    ]
                },
                {
                    "name": "stderr",
                    "output_type": "stream",
                    "text": [
                        "Processing A647 Features:  83%|\u2588\u2588\u2588\u2588\u2588\u2588\u2588\u2588\u258e | 141/170 [15:15<03:04,  6.37s/it]"
                    ]
                },
                {
                    "name": "stdout",
                    "output_type": "stream",
                    "text": [
                        "Trained and saved tuned model for Nuclei_Texture_Entropy_A647_3_02_256\n",
                        "Trained and saved shuffled tuned model for Nuclei_Texture_Entropy_A647_3_02_256\n"
                    ]
                },
                {
                    "name": "stderr",
                    "output_type": "stream",
                    "text": [
                        "Processing A647 Features:  84%|\u2588\u2588\u2588\u2588\u2588\u2588\u2588\u2588\u258e | 142/170 [15:21<02:58,  6.38s/it]"
                    ]
                },
                {
                    "name": "stdout",
                    "output_type": "stream",
                    "text": [
                        "Trained and saved tuned model for Nuclei_Texture_Entropy_A647_3_03_256\n",
                        "Trained and saved shuffled tuned model for Nuclei_Texture_Entropy_A647_3_03_256\n"
                    ]
                },
                {
                    "name": "stderr",
                    "output_type": "stream",
                    "text": [
                        "Processing A647 Features:  84%|\u2588\u2588\u2588\u2588\u2588\u2588\u2588\u2588\u258d | 143/170 [15:28<02:52,  6.39s/it]"
                    ]
                },
                {
                    "name": "stdout",
                    "output_type": "stream",
                    "text": [
                        "Trained and saved tuned model for Nuclei_Texture_InfoMeas1_A647_3_00_256\n",
                        "Trained and saved shuffled tuned model for Nuclei_Texture_InfoMeas1_A647_3_00_256\n"
                    ]
                },
                {
                    "name": "stderr",
                    "output_type": "stream",
                    "text": [
                        "Processing A647 Features:  85%|\u2588\u2588\u2588\u2588\u2588\u2588\u2588\u2588\u258d | 144/170 [15:34<02:46,  6.40s/it]"
                    ]
                },
                {
                    "name": "stdout",
                    "output_type": "stream",
                    "text": [
                        "Trained and saved tuned model for Nuclei_Texture_InfoMeas1_A647_3_01_256\n",
                        "Trained and saved shuffled tuned model for Nuclei_Texture_InfoMeas1_A647_3_01_256\n"
                    ]
                },
                {
                    "name": "stderr",
                    "output_type": "stream",
                    "text": [
                        "Processing A647 Features:  85%|\u2588\u2588\u2588\u2588\u2588\u2588\u2588\u2588\u258c | 145/170 [15:41<02:40,  6.41s/it]"
                    ]
                },
                {
                    "name": "stdout",
                    "output_type": "stream",
                    "text": [
                        "Trained and saved tuned model for Nuclei_Texture_InfoMeas1_A647_3_02_256\n",
                        "Trained and saved shuffled tuned model for Nuclei_Texture_InfoMeas1_A647_3_02_256\n"
                    ]
                },
                {
                    "name": "stderr",
                    "output_type": "stream",
                    "text": [
                        "Processing A647 Features:  86%|\u2588\u2588\u2588\u2588\u2588\u2588\u2588\u2588\u258c | 146/170 [15:47<02:33,  6.39s/it]"
                    ]
                },
                {
                    "name": "stdout",
                    "output_type": "stream",
                    "text": [
                        "Trained and saved tuned model for Nuclei_Texture_InfoMeas1_A647_3_03_256\n",
                        "Trained and saved shuffled tuned model for Nuclei_Texture_InfoMeas1_A647_3_03_256\n"
                    ]
                },
                {
                    "name": "stderr",
                    "output_type": "stream",
                    "text": [
                        "Processing A647 Features:  86%|\u2588\u2588\u2588\u2588\u2588\u2588\u2588\u2588\u258b | 147/170 [15:53<02:25,  6.34s/it]"
                    ]
                },
                {
                    "name": "stdout",
                    "output_type": "stream",
                    "text": [
                        "Trained and saved tuned model for Nuclei_Texture_InfoMeas2_A647_3_00_256\n",
                        "Trained and saved shuffled tuned model for Nuclei_Texture_InfoMeas2_A647_3_00_256\n"
                    ]
                },
                {
                    "name": "stderr",
                    "output_type": "stream",
                    "text": [
                        "Processing A647 Features:  87%|\u2588\u2588\u2588\u2588\u2588\u2588\u2588\u2588\u258b | 148/170 [15:59<02:19,  6.36s/it]"
                    ]
                },
                {
                    "name": "stdout",
                    "output_type": "stream",
                    "text": [
                        "Trained and saved tuned model for Nuclei_Texture_InfoMeas2_A647_3_01_256\n",
                        "Trained and saved shuffled tuned model for Nuclei_Texture_InfoMeas2_A647_3_01_256\n"
                    ]
                },
                {
                    "name": "stderr",
                    "output_type": "stream",
                    "text": [
                        "Processing A647 Features:  88%|\u2588\u2588\u2588\u2588\u2588\u2588\u2588\u2588\u258a | 149/170 [16:06<02:13,  6.36s/it]"
                    ]
                },
                {
                    "name": "stdout",
                    "output_type": "stream",
                    "text": [
                        "Trained and saved tuned model for Nuclei_Texture_InfoMeas2_A647_3_02_256\n",
                        "Trained and saved shuffled tuned model for Nuclei_Texture_InfoMeas2_A647_3_02_256\n"
                    ]
                },
                {
                    "name": "stderr",
                    "output_type": "stream",
                    "text": [
                        "Processing A647 Features:  88%|\u2588\u2588\u2588\u2588\u2588\u2588\u2588\u2588\u258a | 150/170 [16:12<02:08,  6.44s/it]"
                    ]
                },
                {
                    "name": "stdout",
                    "output_type": "stream",
                    "text": [
                        "Trained and saved tuned model for Nuclei_Texture_InfoMeas2_A647_3_03_256\n",
                        "Trained and saved shuffled tuned model for Nuclei_Texture_InfoMeas2_A647_3_03_256\n"
                    ]
                },
                {
                    "name": "stderr",
                    "output_type": "stream",
                    "text": [
                        "Processing A647 Features:  89%|\u2588\u2588\u2588\u2588\u2588\u2588\u2588\u2588\u2589 | 151/170 [16:19<02:02,  6.42s/it]"
                    ]
                },
                {
                    "name": "stdout",
                    "output_type": "stream",
                    "text": [
                        "Trained and saved tuned model for Nuclei_Texture_InverseDifferenceMoment_A647_3_00_256\n",
                        "Trained and saved shuffled tuned model for Nuclei_Texture_InverseDifferenceMoment_A647_3_00_256\n"
                    ]
                },
                {
                    "name": "stderr",
                    "output_type": "stream",
                    "text": [
                        "Processing A647 Features:  89%|\u2588\u2588\u2588\u2588\u2588\u2588\u2588\u2588\u2589 | 152/170 [16:25<01:55,  6.41s/it]"
                    ]
                },
                {
                    "name": "stdout",
                    "output_type": "stream",
                    "text": [
                        "Trained and saved tuned model for Nuclei_Texture_InverseDifferenceMoment_A647_3_01_256\n",
                        "Trained and saved shuffled tuned model for Nuclei_Texture_InverseDifferenceMoment_A647_3_01_256\n"
                    ]
                },
                {
                    "name": "stderr",
                    "output_type": "stream",
                    "text": [
                        "Processing A647 Features:  90%|\u2588\u2588\u2588\u2588\u2588\u2588\u2588\u2588\u2588 | 153/170 [16:32<01:50,  6.51s/it]"
                    ]
                },
                {
                    "name": "stdout",
                    "output_type": "stream",
                    "text": [
                        "Trained and saved tuned model for Nuclei_Texture_InverseDifferenceMoment_A647_3_02_256\n",
                        "Trained and saved shuffled tuned model for Nuclei_Texture_InverseDifferenceMoment_A647_3_02_256\n"
                    ]
                },
                {
                    "name": "stderr",
                    "output_type": "stream",
                    "text": [
                        "Processing A647 Features:  91%|\u2588\u2588\u2588\u2588\u2588\u2588\u2588\u2588\u2588 | 154/170 [16:38<01:43,  6.47s/it]"
                    ]
                },
                {
                    "name": "stdout",
                    "output_type": "stream",
                    "text": [
                        "Trained and saved tuned model for Nuclei_Texture_InverseDifferenceMoment_A647_3_03_256\n",
                        "Trained and saved shuffled tuned model for Nuclei_Texture_InverseDifferenceMoment_A647_3_03_256\n"
                    ]
                },
                {
                    "name": "stderr",
                    "output_type": "stream",
                    "text": [
                        "Processing A647 Features:  91%|\u2588\u2588\u2588\u2588\u2588\u2588\u2588\u2588\u2588 | 155/170 [16:45<01:36,  6.46s/it]"
                    ]
                },
                {
                    "name": "stdout",
                    "output_type": "stream",
                    "text": [
                        "Trained and saved tuned model for Nuclei_Texture_SumAverage_A647_3_00_256\n",
                        "Trained and saved shuffled tuned model for Nuclei_Texture_SumAverage_A647_3_00_256\n"
                    ]
                },
                {
                    "name": "stderr",
                    "output_type": "stream",
                    "text": [
                        "Processing A647 Features:  92%|\u2588\u2588\u2588\u2588\u2588\u2588\u2588\u2588\u2588\u258f| 156/170 [16:51<01:30,  6.44s/it]"
                    ]
                },
                {
                    "name": "stdout",
                    "output_type": "stream",
                    "text": [
                        "Trained and saved tuned model for Nuclei_Texture_SumAverage_A647_3_01_256\n",
                        "Trained and saved shuffled tuned model for Nuclei_Texture_SumAverage_A647_3_01_256\n"
                    ]
                },
                {
                    "name": "stderr",
                    "output_type": "stream",
                    "text": [
                        "Processing A647 Features:  92%|\u2588\u2588\u2588\u2588\u2588\u2588\u2588\u2588\u2588\u258f| 157/170 [16:58<01:23,  6.42s/it]"
                    ]
                },
                {
                    "name": "stdout",
                    "output_type": "stream",
                    "text": [
                        "Trained and saved tuned model for Nuclei_Texture_SumAverage_A647_3_02_256\n",
                        "Trained and saved shuffled tuned model for Nuclei_Texture_SumAverage_A647_3_02_256\n"
                    ]
                },
                {
                    "name": "stderr",
                    "output_type": "stream",
                    "text": [
                        "Processing A647 Features:  93%|\u2588\u2588\u2588\u2588\u2588\u2588\u2588\u2588\u2588\u258e| 158/170 [17:04<01:16,  6.41s/it]"
                    ]
                },
                {
                    "name": "stdout",
                    "output_type": "stream",
                    "text": [
                        "Trained and saved tuned model for Nuclei_Texture_SumAverage_A647_3_03_256\n",
                        "Trained and saved shuffled tuned model for Nuclei_Texture_SumAverage_A647_3_03_256\n"
                    ]
                },
                {
                    "name": "stderr",
                    "output_type": "stream",
                    "text": [
                        "Processing A647 Features:  94%|\u2588\u2588\u2588\u2588\u2588\u2588\u2588\u2588\u2588\u258e| 159/170 [17:10<01:10,  6.41s/it]"
                    ]
                },
                {
                    "name": "stdout",
                    "output_type": "stream",
                    "text": [
                        "Trained and saved tuned model for Nuclei_Texture_SumEntropy_A647_3_00_256\n",
                        "Trained and saved shuffled tuned model for Nuclei_Texture_SumEntropy_A647_3_00_256\n"
                    ]
                },
                {
                    "name": "stderr",
                    "output_type": "stream",
                    "text": [
                        "Processing A647 Features:  94%|\u2588\u2588\u2588\u2588\u2588\u2588\u2588\u2588\u2588\u258d| 160/170 [17:17<01:04,  6.42s/it]"
                    ]
                },
                {
                    "name": "stdout",
                    "output_type": "stream",
                    "text": [
                        "Trained and saved tuned model for Nuclei_Texture_SumEntropy_A647_3_01_256\n",
                        "Trained and saved shuffled tuned model for Nuclei_Texture_SumEntropy_A647_3_01_256\n"
                    ]
                },
                {
                    "name": "stderr",
                    "output_type": "stream",
                    "text": [
                        "Processing A647 Features:  95%|\u2588\u2588\u2588\u2588\u2588\u2588\u2588\u2588\u2588\u258d| 161/170 [17:23<00:57,  6.41s/it]"
                    ]
                },
                {
                    "name": "stdout",
                    "output_type": "stream",
                    "text": [
                        "Trained and saved tuned model for Nuclei_Texture_SumEntropy_A647_3_02_256\n",
                        "Trained and saved shuffled tuned model for Nuclei_Texture_SumEntropy_A647_3_02_256\n"
                    ]
                },
                {
                    "name": "stderr",
                    "output_type": "stream",
                    "text": [
                        "Processing A647 Features:  95%|\u2588\u2588\u2588\u2588\u2588\u2588\u2588\u2588\u2588\u258c| 162/170 [17:30<00:51,  6.40s/it]"
                    ]
                },
                {
                    "name": "stdout",
                    "output_type": "stream",
                    "text": [
                        "Trained and saved tuned model for Nuclei_Texture_SumEntropy_A647_3_03_256\n",
                        "Trained and saved shuffled tuned model for Nuclei_Texture_SumEntropy_A647_3_03_256\n"
                    ]
                },
                {
                    "name": "stderr",
                    "output_type": "stream",
                    "text": [
                        "Processing A647 Features:  96%|\u2588\u2588\u2588\u2588\u2588\u2588\u2588\u2588\u2588\u258c| 163/170 [17:36<00:44,  6.39s/it]"
                    ]
                },
                {
                    "name": "stdout",
                    "output_type": "stream",
                    "text": [
                        "Trained and saved tuned model for Nuclei_Texture_SumVariance_A647_3_00_256\n",
                        "Trained and saved shuffled tuned model for Nuclei_Texture_SumVariance_A647_3_00_256\n"
                    ]
                },
                {
                    "name": "stderr",
                    "output_type": "stream",
                    "text": [
                        "Processing A647 Features:  96%|\u2588\u2588\u2588\u2588\u2588\u2588\u2588\u2588\u2588\u258b| 164/170 [17:42<00:38,  6.44s/it]"
                    ]
                },
                {
                    "name": "stdout",
                    "output_type": "stream",
                    "text": [
                        "Trained and saved tuned model for Nuclei_Texture_SumVariance_A647_3_01_256\n",
                        "Trained and saved shuffled tuned model for Nuclei_Texture_SumVariance_A647_3_01_256\n"
                    ]
                },
                {
                    "name": "stderr",
                    "output_type": "stream",
                    "text": [
                        "Processing A647 Features:  97%|\u2588\u2588\u2588\u2588\u2588\u2588\u2588\u2588\u2588\u258b| 165/170 [17:49<00:32,  6.42s/it]"
                    ]
                },
                {
                    "name": "stdout",
                    "output_type": "stream",
                    "text": [
                        "Trained and saved tuned model for Nuclei_Texture_SumVariance_A647_3_02_256\n",
                        "Trained and saved shuffled tuned model for Nuclei_Texture_SumVariance_A647_3_02_256\n"
                    ]
                },
                {
                    "name": "stderr",
                    "output_type": "stream",
                    "text": [
                        "Processing A647 Features:  98%|\u2588\u2588\u2588\u2588\u2588\u2588\u2588\u2588\u2588\u258a| 166/170 [17:55<00:25,  6.42s/it]"
                    ]
                },
                {
                    "name": "stdout",
                    "output_type": "stream",
                    "text": [
                        "Trained and saved tuned model for Nuclei_Texture_SumVariance_A647_3_03_256\n",
                        "Trained and saved shuffled tuned model for Nuclei_Texture_SumVariance_A647_3_03_256\n"
                    ]
                },
                {
                    "name": "stderr",
                    "output_type": "stream",
                    "text": [
                        "Processing A647 Features:  98%|\u2588\u2588\u2588\u2588\u2588\u2588\u2588\u2588\u2588\u258a| 167/170 [18:02<00:19,  6.42s/it]"
                    ]
                },
                {
                    "name": "stdout",
                    "output_type": "stream",
                    "text": [
                        "Trained and saved tuned model for Nuclei_Texture_Variance_A647_3_00_256\n",
                        "Trained and saved shuffled tuned model for Nuclei_Texture_Variance_A647_3_00_256\n"
                    ]
                },
                {
                    "name": "stderr",
                    "output_type": "stream",
                    "text": [
                        "Processing A647 Features:  99%|\u2588\u2588\u2588\u2588\u2588\u2588\u2588\u2588\u2588\u2589| 168/170 [18:08<00:12,  6.40s/it]"
                    ]
                },
                {
                    "name": "stdout",
                    "output_type": "stream",
                    "text": [
                        "Trained and saved tuned model for Nuclei_Texture_Variance_A647_3_01_256\n",
                        "Trained and saved shuffled tuned model for Nuclei_Texture_Variance_A647_3_01_256\n"
                    ]
                },
                {
                    "name": "stderr",
                    "output_type": "stream",
                    "text": [
                        "Processing A647 Features:  99%|\u2588\u2588\u2588\u2588\u2588\u2588\u2588\u2588\u2588\u2589| 169/170 [18:14<00:06,  6.40s/it]"
                    ]
                },
                {
                    "name": "stdout",
                    "output_type": "stream",
                    "text": [
                        "Trained and saved tuned model for Nuclei_Texture_Variance_A647_3_02_256\n",
                        "Trained and saved shuffled tuned model for Nuclei_Texture_Variance_A647_3_02_256\n"
                    ]
                },
                {
                    "name": "stderr",
                    "output_type": "stream",
                    "text": [
                        "Processing A647 Features: 100%|\u2588\u2588\u2588\u2588\u2588\u2588\u2588\u2588\u2588\u2588| 170/170 [18:21<00:00,  6.48s/it]"
                    ]
                },
                {
                    "name": "stdout",
                    "output_type": "stream",
                    "text": [
                        "Trained and saved tuned model for Nuclei_Texture_Variance_A647_3_03_256\n",
                        "Trained and saved shuffled tuned model for Nuclei_Texture_Variance_A647_3_03_256\n",
                        "All A647 models have been trained and tuned!\n"
                    ]
                },
                {
                    "name": "stderr",
                    "output_type": "stream",
                    "text": [
                        "\n"
                    ]
                }
            ],
            "source": [
                "# Suppress all warnings\n",
                "warnings.filterwarnings(\"ignore\")\n",
                "\n",
                "for a647_feature in tqdm(a647_features, desc=\"Processing A647 Features\"):\n",
                "    y = training_df[a647_feature]\n",
                "\n",
                "    # Train regular model with hyperparameter tuning\n",
                "    logreg = ElasticNet(**elasticnet_params)\n",
                "\n",
                "    # Initialize random search and fit model\n",
                "    random_search = RandomizedSearchCV(logreg, **random_search_params)\n",
                "    random_search.fit(X, y)\n",
                "\n",
                "    # Save the tuned model\n",
                "    model_filename = final_dir / f\"{a647_feature}_tuned_model.joblib\"\n",
                "    joblib.dump(random_search.best_estimator_, model_filename)\n",
                "\n",
                "    random_search_shuffled = RandomizedSearchCV(logreg, **random_search_params)\n",
                "    random_search_shuffled.fit(X_shuffled, y)\n",
                "\n",
                "    # Save the shuffled tuned model\n",
                "    shuffled_model_filename = (\n",
                "        shuffled_dir / f\"{a647_feature}_shuffled_tuned_model.joblib\"\n",
                "    )\n",
                "    joblib.dump(random_search_shuffled.best_estimator_, shuffled_model_filename)\n",
                "\n",
                "    # Print confirmation\n",
                "    print(f\"Trained and saved tuned model for {a647_feature}\")\n",
                "    print(f\"Trained and saved shuffled tuned model for {a647_feature}\")\n",
                "\n",
                "print(\"All A647 models have been trained and tuned!\")"
            ]
        },
        {
            "cell_type": "markdown",
            "metadata": {},
            "source": [
                "# Train GOLD models"
            ]
        },
        {
            "cell_type": "code",
            "execution_count": 6,
            "metadata": {},
            "outputs": [
                {
                    "name": "stderr",
                    "output_type": "stream",
                    "text": [
                        "Processing GOLD Features:   1%|          | 1/170 [00:06<18:02,  6.41s/it]"
                    ]
                },
                {
                    "name": "stdout",
                    "output_type": "stream",
                    "text": [
                        "Trained and saved tuned model for Nuclei_Correlation_Correlation_DAPI_GOLD\n",
                        "Trained and saved shuffled tuned model for Nuclei_Correlation_Correlation_DAPI_GOLD\n"
                    ]
                },
                {
                    "name": "stderr",
                    "output_type": "stream",
                    "text": [
                        "Processing GOLD Features:   1%|          | 2/170 [00:12<17:59,  6.42s/it]"
                    ]
                },
                {
                    "name": "stdout",
                    "output_type": "stream",
                    "text": [
                        "Trained and saved tuned model for Nuclei_Correlation_Costes_DAPI_GOLD\n",
                        "Trained and saved shuffled tuned model for Nuclei_Correlation_Costes_DAPI_GOLD\n"
                    ]
                },
                {
                    "name": "stderr",
                    "output_type": "stream",
                    "text": [
                        "Processing GOLD Features:   2%|\u258f         | 3/170 [00:19<17:47,  6.39s/it]"
                    ]
                },
                {
                    "name": "stdout",
                    "output_type": "stream",
                    "text": [
                        "Trained and saved tuned model for Nuclei_Correlation_Costes_GOLD_A647\n",
                        "Trained and saved shuffled tuned model for Nuclei_Correlation_Costes_GOLD_A647\n"
                    ]
                },
                {
                    "name": "stderr",
                    "output_type": "stream",
                    "text": [
                        "Processing GOLD Features:   2%|\u258f         | 4/170 [00:25<17:41,  6.39s/it]"
                    ]
                },
                {
                    "name": "stdout",
                    "output_type": "stream",
                    "text": [
                        "Trained and saved tuned model for Nuclei_Correlation_Manders_DAPI_GOLD\n",
                        "Trained and saved shuffled tuned model for Nuclei_Correlation_Manders_DAPI_GOLD\n"
                    ]
                },
                {
                    "name": "stderr",
                    "output_type": "stream",
                    "text": [
                        "Processing GOLD Features:   3%|\u258e         | 5/170 [00:31<17:33,  6.38s/it]"
                    ]
                },
                {
                    "name": "stdout",
                    "output_type": "stream",
                    "text": [
                        "Trained and saved tuned model for Nuclei_Correlation_Manders_GOLD_A647\n",
                        "Trained and saved shuffled tuned model for Nuclei_Correlation_Manders_GOLD_A647\n"
                    ]
                },
                {
                    "name": "stderr",
                    "output_type": "stream",
                    "text": [
                        "Processing GOLD Features:   4%|\u258e         | 6/170 [00:38<17:32,  6.42s/it]"
                    ]
                },
                {
                    "name": "stdout",
                    "output_type": "stream",
                    "text": [
                        "Trained and saved tuned model for Nuclei_Correlation_Manders_GOLD_DAPI\n",
                        "Trained and saved shuffled tuned model for Nuclei_Correlation_Manders_GOLD_DAPI\n"
                    ]
                },
                {
                    "name": "stderr",
                    "output_type": "stream",
                    "text": [
                        "Processing GOLD Features:   4%|\u258d         | 7/170 [00:44<17:32,  6.45s/it]"
                    ]
                },
                {
                    "name": "stdout",
                    "output_type": "stream",
                    "text": [
                        "Trained and saved tuned model for Nuclei_Correlation_RWC_DAPI_GOLD\n",
                        "Trained and saved shuffled tuned model for Nuclei_Correlation_RWC_DAPI_GOLD\n"
                    ]
                },
                {
                    "name": "stderr",
                    "output_type": "stream",
                    "text": [
                        "Processing GOLD Features:   5%|\u258d         | 8/170 [00:51<17:21,  6.43s/it]"
                    ]
                },
                {
                    "name": "stdout",
                    "output_type": "stream",
                    "text": [
                        "Trained and saved tuned model for Nuclei_Correlation_RWC_GOLD_A647\n",
                        "Trained and saved shuffled tuned model for Nuclei_Correlation_RWC_GOLD_A647\n"
                    ]
                },
                {
                    "name": "stderr",
                    "output_type": "stream",
                    "text": [
                        "Processing GOLD Features:   5%|\u258c         | 9/170 [00:57<17:15,  6.43s/it]"
                    ]
                },
                {
                    "name": "stdout",
                    "output_type": "stream",
                    "text": [
                        "Trained and saved tuned model for Nuclei_Correlation_RWC_GOLD_DAPI\n",
                        "Trained and saved shuffled tuned model for Nuclei_Correlation_RWC_GOLD_DAPI\n"
                    ]
                },
                {
                    "name": "stderr",
                    "output_type": "stream",
                    "text": [
                        "Processing GOLD Features:   6%|\u258c         | 10/170 [01:04<17:06,  6.42s/it]"
                    ]
                },
                {
                    "name": "stdout",
                    "output_type": "stream",
                    "text": [
                        "Trained and saved tuned model for Nuclei_Granularity_10_GOLD\n",
                        "Trained and saved shuffled tuned model for Nuclei_Granularity_10_GOLD\n"
                    ]
                },
                {
                    "name": "stderr",
                    "output_type": "stream",
                    "text": [
                        "Processing GOLD Features:   6%|\u258b         | 11/170 [01:10<16:57,  6.40s/it]"
                    ]
                },
                {
                    "name": "stdout",
                    "output_type": "stream",
                    "text": [
                        "Trained and saved tuned model for Nuclei_Granularity_11_GOLD\n",
                        "Trained and saved shuffled tuned model for Nuclei_Granularity_11_GOLD\n"
                    ]
                },
                {
                    "name": "stderr",
                    "output_type": "stream",
                    "text": [
                        "Processing GOLD Features:   7%|\u258b         | 12/170 [01:16<16:50,  6.39s/it]"
                    ]
                },
                {
                    "name": "stdout",
                    "output_type": "stream",
                    "text": [
                        "Trained and saved tuned model for Nuclei_Granularity_12_GOLD\n",
                        "Trained and saved shuffled tuned model for Nuclei_Granularity_12_GOLD\n"
                    ]
                },
                {
                    "name": "stderr",
                    "output_type": "stream",
                    "text": [
                        "Processing GOLD Features:   8%|\u258a         | 13/170 [01:23<16:39,  6.37s/it]"
                    ]
                },
                {
                    "name": "stdout",
                    "output_type": "stream",
                    "text": [
                        "Trained and saved tuned model for Nuclei_Granularity_13_GOLD\n",
                        "Trained and saved shuffled tuned model for Nuclei_Granularity_13_GOLD\n"
                    ]
                },
                {
                    "name": "stderr",
                    "output_type": "stream",
                    "text": [
                        "Processing GOLD Features:   8%|\u258a         | 14/170 [01:29<16:33,  6.37s/it]"
                    ]
                },
                {
                    "name": "stdout",
                    "output_type": "stream",
                    "text": [
                        "Trained and saved tuned model for Nuclei_Granularity_14_GOLD\n",
                        "Trained and saved shuffled tuned model for Nuclei_Granularity_14_GOLD\n"
                    ]
                },
                {
                    "name": "stderr",
                    "output_type": "stream",
                    "text": [
                        "Processing GOLD Features:   9%|\u2589         | 15/170 [01:35<16:24,  6.35s/it]"
                    ]
                },
                {
                    "name": "stdout",
                    "output_type": "stream",
                    "text": [
                        "Trained and saved tuned model for Nuclei_Granularity_15_GOLD\n",
                        "Trained and saved shuffled tuned model for Nuclei_Granularity_15_GOLD\n"
                    ]
                },
                {
                    "name": "stderr",
                    "output_type": "stream",
                    "text": [
                        "Processing GOLD Features:   9%|\u2589         | 16/170 [01:42<16:28,  6.42s/it]"
                    ]
                },
                {
                    "name": "stdout",
                    "output_type": "stream",
                    "text": [
                        "Trained and saved tuned model for Nuclei_Granularity_16_GOLD\n",
                        "Trained and saved shuffled tuned model for Nuclei_Granularity_16_GOLD\n"
                    ]
                },
                {
                    "name": "stderr",
                    "output_type": "stream",
                    "text": [
                        "Processing GOLD Features:  10%|\u2588         | 17/170 [01:48<16:20,  6.41s/it]"
                    ]
                },
                {
                    "name": "stdout",
                    "output_type": "stream",
                    "text": [
                        "Trained and saved tuned model for Nuclei_Granularity_1_GOLD\n",
                        "Trained and saved shuffled tuned model for Nuclei_Granularity_1_GOLD\n"
                    ]
                },
                {
                    "name": "stderr",
                    "output_type": "stream",
                    "text": [
                        "Processing GOLD Features:  11%|\u2588         | 18/170 [01:55<16:11,  6.39s/it]"
                    ]
                },
                {
                    "name": "stdout",
                    "output_type": "stream",
                    "text": [
                        "Trained and saved tuned model for Nuclei_Granularity_2_GOLD\n",
                        "Trained and saved shuffled tuned model for Nuclei_Granularity_2_GOLD\n"
                    ]
                },
                {
                    "name": "stderr",
                    "output_type": "stream",
                    "text": [
                        "Processing GOLD Features:  11%|\u2588         | 19/170 [02:01<16:03,  6.38s/it]"
                    ]
                },
                {
                    "name": "stdout",
                    "output_type": "stream",
                    "text": [
                        "Trained and saved tuned model for Nuclei_Granularity_3_GOLD\n",
                        "Trained and saved shuffled tuned model for Nuclei_Granularity_3_GOLD\n"
                    ]
                },
                {
                    "name": "stderr",
                    "output_type": "stream",
                    "text": [
                        "Processing GOLD Features:  12%|\u2588\u258f        | 20/170 [02:07<15:57,  6.38s/it]"
                    ]
                },
                {
                    "name": "stdout",
                    "output_type": "stream",
                    "text": [
                        "Trained and saved tuned model for Nuclei_Granularity_4_GOLD\n",
                        "Trained and saved shuffled tuned model for Nuclei_Granularity_4_GOLD\n"
                    ]
                },
                {
                    "name": "stderr",
                    "output_type": "stream",
                    "text": [
                        "Processing GOLD Features:  12%|\u2588\u258f        | 21/170 [02:14<15:52,  6.39s/it]"
                    ]
                },
                {
                    "name": "stdout",
                    "output_type": "stream",
                    "text": [
                        "Trained and saved tuned model for Nuclei_Granularity_5_GOLD\n",
                        "Trained and saved shuffled tuned model for Nuclei_Granularity_5_GOLD\n"
                    ]
                },
                {
                    "name": "stderr",
                    "output_type": "stream",
                    "text": [
                        "Processing GOLD Features:  13%|\u2588\u258e        | 22/170 [02:20<15:46,  6.40s/it]"
                    ]
                },
                {
                    "name": "stdout",
                    "output_type": "stream",
                    "text": [
                        "Trained and saved tuned model for Nuclei_Granularity_6_GOLD\n",
                        "Trained and saved shuffled tuned model for Nuclei_Granularity_6_GOLD\n"
                    ]
                },
                {
                    "name": "stderr",
                    "output_type": "stream",
                    "text": [
                        "Processing GOLD Features:  14%|\u2588\u258e        | 23/170 [02:27<15:37,  6.38s/it]"
                    ]
                },
                {
                    "name": "stdout",
                    "output_type": "stream",
                    "text": [
                        "Trained and saved tuned model for Nuclei_Granularity_7_GOLD\n",
                        "Trained and saved shuffled tuned model for Nuclei_Granularity_7_GOLD\n"
                    ]
                },
                {
                    "name": "stderr",
                    "output_type": "stream",
                    "text": [
                        "Processing GOLD Features:  14%|\u2588\u258d        | 24/170 [02:33<15:30,  6.37s/it]"
                    ]
                },
                {
                    "name": "stdout",
                    "output_type": "stream",
                    "text": [
                        "Trained and saved tuned model for Nuclei_Granularity_8_GOLD\n",
                        "Trained and saved shuffled tuned model for Nuclei_Granularity_8_GOLD\n"
                    ]
                },
                {
                    "name": "stderr",
                    "output_type": "stream",
                    "text": [
                        "Processing GOLD Features:  15%|\u2588\u258d        | 25/170 [02:39<15:24,  6.37s/it]"
                    ]
                },
                {
                    "name": "stdout",
                    "output_type": "stream",
                    "text": [
                        "Trained and saved tuned model for Nuclei_Granularity_9_GOLD\n",
                        "Trained and saved shuffled tuned model for Nuclei_Granularity_9_GOLD\n"
                    ]
                },
                {
                    "name": "stderr",
                    "output_type": "stream",
                    "text": [
                        "Processing GOLD Features:  15%|\u2588\u258c        | 26/170 [02:46<15:18,  6.38s/it]"
                    ]
                },
                {
                    "name": "stdout",
                    "output_type": "stream",
                    "text": [
                        "Trained and saved tuned model for Nuclei_Intensity_IntegratedIntensityEdge_GOLD\n",
                        "Trained and saved shuffled tuned model for Nuclei_Intensity_IntegratedIntensityEdge_GOLD\n"
                    ]
                },
                {
                    "name": "stderr",
                    "output_type": "stream",
                    "text": [
                        "Processing GOLD Features:  16%|\u2588\u258c        | 27/170 [02:52<15:11,  6.38s/it]"
                    ]
                },
                {
                    "name": "stdout",
                    "output_type": "stream",
                    "text": [
                        "Trained and saved tuned model for Nuclei_Intensity_IntegratedIntensity_GOLD\n",
                        "Trained and saved shuffled tuned model for Nuclei_Intensity_IntegratedIntensity_GOLD\n"
                    ]
                },
                {
                    "name": "stderr",
                    "output_type": "stream",
                    "text": [
                        "Processing GOLD Features:  16%|\u2588\u258b        | 28/170 [02:58<15:04,  6.37s/it]"
                    ]
                },
                {
                    "name": "stdout",
                    "output_type": "stream",
                    "text": [
                        "Trained and saved tuned model for Nuclei_Intensity_LowerQuartileIntensity_GOLD\n",
                        "Trained and saved shuffled tuned model for Nuclei_Intensity_LowerQuartileIntensity_GOLD\n"
                    ]
                },
                {
                    "name": "stderr",
                    "output_type": "stream",
                    "text": [
                        "Processing GOLD Features:  17%|\u2588\u258b        | 29/170 [03:05<14:59,  6.38s/it]"
                    ]
                },
                {
                    "name": "stdout",
                    "output_type": "stream",
                    "text": [
                        "Trained and saved tuned model for Nuclei_Intensity_MADIntensity_GOLD\n",
                        "Trained and saved shuffled tuned model for Nuclei_Intensity_MADIntensity_GOLD\n"
                    ]
                },
                {
                    "name": "stderr",
                    "output_type": "stream",
                    "text": [
                        "Processing GOLD Features:  18%|\u2588\u258a        | 30/170 [03:11<14:55,  6.40s/it]"
                    ]
                },
                {
                    "name": "stdout",
                    "output_type": "stream",
                    "text": [
                        "Trained and saved tuned model for Nuclei_Intensity_MassDisplacement_GOLD\n",
                        "Trained and saved shuffled tuned model for Nuclei_Intensity_MassDisplacement_GOLD\n"
                    ]
                },
                {
                    "name": "stderr",
                    "output_type": "stream",
                    "text": [
                        "Processing GOLD Features:  18%|\u2588\u258a        | 31/170 [03:18<14:47,  6.39s/it]"
                    ]
                },
                {
                    "name": "stdout",
                    "output_type": "stream",
                    "text": [
                        "Trained and saved tuned model for Nuclei_Intensity_MaxIntensityEdge_GOLD\n",
                        "Trained and saved shuffled tuned model for Nuclei_Intensity_MaxIntensityEdge_GOLD\n"
                    ]
                },
                {
                    "name": "stderr",
                    "output_type": "stream",
                    "text": [
                        "Processing GOLD Features:  19%|\u2588\u2589        | 32/170 [03:24<14:41,  6.38s/it]"
                    ]
                },
                {
                    "name": "stdout",
                    "output_type": "stream",
                    "text": [
                        "Trained and saved tuned model for Nuclei_Intensity_MaxIntensity_GOLD\n",
                        "Trained and saved shuffled tuned model for Nuclei_Intensity_MaxIntensity_GOLD\n"
                    ]
                },
                {
                    "name": "stderr",
                    "output_type": "stream",
                    "text": [
                        "Processing GOLD Features:  19%|\u2588\u2589        | 33/170 [03:30<14:35,  6.39s/it]"
                    ]
                },
                {
                    "name": "stdout",
                    "output_type": "stream",
                    "text": [
                        "Trained and saved tuned model for Nuclei_Intensity_MeanIntensityEdge_GOLD\n",
                        "Trained and saved shuffled tuned model for Nuclei_Intensity_MeanIntensityEdge_GOLD\n"
                    ]
                },
                {
                    "name": "stderr",
                    "output_type": "stream",
                    "text": [
                        "Processing GOLD Features:  20%|\u2588\u2588        | 34/170 [03:37<14:28,  6.39s/it]"
                    ]
                },
                {
                    "name": "stdout",
                    "output_type": "stream",
                    "text": [
                        "Trained and saved tuned model for Nuclei_Intensity_MeanIntensity_GOLD\n",
                        "Trained and saved shuffled tuned model for Nuclei_Intensity_MeanIntensity_GOLD\n"
                    ]
                },
                {
                    "name": "stderr",
                    "output_type": "stream",
                    "text": [
                        "Processing GOLD Features:  21%|\u2588\u2588        | 35/170 [03:43<14:22,  6.39s/it]"
                    ]
                },
                {
                    "name": "stdout",
                    "output_type": "stream",
                    "text": [
                        "Trained and saved tuned model for Nuclei_Intensity_MedianIntensity_GOLD\n",
                        "Trained and saved shuffled tuned model for Nuclei_Intensity_MedianIntensity_GOLD\n"
                    ]
                },
                {
                    "name": "stderr",
                    "output_type": "stream",
                    "text": [
                        "Processing GOLD Features:  21%|\u2588\u2588        | 36/170 [03:50<14:15,  6.38s/it]"
                    ]
                },
                {
                    "name": "stdout",
                    "output_type": "stream",
                    "text": [
                        "Trained and saved tuned model for Nuclei_Intensity_MinIntensityEdge_GOLD\n",
                        "Trained and saved shuffled tuned model for Nuclei_Intensity_MinIntensityEdge_GOLD\n"
                    ]
                },
                {
                    "name": "stderr",
                    "output_type": "stream",
                    "text": [
                        "Processing GOLD Features:  22%|\u2588\u2588\u258f       | 37/170 [03:56<14:08,  6.38s/it]"
                    ]
                },
                {
                    "name": "stdout",
                    "output_type": "stream",
                    "text": [
                        "Trained and saved tuned model for Nuclei_Intensity_MinIntensity_GOLD\n",
                        "Trained and saved shuffled tuned model for Nuclei_Intensity_MinIntensity_GOLD\n"
                    ]
                },
                {
                    "name": "stderr",
                    "output_type": "stream",
                    "text": [
                        "Processing GOLD Features:  22%|\u2588\u2588\u258f       | 38/170 [04:02<14:03,  6.39s/it]"
                    ]
                },
                {
                    "name": "stdout",
                    "output_type": "stream",
                    "text": [
                        "Trained and saved tuned model for Nuclei_Intensity_StdIntensityEdge_GOLD\n",
                        "Trained and saved shuffled tuned model for Nuclei_Intensity_StdIntensityEdge_GOLD\n"
                    ]
                },
                {
                    "name": "stderr",
                    "output_type": "stream",
                    "text": [
                        "Processing GOLD Features:  23%|\u2588\u2588\u258e       | 39/170 [04:09<13:56,  6.39s/it]"
                    ]
                },
                {
                    "name": "stdout",
                    "output_type": "stream",
                    "text": [
                        "Trained and saved tuned model for Nuclei_Intensity_StdIntensity_GOLD\n",
                        "Trained and saved shuffled tuned model for Nuclei_Intensity_StdIntensity_GOLD\n"
                    ]
                },
                {
                    "name": "stderr",
                    "output_type": "stream",
                    "text": [
                        "Processing GOLD Features:  24%|\u2588\u2588\u258e       | 40/170 [04:15<13:50,  6.39s/it]"
                    ]
                },
                {
                    "name": "stdout",
                    "output_type": "stream",
                    "text": [
                        "Trained and saved tuned model for Nuclei_Intensity_UpperQuartileIntensity_GOLD\n",
                        "Trained and saved shuffled tuned model for Nuclei_Intensity_UpperQuartileIntensity_GOLD\n"
                    ]
                },
                {
                    "name": "stderr",
                    "output_type": "stream",
                    "text": [
                        "Processing GOLD Features:  24%|\u2588\u2588\u258d       | 41/170 [04:21<13:42,  6.38s/it]"
                    ]
                },
                {
                    "name": "stdout",
                    "output_type": "stream",
                    "text": [
                        "Trained and saved tuned model for Nuclei_Location_CenterMassIntensity_X_GOLD\n",
                        "Trained and saved shuffled tuned model for Nuclei_Location_CenterMassIntensity_X_GOLD\n"
                    ]
                },
                {
                    "name": "stderr",
                    "output_type": "stream",
                    "text": [
                        "Processing GOLD Features:  25%|\u2588\u2588\u258d       | 42/170 [04:28<13:42,  6.42s/it]"
                    ]
                },
                {
                    "name": "stdout",
                    "output_type": "stream",
                    "text": [
                        "Trained and saved tuned model for Nuclei_Location_CenterMassIntensity_Y_GOLD\n",
                        "Trained and saved shuffled tuned model for Nuclei_Location_CenterMassIntensity_Y_GOLD\n"
                    ]
                },
                {
                    "name": "stderr",
                    "output_type": "stream",
                    "text": [
                        "Processing GOLD Features:  25%|\u2588\u2588\u258c       | 43/170 [04:38<15:55,  7.52s/it]"
                    ]
                },
                {
                    "name": "stdout",
                    "output_type": "stream",
                    "text": [
                        "Trained and saved tuned model for Nuclei_Location_CenterMassIntensity_Z_GOLD\n",
                        "Trained and saved shuffled tuned model for Nuclei_Location_CenterMassIntensity_Z_GOLD\n"
                    ]
                },
                {
                    "name": "stderr",
                    "output_type": "stream",
                    "text": [
                        "Processing GOLD Features:  26%|\u2588\u2588\u258c       | 44/170 [04:44<15:01,  7.16s/it]"
                    ]
                },
                {
                    "name": "stdout",
                    "output_type": "stream",
                    "text": [
                        "Trained and saved tuned model for Nuclei_Location_MaxIntensity_X_GOLD\n",
                        "Trained and saved shuffled tuned model for Nuclei_Location_MaxIntensity_X_GOLD\n"
                    ]
                },
                {
                    "name": "stderr",
                    "output_type": "stream",
                    "text": [
                        "Processing GOLD Features:  26%|\u2588\u2588\u258b       | 45/170 [04:51<14:23,  6.91s/it]"
                    ]
                },
                {
                    "name": "stdout",
                    "output_type": "stream",
                    "text": [
                        "Trained and saved tuned model for Nuclei_Location_MaxIntensity_Y_GOLD\n",
                        "Trained and saved shuffled tuned model for Nuclei_Location_MaxIntensity_Y_GOLD\n"
                    ]
                },
                {
                    "name": "stderr",
                    "output_type": "stream",
                    "text": [
                        "Processing GOLD Features:  27%|\u2588\u2588\u258b       | 46/170 [05:01<16:11,  7.84s/it]"
                    ]
                },
                {
                    "name": "stdout",
                    "output_type": "stream",
                    "text": [
                        "Trained and saved tuned model for Nuclei_Location_MaxIntensity_Z_GOLD\n",
                        "Trained and saved shuffled tuned model for Nuclei_Location_MaxIntensity_Z_GOLD\n"
                    ]
                },
                {
                    "name": "stderr",
                    "output_type": "stream",
                    "text": [
                        "Processing GOLD Features:  28%|\u2588\u2588\u258a       | 47/170 [05:07<15:11,  7.41s/it]"
                    ]
                },
                {
                    "name": "stdout",
                    "output_type": "stream",
                    "text": [
                        "Trained and saved tuned model for Nuclei_RadialDistribution_FracAtD_GOLD_1of4\n",
                        "Trained and saved shuffled tuned model for Nuclei_RadialDistribution_FracAtD_GOLD_1of4\n"
                    ]
                },
                {
                    "name": "stderr",
                    "output_type": "stream",
                    "text": [
                        "Processing GOLD Features:  28%|\u2588\u2588\u258a       | 48/170 [05:14<14:25,  7.09s/it]"
                    ]
                },
                {
                    "name": "stdout",
                    "output_type": "stream",
                    "text": [
                        "Trained and saved tuned model for Nuclei_RadialDistribution_FracAtD_GOLD_2of4\n",
                        "Trained and saved shuffled tuned model for Nuclei_RadialDistribution_FracAtD_GOLD_2of4\n"
                    ]
                },
                {
                    "name": "stderr",
                    "output_type": "stream",
                    "text": [
                        "Processing GOLD Features:  29%|\u2588\u2588\u2589       | 49/170 [05:20<13:55,  6.90s/it]"
                    ]
                },
                {
                    "name": "stdout",
                    "output_type": "stream",
                    "text": [
                        "Trained and saved tuned model for Nuclei_RadialDistribution_FracAtD_GOLD_3of4\n",
                        "Trained and saved shuffled tuned model for Nuclei_RadialDistribution_FracAtD_GOLD_3of4\n"
                    ]
                },
                {
                    "name": "stderr",
                    "output_type": "stream",
                    "text": [
                        "Processing GOLD Features:  29%|\u2588\u2588\u2589       | 50/170 [05:26<13:28,  6.74s/it]"
                    ]
                },
                {
                    "name": "stdout",
                    "output_type": "stream",
                    "text": [
                        "Trained and saved tuned model for Nuclei_RadialDistribution_FracAtD_GOLD_4of4\n",
                        "Trained and saved shuffled tuned model for Nuclei_RadialDistribution_FracAtD_GOLD_4of4\n"
                    ]
                },
                {
                    "name": "stderr",
                    "output_type": "stream",
                    "text": [
                        "Processing GOLD Features:  30%|\u2588\u2588\u2588       | 51/170 [05:33<13:09,  6.64s/it]"
                    ]
                },
                {
                    "name": "stdout",
                    "output_type": "stream",
                    "text": [
                        "Trained and saved tuned model for Nuclei_RadialDistribution_MeanFrac_GOLD_1of4\n",
                        "Trained and saved shuffled tuned model for Nuclei_RadialDistribution_MeanFrac_GOLD_1of4\n"
                    ]
                },
                {
                    "name": "stderr",
                    "output_type": "stream",
                    "text": [
                        "Processing GOLD Features:  31%|\u2588\u2588\u2588       | 52/170 [05:39<12:54,  6.56s/it]"
                    ]
                },
                {
                    "name": "stdout",
                    "output_type": "stream",
                    "text": [
                        "Trained and saved tuned model for Nuclei_RadialDistribution_MeanFrac_GOLD_2of4\n",
                        "Trained and saved shuffled tuned model for Nuclei_RadialDistribution_MeanFrac_GOLD_2of4\n"
                    ]
                },
                {
                    "name": "stderr",
                    "output_type": "stream",
                    "text": [
                        "Processing GOLD Features:  31%|\u2588\u2588\u2588       | 53/170 [05:45<12:41,  6.51s/it]"
                    ]
                },
                {
                    "name": "stdout",
                    "output_type": "stream",
                    "text": [
                        "Trained and saved tuned model for Nuclei_RadialDistribution_MeanFrac_GOLD_3of4\n",
                        "Trained and saved shuffled tuned model for Nuclei_RadialDistribution_MeanFrac_GOLD_3of4\n"
                    ]
                },
                {
                    "name": "stderr",
                    "output_type": "stream",
                    "text": [
                        "Processing GOLD Features:  32%|\u2588\u2588\u2588\u258f      | 54/170 [05:52<12:29,  6.46s/it]"
                    ]
                },
                {
                    "name": "stdout",
                    "output_type": "stream",
                    "text": [
                        "Trained and saved tuned model for Nuclei_RadialDistribution_MeanFrac_GOLD_4of4\n",
                        "Trained and saved shuffled tuned model for Nuclei_RadialDistribution_MeanFrac_GOLD_4of4\n"
                    ]
                },
                {
                    "name": "stderr",
                    "output_type": "stream",
                    "text": [
                        "Processing GOLD Features:  32%|\u2588\u2588\u2588\u258f      | 55/170 [05:58<12:20,  6.44s/it]"
                    ]
                },
                {
                    "name": "stdout",
                    "output_type": "stream",
                    "text": [
                        "Trained and saved tuned model for Nuclei_RadialDistribution_RadialCV_GOLD_1of4\n",
                        "Trained and saved shuffled tuned model for Nuclei_RadialDistribution_RadialCV_GOLD_1of4\n"
                    ]
                },
                {
                    "name": "stderr",
                    "output_type": "stream",
                    "text": [
                        "Processing GOLD Features:  33%|\u2588\u2588\u2588\u258e      | 56/170 [06:05<12:12,  6.43s/it]"
                    ]
                },
                {
                    "name": "stdout",
                    "output_type": "stream",
                    "text": [
                        "Trained and saved tuned model for Nuclei_RadialDistribution_RadialCV_GOLD_2of4\n",
                        "Trained and saved shuffled tuned model for Nuclei_RadialDistribution_RadialCV_GOLD_2of4\n"
                    ]
                },
                {
                    "name": "stderr",
                    "output_type": "stream",
                    "text": [
                        "Processing GOLD Features:  34%|\u2588\u2588\u2588\u258e      | 57/170 [06:11<12:04,  6.41s/it]"
                    ]
                },
                {
                    "name": "stdout",
                    "output_type": "stream",
                    "text": [
                        "Trained and saved tuned model for Nuclei_RadialDistribution_RadialCV_GOLD_3of4\n",
                        "Trained and saved shuffled tuned model for Nuclei_RadialDistribution_RadialCV_GOLD_3of4\n"
                    ]
                },
                {
                    "name": "stderr",
                    "output_type": "stream",
                    "text": [
                        "Processing GOLD Features:  34%|\u2588\u2588\u2588\u258d      | 58/170 [06:17<11:57,  6.41s/it]"
                    ]
                },
                {
                    "name": "stdout",
                    "output_type": "stream",
                    "text": [
                        "Trained and saved tuned model for Nuclei_RadialDistribution_RadialCV_GOLD_4of4\n",
                        "Trained and saved shuffled tuned model for Nuclei_RadialDistribution_RadialCV_GOLD_4of4\n"
                    ]
                },
                {
                    "name": "stderr",
                    "output_type": "stream",
                    "text": [
                        "Processing GOLD Features:  35%|\u2588\u2588\u2588\u258d      | 59/170 [06:24<11:49,  6.39s/it]"
                    ]
                },
                {
                    "name": "stdout",
                    "output_type": "stream",
                    "text": [
                        "Trained and saved tuned model for Nuclei_RadialDistribution_ZernikeMagnitude_GOLD_0_0\n",
                        "Trained and saved shuffled tuned model for Nuclei_RadialDistribution_ZernikeMagnitude_GOLD_0_0\n"
                    ]
                },
                {
                    "name": "stderr",
                    "output_type": "stream",
                    "text": [
                        "Processing GOLD Features:  35%|\u2588\u2588\u2588\u258c      | 60/170 [06:30<11:42,  6.39s/it]"
                    ]
                },
                {
                    "name": "stdout",
                    "output_type": "stream",
                    "text": [
                        "Trained and saved tuned model for Nuclei_RadialDistribution_ZernikeMagnitude_GOLD_1_1\n",
                        "Trained and saved shuffled tuned model for Nuclei_RadialDistribution_ZernikeMagnitude_GOLD_1_1\n"
                    ]
                },
                {
                    "name": "stderr",
                    "output_type": "stream",
                    "text": [
                        "Processing GOLD Features:  36%|\u2588\u2588\u2588\u258c      | 61/170 [06:36<11:35,  6.38s/it]"
                    ]
                },
                {
                    "name": "stdout",
                    "output_type": "stream",
                    "text": [
                        "Trained and saved tuned model for Nuclei_RadialDistribution_ZernikeMagnitude_GOLD_2_0\n",
                        "Trained and saved shuffled tuned model for Nuclei_RadialDistribution_ZernikeMagnitude_GOLD_2_0\n"
                    ]
                },
                {
                    "name": "stderr",
                    "output_type": "stream",
                    "text": [
                        "Processing GOLD Features:  36%|\u2588\u2588\u2588\u258b      | 62/170 [06:43<11:30,  6.39s/it]"
                    ]
                },
                {
                    "name": "stdout",
                    "output_type": "stream",
                    "text": [
                        "Trained and saved tuned model for Nuclei_RadialDistribution_ZernikeMagnitude_GOLD_2_2\n",
                        "Trained and saved shuffled tuned model for Nuclei_RadialDistribution_ZernikeMagnitude_GOLD_2_2\n"
                    ]
                },
                {
                    "name": "stderr",
                    "output_type": "stream",
                    "text": [
                        "Processing GOLD Features:  37%|\u2588\u2588\u2588\u258b      | 63/170 [06:49<11:25,  6.41s/it]"
                    ]
                },
                {
                    "name": "stdout",
                    "output_type": "stream",
                    "text": [
                        "Trained and saved tuned model for Nuclei_RadialDistribution_ZernikeMagnitude_GOLD_3_1\n",
                        "Trained and saved shuffled tuned model for Nuclei_RadialDistribution_ZernikeMagnitude_GOLD_3_1\n"
                    ]
                },
                {
                    "name": "stderr",
                    "output_type": "stream",
                    "text": [
                        "Processing GOLD Features:  38%|\u2588\u2588\u2588\u258a      | 64/170 [06:56<11:17,  6.39s/it]"
                    ]
                },
                {
                    "name": "stdout",
                    "output_type": "stream",
                    "text": [
                        "Trained and saved tuned model for Nuclei_RadialDistribution_ZernikeMagnitude_GOLD_3_3\n",
                        "Trained and saved shuffled tuned model for Nuclei_RadialDistribution_ZernikeMagnitude_GOLD_3_3\n"
                    ]
                },
                {
                    "name": "stderr",
                    "output_type": "stream",
                    "text": [
                        "Processing GOLD Features:  38%|\u2588\u2588\u2588\u258a      | 65/170 [07:02<11:10,  6.39s/it]"
                    ]
                },
                {
                    "name": "stdout",
                    "output_type": "stream",
                    "text": [
                        "Trained and saved tuned model for Nuclei_RadialDistribution_ZernikeMagnitude_GOLD_4_0\n",
                        "Trained and saved shuffled tuned model for Nuclei_RadialDistribution_ZernikeMagnitude_GOLD_4_0\n"
                    ]
                },
                {
                    "name": "stderr",
                    "output_type": "stream",
                    "text": [
                        "Processing GOLD Features:  39%|\u2588\u2588\u2588\u2589      | 66/170 [07:09<11:06,  6.40s/it]"
                    ]
                },
                {
                    "name": "stdout",
                    "output_type": "stream",
                    "text": [
                        "Trained and saved tuned model for Nuclei_RadialDistribution_ZernikeMagnitude_GOLD_4_2\n",
                        "Trained and saved shuffled tuned model for Nuclei_RadialDistribution_ZernikeMagnitude_GOLD_4_2\n"
                    ]
                },
                {
                    "name": "stderr",
                    "output_type": "stream",
                    "text": [
                        "Processing GOLD Features:  39%|\u2588\u2588\u2588\u2589      | 67/170 [07:15<11:00,  6.41s/it]"
                    ]
                },
                {
                    "name": "stdout",
                    "output_type": "stream",
                    "text": [
                        "Trained and saved tuned model for Nuclei_RadialDistribution_ZernikeMagnitude_GOLD_4_4\n",
                        "Trained and saved shuffled tuned model for Nuclei_RadialDistribution_ZernikeMagnitude_GOLD_4_4\n"
                    ]
                },
                {
                    "name": "stderr",
                    "output_type": "stream",
                    "text": [
                        "Processing GOLD Features:  40%|\u2588\u2588\u2588\u2588      | 68/170 [07:21<10:52,  6.39s/it]"
                    ]
                },
                {
                    "name": "stdout",
                    "output_type": "stream",
                    "text": [
                        "Trained and saved tuned model for Nuclei_RadialDistribution_ZernikeMagnitude_GOLD_5_1\n",
                        "Trained and saved shuffled tuned model for Nuclei_RadialDistribution_ZernikeMagnitude_GOLD_5_1\n"
                    ]
                },
                {
                    "name": "stderr",
                    "output_type": "stream",
                    "text": [
                        "Processing GOLD Features:  41%|\u2588\u2588\u2588\u2588      | 69/170 [07:28<10:44,  6.38s/it]"
                    ]
                },
                {
                    "name": "stdout",
                    "output_type": "stream",
                    "text": [
                        "Trained and saved tuned model for Nuclei_RadialDistribution_ZernikeMagnitude_GOLD_5_3\n",
                        "Trained and saved shuffled tuned model for Nuclei_RadialDistribution_ZernikeMagnitude_GOLD_5_3\n"
                    ]
                },
                {
                    "name": "stderr",
                    "output_type": "stream",
                    "text": [
                        "Processing GOLD Features:  41%|\u2588\u2588\u2588\u2588      | 70/170 [07:34<10:39,  6.39s/it]"
                    ]
                },
                {
                    "name": "stdout",
                    "output_type": "stream",
                    "text": [
                        "Trained and saved tuned model for Nuclei_RadialDistribution_ZernikeMagnitude_GOLD_5_5\n",
                        "Trained and saved shuffled tuned model for Nuclei_RadialDistribution_ZernikeMagnitude_GOLD_5_5\n"
                    ]
                },
                {
                    "name": "stderr",
                    "output_type": "stream",
                    "text": [
                        "Processing GOLD Features:  42%|\u2588\u2588\u2588\u2588\u258f     | 71/170 [07:40<10:33,  6.40s/it]"
                    ]
                },
                {
                    "name": "stdout",
                    "output_type": "stream",
                    "text": [
                        "Trained and saved tuned model for Nuclei_RadialDistribution_ZernikeMagnitude_GOLD_6_0\n",
                        "Trained and saved shuffled tuned model for Nuclei_RadialDistribution_ZernikeMagnitude_GOLD_6_0\n"
                    ]
                },
                {
                    "name": "stderr",
                    "output_type": "stream",
                    "text": [
                        "Processing GOLD Features:  42%|\u2588\u2588\u2588\u2588\u258f     | 72/170 [07:47<10:30,  6.43s/it]"
                    ]
                },
                {
                    "name": "stdout",
                    "output_type": "stream",
                    "text": [
                        "Trained and saved tuned model for Nuclei_RadialDistribution_ZernikeMagnitude_GOLD_6_2\n",
                        "Trained and saved shuffled tuned model for Nuclei_RadialDistribution_ZernikeMagnitude_GOLD_6_2\n"
                    ]
                },
                {
                    "name": "stderr",
                    "output_type": "stream",
                    "text": [
                        "Processing GOLD Features:  43%|\u2588\u2588\u2588\u2588\u258e     | 73/170 [07:53<10:23,  6.43s/it]"
                    ]
                },
                {
                    "name": "stdout",
                    "output_type": "stream",
                    "text": [
                        "Trained and saved tuned model for Nuclei_RadialDistribution_ZernikeMagnitude_GOLD_6_4\n",
                        "Trained and saved shuffled tuned model for Nuclei_RadialDistribution_ZernikeMagnitude_GOLD_6_4\n"
                    ]
                },
                {
                    "name": "stderr",
                    "output_type": "stream",
                    "text": [
                        "Processing GOLD Features:  44%|\u2588\u2588\u2588\u2588\u258e     | 74/170 [08:00<10:14,  6.40s/it]"
                    ]
                },
                {
                    "name": "stdout",
                    "output_type": "stream",
                    "text": [
                        "Trained and saved tuned model for Nuclei_RadialDistribution_ZernikeMagnitude_GOLD_6_6\n",
                        "Trained and saved shuffled tuned model for Nuclei_RadialDistribution_ZernikeMagnitude_GOLD_6_6\n"
                    ]
                },
                {
                    "name": "stderr",
                    "output_type": "stream",
                    "text": [
                        "Processing GOLD Features:  44%|\u2588\u2588\u2588\u2588\u258d     | 75/170 [08:06<10:08,  6.40s/it]"
                    ]
                },
                {
                    "name": "stdout",
                    "output_type": "stream",
                    "text": [
                        "Trained and saved tuned model for Nuclei_RadialDistribution_ZernikeMagnitude_GOLD_7_1\n",
                        "Trained and saved shuffled tuned model for Nuclei_RadialDistribution_ZernikeMagnitude_GOLD_7_1\n"
                    ]
                },
                {
                    "name": "stderr",
                    "output_type": "stream",
                    "text": [
                        "Processing GOLD Features:  45%|\u2588\u2588\u2588\u2588\u258d     | 76/170 [08:13<10:02,  6.41s/it]"
                    ]
                },
                {
                    "name": "stdout",
                    "output_type": "stream",
                    "text": [
                        "Trained and saved tuned model for Nuclei_RadialDistribution_ZernikeMagnitude_GOLD_7_3\n",
                        "Trained and saved shuffled tuned model for Nuclei_RadialDistribution_ZernikeMagnitude_GOLD_7_3\n"
                    ]
                },
                {
                    "name": "stderr",
                    "output_type": "stream",
                    "text": [
                        "Processing GOLD Features:  45%|\u2588\u2588\u2588\u2588\u258c     | 77/170 [08:19<09:55,  6.41s/it]"
                    ]
                },
                {
                    "name": "stdout",
                    "output_type": "stream",
                    "text": [
                        "Trained and saved tuned model for Nuclei_RadialDistribution_ZernikeMagnitude_GOLD_7_5\n",
                        "Trained and saved shuffled tuned model for Nuclei_RadialDistribution_ZernikeMagnitude_GOLD_7_5\n"
                    ]
                },
                {
                    "name": "stderr",
                    "output_type": "stream",
                    "text": [
                        "Processing GOLD Features:  46%|\u2588\u2588\u2588\u2588\u258c     | 78/170 [08:25<09:47,  6.38s/it]"
                    ]
                },
                {
                    "name": "stdout",
                    "output_type": "stream",
                    "text": [
                        "Trained and saved tuned model for Nuclei_RadialDistribution_ZernikeMagnitude_GOLD_7_7\n",
                        "Trained and saved shuffled tuned model for Nuclei_RadialDistribution_ZernikeMagnitude_GOLD_7_7\n"
                    ]
                },
                {
                    "name": "stderr",
                    "output_type": "stream",
                    "text": [
                        "Processing GOLD Features:  46%|\u2588\u2588\u2588\u2588\u258b     | 79/170 [08:32<09:40,  6.38s/it]"
                    ]
                },
                {
                    "name": "stdout",
                    "output_type": "stream",
                    "text": [
                        "Trained and saved tuned model for Nuclei_RadialDistribution_ZernikeMagnitude_GOLD_8_0\n",
                        "Trained and saved shuffled tuned model for Nuclei_RadialDistribution_ZernikeMagnitude_GOLD_8_0\n"
                    ]
                },
                {
                    "name": "stderr",
                    "output_type": "stream",
                    "text": [
                        "Processing GOLD Features:  47%|\u2588\u2588\u2588\u2588\u258b     | 80/170 [08:38<09:35,  6.39s/it]"
                    ]
                },
                {
                    "name": "stdout",
                    "output_type": "stream",
                    "text": [
                        "Trained and saved tuned model for Nuclei_RadialDistribution_ZernikeMagnitude_GOLD_8_2\n",
                        "Trained and saved shuffled tuned model for Nuclei_RadialDistribution_ZernikeMagnitude_GOLD_8_2\n"
                    ]
                },
                {
                    "name": "stderr",
                    "output_type": "stream",
                    "text": [
                        "Processing GOLD Features:  48%|\u2588\u2588\u2588\u2588\u258a     | 81/170 [08:45<09:28,  6.39s/it]"
                    ]
                },
                {
                    "name": "stdout",
                    "output_type": "stream",
                    "text": [
                        "Trained and saved tuned model for Nuclei_RadialDistribution_ZernikeMagnitude_GOLD_8_4\n",
                        "Trained and saved shuffled tuned model for Nuclei_RadialDistribution_ZernikeMagnitude_GOLD_8_4\n"
                    ]
                },
                {
                    "name": "stderr",
                    "output_type": "stream",
                    "text": [
                        "Processing GOLD Features:  48%|\u2588\u2588\u2588\u2588\u258a     | 82/170 [08:51<09:21,  6.38s/it]"
                    ]
                },
                {
                    "name": "stdout",
                    "output_type": "stream",
                    "text": [
                        "Trained and saved tuned model for Nuclei_RadialDistribution_ZernikeMagnitude_GOLD_8_6\n",
                        "Trained and saved shuffled tuned model for Nuclei_RadialDistribution_ZernikeMagnitude_GOLD_8_6\n"
                    ]
                },
                {
                    "name": "stderr",
                    "output_type": "stream",
                    "text": [
                        "Processing GOLD Features:  49%|\u2588\u2588\u2588\u2588\u2589     | 83/170 [08:57<09:16,  6.39s/it]"
                    ]
                },
                {
                    "name": "stdout",
                    "output_type": "stream",
                    "text": [
                        "Trained and saved tuned model for Nuclei_RadialDistribution_ZernikeMagnitude_GOLD_8_8\n",
                        "Trained and saved shuffled tuned model for Nuclei_RadialDistribution_ZernikeMagnitude_GOLD_8_8\n"
                    ]
                },
                {
                    "name": "stderr",
                    "output_type": "stream",
                    "text": [
                        "Processing GOLD Features:  49%|\u2588\u2588\u2588\u2588\u2589     | 84/170 [09:04<09:11,  6.42s/it]"
                    ]
                },
                {
                    "name": "stdout",
                    "output_type": "stream",
                    "text": [
                        "Trained and saved tuned model for Nuclei_RadialDistribution_ZernikeMagnitude_GOLD_9_1\n",
                        "Trained and saved shuffled tuned model for Nuclei_RadialDistribution_ZernikeMagnitude_GOLD_9_1\n"
                    ]
                },
                {
                    "name": "stderr",
                    "output_type": "stream",
                    "text": [
                        "Processing GOLD Features:  50%|\u2588\u2588\u2588\u2588\u2588     | 85/170 [09:10<09:04,  6.41s/it]"
                    ]
                },
                {
                    "name": "stdout",
                    "output_type": "stream",
                    "text": [
                        "Trained and saved tuned model for Nuclei_RadialDistribution_ZernikeMagnitude_GOLD_9_3\n",
                        "Trained and saved shuffled tuned model for Nuclei_RadialDistribution_ZernikeMagnitude_GOLD_9_3\n"
                    ]
                },
                {
                    "name": "stderr",
                    "output_type": "stream",
                    "text": [
                        "Processing GOLD Features:  51%|\u2588\u2588\u2588\u2588\u2588     | 86/170 [09:17<08:57,  6.40s/it]"
                    ]
                },
                {
                    "name": "stdout",
                    "output_type": "stream",
                    "text": [
                        "Trained and saved tuned model for Nuclei_RadialDistribution_ZernikeMagnitude_GOLD_9_5\n",
                        "Trained and saved shuffled tuned model for Nuclei_RadialDistribution_ZernikeMagnitude_GOLD_9_5\n"
                    ]
                },
                {
                    "name": "stderr",
                    "output_type": "stream",
                    "text": [
                        "Processing GOLD Features:  51%|\u2588\u2588\u2588\u2588\u2588     | 87/170 [09:23<08:53,  6.42s/it]"
                    ]
                },
                {
                    "name": "stdout",
                    "output_type": "stream",
                    "text": [
                        "Trained and saved tuned model for Nuclei_RadialDistribution_ZernikeMagnitude_GOLD_9_7\n",
                        "Trained and saved shuffled tuned model for Nuclei_RadialDistribution_ZernikeMagnitude_GOLD_9_7\n"
                    ]
                },
                {
                    "name": "stderr",
                    "output_type": "stream",
                    "text": [
                        "Processing GOLD Features:  52%|\u2588\u2588\u2588\u2588\u2588\u258f    | 88/170 [09:29<08:46,  6.42s/it]"
                    ]
                },
                {
                    "name": "stdout",
                    "output_type": "stream",
                    "text": [
                        "Trained and saved tuned model for Nuclei_RadialDistribution_ZernikeMagnitude_GOLD_9_9\n",
                        "Trained and saved shuffled tuned model for Nuclei_RadialDistribution_ZernikeMagnitude_GOLD_9_9\n"
                    ]
                },
                {
                    "name": "stderr",
                    "output_type": "stream",
                    "text": [
                        "Processing GOLD Features:  52%|\u2588\u2588\u2588\u2588\u2588\u258f    | 89/170 [09:36<08:34,  6.35s/it]"
                    ]
                },
                {
                    "name": "stdout",
                    "output_type": "stream",
                    "text": [
                        "Trained and saved tuned model for Nuclei_RadialDistribution_ZernikePhase_GOLD_0_0\n",
                        "Trained and saved shuffled tuned model for Nuclei_RadialDistribution_ZernikePhase_GOLD_0_0\n"
                    ]
                },
                {
                    "name": "stderr",
                    "output_type": "stream",
                    "text": [
                        "Processing GOLD Features:  53%|\u2588\u2588\u2588\u2588\u2588\u258e    | 90/170 [09:42<08:26,  6.33s/it]"
                    ]
                },
                {
                    "name": "stdout",
                    "output_type": "stream",
                    "text": [
                        "Trained and saved tuned model for Nuclei_RadialDistribution_ZernikePhase_GOLD_1_1\n",
                        "Trained and saved shuffled tuned model for Nuclei_RadialDistribution_ZernikePhase_GOLD_1_1\n"
                    ]
                },
                {
                    "name": "stderr",
                    "output_type": "stream",
                    "text": [
                        "Processing GOLD Features:  54%|\u2588\u2588\u2588\u2588\u2588\u258e    | 91/170 [09:48<08:18,  6.30s/it]"
                    ]
                },
                {
                    "name": "stdout",
                    "output_type": "stream",
                    "text": [
                        "Trained and saved tuned model for Nuclei_RadialDistribution_ZernikePhase_GOLD_2_0\n",
                        "Trained and saved shuffled tuned model for Nuclei_RadialDistribution_ZernikePhase_GOLD_2_0\n"
                    ]
                },
                {
                    "name": "stderr",
                    "output_type": "stream",
                    "text": [
                        "Processing GOLD Features:  54%|\u2588\u2588\u2588\u2588\u2588\u258d    | 92/170 [09:54<08:11,  6.30s/it]"
                    ]
                },
                {
                    "name": "stdout",
                    "output_type": "stream",
                    "text": [
                        "Trained and saved tuned model for Nuclei_RadialDistribution_ZernikePhase_GOLD_2_2\n",
                        "Trained and saved shuffled tuned model for Nuclei_RadialDistribution_ZernikePhase_GOLD_2_2\n"
                    ]
                },
                {
                    "name": "stderr",
                    "output_type": "stream",
                    "text": [
                        "Processing GOLD Features:  55%|\u2588\u2588\u2588\u2588\u2588\u258d    | 93/170 [10:01<08:03,  6.28s/it]"
                    ]
                },
                {
                    "name": "stdout",
                    "output_type": "stream",
                    "text": [
                        "Trained and saved tuned model for Nuclei_RadialDistribution_ZernikePhase_GOLD_3_1\n",
                        "Trained and saved shuffled tuned model for Nuclei_RadialDistribution_ZernikePhase_GOLD_3_1\n"
                    ]
                },
                {
                    "name": "stderr",
                    "output_type": "stream",
                    "text": [
                        "Processing GOLD Features:  55%|\u2588\u2588\u2588\u2588\u2588\u258c    | 94/170 [10:07<07:55,  6.26s/it]"
                    ]
                },
                {
                    "name": "stdout",
                    "output_type": "stream",
                    "text": [
                        "Trained and saved tuned model for Nuclei_RadialDistribution_ZernikePhase_GOLD_3_3\n",
                        "Trained and saved shuffled tuned model for Nuclei_RadialDistribution_ZernikePhase_GOLD_3_3\n"
                    ]
                },
                {
                    "name": "stderr",
                    "output_type": "stream",
                    "text": [
                        "Processing GOLD Features:  56%|\u2588\u2588\u2588\u2588\u2588\u258c    | 95/170 [10:13<07:52,  6.31s/it]"
                    ]
                },
                {
                    "name": "stdout",
                    "output_type": "stream",
                    "text": [
                        "Trained and saved tuned model for Nuclei_RadialDistribution_ZernikePhase_GOLD_4_0\n",
                        "Trained and saved shuffled tuned model for Nuclei_RadialDistribution_ZernikePhase_GOLD_4_0\n"
                    ]
                },
                {
                    "name": "stderr",
                    "output_type": "stream",
                    "text": [
                        "Processing GOLD Features:  56%|\u2588\u2588\u2588\u2588\u2588\u258b    | 96/170 [10:20<07:47,  6.32s/it]"
                    ]
                },
                {
                    "name": "stdout",
                    "output_type": "stream",
                    "text": [
                        "Trained and saved tuned model for Nuclei_RadialDistribution_ZernikePhase_GOLD_4_2\n",
                        "Trained and saved shuffled tuned model for Nuclei_RadialDistribution_ZernikePhase_GOLD_4_2\n"
                    ]
                },
                {
                    "name": "stderr",
                    "output_type": "stream",
                    "text": [
                        "Processing GOLD Features:  57%|\u2588\u2588\u2588\u2588\u2588\u258b    | 97/170 [10:26<07:40,  6.31s/it]"
                    ]
                },
                {
                    "name": "stdout",
                    "output_type": "stream",
                    "text": [
                        "Trained and saved tuned model for Nuclei_RadialDistribution_ZernikePhase_GOLD_4_4\n",
                        "Trained and saved shuffled tuned model for Nuclei_RadialDistribution_ZernikePhase_GOLD_4_4\n"
                    ]
                },
                {
                    "name": "stderr",
                    "output_type": "stream",
                    "text": [
                        "Processing GOLD Features:  58%|\u2588\u2588\u2588\u2588\u2588\u258a    | 98/170 [10:32<07:32,  6.29s/it]"
                    ]
                },
                {
                    "name": "stdout",
                    "output_type": "stream",
                    "text": [
                        "Trained and saved tuned model for Nuclei_RadialDistribution_ZernikePhase_GOLD_5_1\n",
                        "Trained and saved shuffled tuned model for Nuclei_RadialDistribution_ZernikePhase_GOLD_5_1\n"
                    ]
                },
                {
                    "name": "stderr",
                    "output_type": "stream",
                    "text": [
                        "Processing GOLD Features:  58%|\u2588\u2588\u2588\u2588\u2588\u258a    | 99/170 [10:38<07:25,  6.27s/it]"
                    ]
                },
                {
                    "name": "stdout",
                    "output_type": "stream",
                    "text": [
                        "Trained and saved tuned model for Nuclei_RadialDistribution_ZernikePhase_GOLD_5_3\n",
                        "Trained and saved shuffled tuned model for Nuclei_RadialDistribution_ZernikePhase_GOLD_5_3\n"
                    ]
                },
                {
                    "name": "stderr",
                    "output_type": "stream",
                    "text": [
                        "Processing GOLD Features:  59%|\u2588\u2588\u2588\u2588\u2588\u2589    | 100/170 [10:45<07:17,  6.25s/it]"
                    ]
                },
                {
                    "name": "stdout",
                    "output_type": "stream",
                    "text": [
                        "Trained and saved tuned model for Nuclei_RadialDistribution_ZernikePhase_GOLD_5_5\n",
                        "Trained and saved shuffled tuned model for Nuclei_RadialDistribution_ZernikePhase_GOLD_5_5\n"
                    ]
                },
                {
                    "name": "stderr",
                    "output_type": "stream",
                    "text": [
                        "Processing GOLD Features:  59%|\u2588\u2588\u2588\u2588\u2588\u2589    | 101/170 [10:51<07:13,  6.29s/it]"
                    ]
                },
                {
                    "name": "stdout",
                    "output_type": "stream",
                    "text": [
                        "Trained and saved tuned model for Nuclei_RadialDistribution_ZernikePhase_GOLD_6_0\n",
                        "Trained and saved shuffled tuned model for Nuclei_RadialDistribution_ZernikePhase_GOLD_6_0\n"
                    ]
                },
                {
                    "name": "stderr",
                    "output_type": "stream",
                    "text": [
                        "Processing GOLD Features:  60%|\u2588\u2588\u2588\u2588\u2588\u2588    | 102/170 [10:57<07:06,  6.28s/it]"
                    ]
                },
                {
                    "name": "stdout",
                    "output_type": "stream",
                    "text": [
                        "Trained and saved tuned model for Nuclei_RadialDistribution_ZernikePhase_GOLD_6_2\n",
                        "Trained and saved shuffled tuned model for Nuclei_RadialDistribution_ZernikePhase_GOLD_6_2\n"
                    ]
                },
                {
                    "name": "stderr",
                    "output_type": "stream",
                    "text": [
                        "Processing GOLD Features:  61%|\u2588\u2588\u2588\u2588\u2588\u2588    | 103/170 [11:03<07:00,  6.27s/it]"
                    ]
                },
                {
                    "name": "stdout",
                    "output_type": "stream",
                    "text": [
                        "Trained and saved tuned model for Nuclei_RadialDistribution_ZernikePhase_GOLD_6_4\n",
                        "Trained and saved shuffled tuned model for Nuclei_RadialDistribution_ZernikePhase_GOLD_6_4\n"
                    ]
                },
                {
                    "name": "stderr",
                    "output_type": "stream",
                    "text": [
                        "Processing GOLD Features:  61%|\u2588\u2588\u2588\u2588\u2588\u2588    | 104/170 [11:10<06:52,  6.25s/it]"
                    ]
                },
                {
                    "name": "stdout",
                    "output_type": "stream",
                    "text": [
                        "Trained and saved tuned model for Nuclei_RadialDistribution_ZernikePhase_GOLD_6_6\n",
                        "Trained and saved shuffled tuned model for Nuclei_RadialDistribution_ZernikePhase_GOLD_6_6\n"
                    ]
                },
                {
                    "name": "stderr",
                    "output_type": "stream",
                    "text": [
                        "Processing GOLD Features:  62%|\u2588\u2588\u2588\u2588\u2588\u2588\u258f   | 105/170 [11:16<06:46,  6.26s/it]"
                    ]
                },
                {
                    "name": "stdout",
                    "output_type": "stream",
                    "text": [
                        "Trained and saved tuned model for Nuclei_RadialDistribution_ZernikePhase_GOLD_7_1\n",
                        "Trained and saved shuffled tuned model for Nuclei_RadialDistribution_ZernikePhase_GOLD_7_1\n"
                    ]
                },
                {
                    "name": "stderr",
                    "output_type": "stream",
                    "text": [
                        "Processing GOLD Features:  62%|\u2588\u2588\u2588\u2588\u2588\u2588\u258f   | 106/170 [11:22<06:39,  6.25s/it]"
                    ]
                },
                {
                    "name": "stdout",
                    "output_type": "stream",
                    "text": [
                        "Trained and saved tuned model for Nuclei_RadialDistribution_ZernikePhase_GOLD_7_3\n",
                        "Trained and saved shuffled tuned model for Nuclei_RadialDistribution_ZernikePhase_GOLD_7_3\n"
                    ]
                },
                {
                    "name": "stderr",
                    "output_type": "stream",
                    "text": [
                        "Processing GOLD Features:  63%|\u2588\u2588\u2588\u2588\u2588\u2588\u258e   | 107/170 [11:29<06:35,  6.27s/it]"
                    ]
                },
                {
                    "name": "stdout",
                    "output_type": "stream",
                    "text": [
                        "Trained and saved tuned model for Nuclei_RadialDistribution_ZernikePhase_GOLD_7_5\n",
                        "Trained and saved shuffled tuned model for Nuclei_RadialDistribution_ZernikePhase_GOLD_7_5\n"
                    ]
                },
                {
                    "name": "stderr",
                    "output_type": "stream",
                    "text": [
                        "Processing GOLD Features:  64%|\u2588\u2588\u2588\u2588\u2588\u2588\u258e   | 108/170 [11:35<06:26,  6.23s/it]"
                    ]
                },
                {
                    "name": "stdout",
                    "output_type": "stream",
                    "text": [
                        "Trained and saved tuned model for Nuclei_RadialDistribution_ZernikePhase_GOLD_7_7\n",
                        "Trained and saved shuffled tuned model for Nuclei_RadialDistribution_ZernikePhase_GOLD_7_7\n"
                    ]
                },
                {
                    "name": "stderr",
                    "output_type": "stream",
                    "text": [
                        "Processing GOLD Features:  64%|\u2588\u2588\u2588\u2588\u2588\u2588\u258d   | 109/170 [11:41<06:21,  6.26s/it]"
                    ]
                },
                {
                    "name": "stdout",
                    "output_type": "stream",
                    "text": [
                        "Trained and saved tuned model for Nuclei_RadialDistribution_ZernikePhase_GOLD_8_0\n",
                        "Trained and saved shuffled tuned model for Nuclei_RadialDistribution_ZernikePhase_GOLD_8_0\n"
                    ]
                },
                {
                    "name": "stderr",
                    "output_type": "stream",
                    "text": [
                        "Processing GOLD Features:  65%|\u2588\u2588\u2588\u2588\u2588\u2588\u258d   | 110/170 [11:47<06:17,  6.29s/it]"
                    ]
                },
                {
                    "name": "stdout",
                    "output_type": "stream",
                    "text": [
                        "Trained and saved tuned model for Nuclei_RadialDistribution_ZernikePhase_GOLD_8_2\n",
                        "Trained and saved shuffled tuned model for Nuclei_RadialDistribution_ZernikePhase_GOLD_8_2\n"
                    ]
                },
                {
                    "name": "stderr",
                    "output_type": "stream",
                    "text": [
                        "Processing GOLD Features:  65%|\u2588\u2588\u2588\u2588\u2588\u2588\u258c   | 111/170 [11:54<06:11,  6.30s/it]"
                    ]
                },
                {
                    "name": "stdout",
                    "output_type": "stream",
                    "text": [
                        "Trained and saved tuned model for Nuclei_RadialDistribution_ZernikePhase_GOLD_8_4\n",
                        "Trained and saved shuffled tuned model for Nuclei_RadialDistribution_ZernikePhase_GOLD_8_4\n"
                    ]
                },
                {
                    "name": "stderr",
                    "output_type": "stream",
                    "text": [
                        "Processing GOLD Features:  66%|\u2588\u2588\u2588\u2588\u2588\u2588\u258c   | 112/170 [12:00<06:04,  6.28s/it]"
                    ]
                },
                {
                    "name": "stdout",
                    "output_type": "stream",
                    "text": [
                        "Trained and saved tuned model for Nuclei_RadialDistribution_ZernikePhase_GOLD_8_6\n",
                        "Trained and saved shuffled tuned model for Nuclei_RadialDistribution_ZernikePhase_GOLD_8_6\n"
                    ]
                },
                {
                    "name": "stderr",
                    "output_type": "stream",
                    "text": [
                        "Processing GOLD Features:  66%|\u2588\u2588\u2588\u2588\u2588\u2588\u258b   | 113/170 [12:06<05:56,  6.25s/it]"
                    ]
                },
                {
                    "name": "stdout",
                    "output_type": "stream",
                    "text": [
                        "Trained and saved tuned model for Nuclei_RadialDistribution_ZernikePhase_GOLD_8_8\n",
                        "Trained and saved shuffled tuned model for Nuclei_RadialDistribution_ZernikePhase_GOLD_8_8\n"
                    ]
                },
                {
                    "name": "stderr",
                    "output_type": "stream",
                    "text": [
                        "Processing GOLD Features:  67%|\u2588\u2588\u2588\u2588\u2588\u2588\u258b   | 114/170 [12:12<05:49,  6.23s/it]"
                    ]
                },
                {
                    "name": "stdout",
                    "output_type": "stream",
                    "text": [
                        "Trained and saved tuned model for Nuclei_RadialDistribution_ZernikePhase_GOLD_9_1\n",
                        "Trained and saved shuffled tuned model for Nuclei_RadialDistribution_ZernikePhase_GOLD_9_1\n"
                    ]
                },
                {
                    "name": "stderr",
                    "output_type": "stream",
                    "text": [
                        "Processing GOLD Features:  68%|\u2588\u2588\u2588\u2588\u2588\u2588\u258a   | 115/170 [12:19<05:44,  6.26s/it]"
                    ]
                },
                {
                    "name": "stdout",
                    "output_type": "stream",
                    "text": [
                        "Trained and saved tuned model for Nuclei_RadialDistribution_ZernikePhase_GOLD_9_3\n",
                        "Trained and saved shuffled tuned model for Nuclei_RadialDistribution_ZernikePhase_GOLD_9_3\n"
                    ]
                },
                {
                    "name": "stderr",
                    "output_type": "stream",
                    "text": [
                        "Processing GOLD Features:  68%|\u2588\u2588\u2588\u2588\u2588\u2588\u258a   | 116/170 [12:25<05:36,  6.24s/it]"
                    ]
                },
                {
                    "name": "stdout",
                    "output_type": "stream",
                    "text": [
                        "Trained and saved tuned model for Nuclei_RadialDistribution_ZernikePhase_GOLD_9_5\n",
                        "Trained and saved shuffled tuned model for Nuclei_RadialDistribution_ZernikePhase_GOLD_9_5\n"
                    ]
                },
                {
                    "name": "stderr",
                    "output_type": "stream",
                    "text": [
                        "Processing GOLD Features:  69%|\u2588\u2588\u2588\u2588\u2588\u2588\u2589   | 117/170 [12:31<05:30,  6.23s/it]"
                    ]
                },
                {
                    "name": "stdout",
                    "output_type": "stream",
                    "text": [
                        "Trained and saved tuned model for Nuclei_RadialDistribution_ZernikePhase_GOLD_9_7\n",
                        "Trained and saved shuffled tuned model for Nuclei_RadialDistribution_ZernikePhase_GOLD_9_7\n"
                    ]
                },
                {
                    "name": "stderr",
                    "output_type": "stream",
                    "text": [
                        "Processing GOLD Features:  69%|\u2588\u2588\u2588\u2588\u2588\u2588\u2589   | 118/170 [12:37<05:23,  6.21s/it]"
                    ]
                },
                {
                    "name": "stdout",
                    "output_type": "stream",
                    "text": [
                        "Trained and saved tuned model for Nuclei_RadialDistribution_ZernikePhase_GOLD_9_9\n",
                        "Trained and saved shuffled tuned model for Nuclei_RadialDistribution_ZernikePhase_GOLD_9_9\n"
                    ]
                },
                {
                    "name": "stderr",
                    "output_type": "stream",
                    "text": [
                        "Processing GOLD Features:  70%|\u2588\u2588\u2588\u2588\u2588\u2588\u2588   | 119/170 [12:43<05:18,  6.25s/it]"
                    ]
                },
                {
                    "name": "stdout",
                    "output_type": "stream",
                    "text": [
                        "Trained and saved tuned model for Nuclei_Texture_AngularSecondMoment_GOLD_3_00_256\n",
                        "Trained and saved shuffled tuned model for Nuclei_Texture_AngularSecondMoment_GOLD_3_00_256\n"
                    ]
                },
                {
                    "name": "stderr",
                    "output_type": "stream",
                    "text": [
                        "Processing GOLD Features:  71%|\u2588\u2588\u2588\u2588\u2588\u2588\u2588   | 120/170 [12:50<05:14,  6.29s/it]"
                    ]
                },
                {
                    "name": "stdout",
                    "output_type": "stream",
                    "text": [
                        "Trained and saved tuned model for Nuclei_Texture_AngularSecondMoment_GOLD_3_01_256\n",
                        "Trained and saved shuffled tuned model for Nuclei_Texture_AngularSecondMoment_GOLD_3_01_256\n"
                    ]
                },
                {
                    "name": "stderr",
                    "output_type": "stream",
                    "text": [
                        "Processing GOLD Features:  71%|\u2588\u2588\u2588\u2588\u2588\u2588\u2588   | 121/170 [12:56<05:08,  6.31s/it]"
                    ]
                },
                {
                    "name": "stdout",
                    "output_type": "stream",
                    "text": [
                        "Trained and saved tuned model for Nuclei_Texture_AngularSecondMoment_GOLD_3_02_256\n",
                        "Trained and saved shuffled tuned model for Nuclei_Texture_AngularSecondMoment_GOLD_3_02_256\n"
                    ]
                },
                {
                    "name": "stderr",
                    "output_type": "stream",
                    "text": [
                        "Processing GOLD Features:  72%|\u2588\u2588\u2588\u2588\u2588\u2588\u2588\u258f  | 122/170 [13:03<05:03,  6.33s/it]"
                    ]
                },
                {
                    "name": "stdout",
                    "output_type": "stream",
                    "text": [
                        "Trained and saved tuned model for Nuclei_Texture_AngularSecondMoment_GOLD_3_03_256\n",
                        "Trained and saved shuffled tuned model for Nuclei_Texture_AngularSecondMoment_GOLD_3_03_256\n"
                    ]
                },
                {
                    "name": "stderr",
                    "output_type": "stream",
                    "text": [
                        "Processing GOLD Features:  72%|\u2588\u2588\u2588\u2588\u2588\u2588\u2588\u258f  | 123/170 [13:09<04:59,  6.37s/it]"
                    ]
                },
                {
                    "name": "stdout",
                    "output_type": "stream",
                    "text": [
                        "Trained and saved tuned model for Nuclei_Texture_Contrast_GOLD_3_00_256\n",
                        "Trained and saved shuffled tuned model for Nuclei_Texture_Contrast_GOLD_3_00_256\n"
                    ]
                },
                {
                    "name": "stderr",
                    "output_type": "stream",
                    "text": [
                        "Processing GOLD Features:  73%|\u2588\u2588\u2588\u2588\u2588\u2588\u2588\u258e  | 124/170 [13:15<04:53,  6.38s/it]"
                    ]
                },
                {
                    "name": "stdout",
                    "output_type": "stream",
                    "text": [
                        "Trained and saved tuned model for Nuclei_Texture_Contrast_GOLD_3_01_256\n",
                        "Trained and saved shuffled tuned model for Nuclei_Texture_Contrast_GOLD_3_01_256\n"
                    ]
                },
                {
                    "name": "stderr",
                    "output_type": "stream",
                    "text": [
                        "Processing GOLD Features:  74%|\u2588\u2588\u2588\u2588\u2588\u2588\u2588\u258e  | 125/170 [13:22<04:49,  6.42s/it]"
                    ]
                },
                {
                    "name": "stdout",
                    "output_type": "stream",
                    "text": [
                        "Trained and saved tuned model for Nuclei_Texture_Contrast_GOLD_3_02_256\n",
                        "Trained and saved shuffled tuned model for Nuclei_Texture_Contrast_GOLD_3_02_256\n"
                    ]
                },
                {
                    "name": "stderr",
                    "output_type": "stream",
                    "text": [
                        "Processing GOLD Features:  74%|\u2588\u2588\u2588\u2588\u2588\u2588\u2588\u258d  | 126/170 [13:28<04:42,  6.42s/it]"
                    ]
                },
                {
                    "name": "stdout",
                    "output_type": "stream",
                    "text": [
                        "Trained and saved tuned model for Nuclei_Texture_Contrast_GOLD_3_03_256\n",
                        "Trained and saved shuffled tuned model for Nuclei_Texture_Contrast_GOLD_3_03_256\n"
                    ]
                },
                {
                    "name": "stderr",
                    "output_type": "stream",
                    "text": [
                        "Processing GOLD Features:  75%|\u2588\u2588\u2588\u2588\u2588\u2588\u2588\u258d  | 127/170 [13:35<04:35,  6.41s/it]"
                    ]
                },
                {
                    "name": "stdout",
                    "output_type": "stream",
                    "text": [
                        "Trained and saved tuned model for Nuclei_Texture_Correlation_GOLD_3_00_256\n",
                        "Trained and saved shuffled tuned model for Nuclei_Texture_Correlation_GOLD_3_00_256\n"
                    ]
                },
                {
                    "name": "stderr",
                    "output_type": "stream",
                    "text": [
                        "Processing GOLD Features:  75%|\u2588\u2588\u2588\u2588\u2588\u2588\u2588\u258c  | 128/170 [13:41<04:28,  6.40s/it]"
                    ]
                },
                {
                    "name": "stdout",
                    "output_type": "stream",
                    "text": [
                        "Trained and saved tuned model for Nuclei_Texture_Correlation_GOLD_3_01_256\n",
                        "Trained and saved shuffled tuned model for Nuclei_Texture_Correlation_GOLD_3_01_256\n"
                    ]
                },
                {
                    "name": "stderr",
                    "output_type": "stream",
                    "text": [
                        "Processing GOLD Features:  76%|\u2588\u2588\u2588\u2588\u2588\u2588\u2588\u258c  | 129/170 [13:48<04:22,  6.41s/it]"
                    ]
                },
                {
                    "name": "stdout",
                    "output_type": "stream",
                    "text": [
                        "Trained and saved tuned model for Nuclei_Texture_Correlation_GOLD_3_02_256\n",
                        "Trained and saved shuffled tuned model for Nuclei_Texture_Correlation_GOLD_3_02_256\n"
                    ]
                },
                {
                    "name": "stderr",
                    "output_type": "stream",
                    "text": [
                        "Processing GOLD Features:  76%|\u2588\u2588\u2588\u2588\u2588\u2588\u2588\u258b  | 130/170 [13:54<04:16,  6.42s/it]"
                    ]
                },
                {
                    "name": "stdout",
                    "output_type": "stream",
                    "text": [
                        "Trained and saved tuned model for Nuclei_Texture_Correlation_GOLD_3_03_256\n",
                        "Trained and saved shuffled tuned model for Nuclei_Texture_Correlation_GOLD_3_03_256\n"
                    ]
                },
                {
                    "name": "stderr",
                    "output_type": "stream",
                    "text": [
                        "Processing GOLD Features:  77%|\u2588\u2588\u2588\u2588\u2588\u2588\u2588\u258b  | 131/170 [14:00<04:09,  6.40s/it]"
                    ]
                },
                {
                    "name": "stdout",
                    "output_type": "stream",
                    "text": [
                        "Trained and saved tuned model for Nuclei_Texture_DifferenceEntropy_GOLD_3_00_256\n",
                        "Trained and saved shuffled tuned model for Nuclei_Texture_DifferenceEntropy_GOLD_3_00_256\n"
                    ]
                },
                {
                    "name": "stderr",
                    "output_type": "stream",
                    "text": [
                        "Processing GOLD Features:  78%|\u2588\u2588\u2588\u2588\u2588\u2588\u2588\u258a  | 132/170 [14:07<04:02,  6.38s/it]"
                    ]
                },
                {
                    "name": "stdout",
                    "output_type": "stream",
                    "text": [
                        "Trained and saved tuned model for Nuclei_Texture_DifferenceEntropy_GOLD_3_01_256\n",
                        "Trained and saved shuffled tuned model for Nuclei_Texture_DifferenceEntropy_GOLD_3_01_256\n"
                    ]
                },
                {
                    "name": "stderr",
                    "output_type": "stream",
                    "text": [
                        "Processing GOLD Features:  78%|\u2588\u2588\u2588\u2588\u2588\u2588\u2588\u258a  | 133/170 [14:13<03:56,  6.39s/it]"
                    ]
                },
                {
                    "name": "stdout",
                    "output_type": "stream",
                    "text": [
                        "Trained and saved tuned model for Nuclei_Texture_DifferenceEntropy_GOLD_3_02_256\n",
                        "Trained and saved shuffled tuned model for Nuclei_Texture_DifferenceEntropy_GOLD_3_02_256\n"
                    ]
                },
                {
                    "name": "stderr",
                    "output_type": "stream",
                    "text": [
                        "Processing GOLD Features:  79%|\u2588\u2588\u2588\u2588\u2588\u2588\u2588\u2589  | 134/170 [14:20<03:50,  6.40s/it]"
                    ]
                },
                {
                    "name": "stdout",
                    "output_type": "stream",
                    "text": [
                        "Trained and saved tuned model for Nuclei_Texture_DifferenceEntropy_GOLD_3_03_256\n",
                        "Trained and saved shuffled tuned model for Nuclei_Texture_DifferenceEntropy_GOLD_3_03_256\n"
                    ]
                },
                {
                    "name": "stderr",
                    "output_type": "stream",
                    "text": [
                        "Processing GOLD Features:  79%|\u2588\u2588\u2588\u2588\u2588\u2588\u2588\u2589  | 135/170 [14:26<03:43,  6.39s/it]"
                    ]
                },
                {
                    "name": "stdout",
                    "output_type": "stream",
                    "text": [
                        "Trained and saved tuned model for Nuclei_Texture_DifferenceVariance_GOLD_3_00_256\n",
                        "Trained and saved shuffled tuned model for Nuclei_Texture_DifferenceVariance_GOLD_3_00_256\n"
                    ]
                },
                {
                    "name": "stderr",
                    "output_type": "stream",
                    "text": [
                        "Processing GOLD Features:  80%|\u2588\u2588\u2588\u2588\u2588\u2588\u2588\u2588  | 136/170 [14:33<03:39,  6.46s/it]"
                    ]
                },
                {
                    "name": "stdout",
                    "output_type": "stream",
                    "text": [
                        "Trained and saved tuned model for Nuclei_Texture_DifferenceVariance_GOLD_3_01_256\n",
                        "Trained and saved shuffled tuned model for Nuclei_Texture_DifferenceVariance_GOLD_3_01_256\n"
                    ]
                },
                {
                    "name": "stderr",
                    "output_type": "stream",
                    "text": [
                        "Processing GOLD Features:  81%|\u2588\u2588\u2588\u2588\u2588\u2588\u2588\u2588  | 137/170 [14:39<03:32,  6.44s/it]"
                    ]
                },
                {
                    "name": "stdout",
                    "output_type": "stream",
                    "text": [
                        "Trained and saved tuned model for Nuclei_Texture_DifferenceVariance_GOLD_3_02_256\n",
                        "Trained and saved shuffled tuned model for Nuclei_Texture_DifferenceVariance_GOLD_3_02_256\n"
                    ]
                },
                {
                    "name": "stderr",
                    "output_type": "stream",
                    "text": [
                        "Processing GOLD Features:  81%|\u2588\u2588\u2588\u2588\u2588\u2588\u2588\u2588  | 138/170 [14:45<03:25,  6.44s/it]"
                    ]
                },
                {
                    "name": "stdout",
                    "output_type": "stream",
                    "text": [
                        "Trained and saved tuned model for Nuclei_Texture_DifferenceVariance_GOLD_3_03_256\n",
                        "Trained and saved shuffled tuned model for Nuclei_Texture_DifferenceVariance_GOLD_3_03_256\n"
                    ]
                },
                {
                    "name": "stderr",
                    "output_type": "stream",
                    "text": [
                        "Processing GOLD Features:  82%|\u2588\u2588\u2588\u2588\u2588\u2588\u2588\u2588\u258f | 139/170 [14:52<03:18,  6.41s/it]"
                    ]
                },
                {
                    "name": "stdout",
                    "output_type": "stream",
                    "text": [
                        "Trained and saved tuned model for Nuclei_Texture_Entropy_GOLD_3_00_256\n",
                        "Trained and saved shuffled tuned model for Nuclei_Texture_Entropy_GOLD_3_00_256\n"
                    ]
                },
                {
                    "name": "stderr",
                    "output_type": "stream",
                    "text": [
                        "Processing GOLD Features:  82%|\u2588\u2588\u2588\u2588\u2588\u2588\u2588\u2588\u258f | 140/170 [14:58<03:12,  6.40s/it]"
                    ]
                },
                {
                    "name": "stdout",
                    "output_type": "stream",
                    "text": [
                        "Trained and saved tuned model for Nuclei_Texture_Entropy_GOLD_3_01_256\n",
                        "Trained and saved shuffled tuned model for Nuclei_Texture_Entropy_GOLD_3_01_256\n"
                    ]
                },
                {
                    "name": "stderr",
                    "output_type": "stream",
                    "text": [
                        "Processing GOLD Features:  83%|\u2588\u2588\u2588\u2588\u2588\u2588\u2588\u2588\u258e | 141/170 [15:05<03:05,  6.41s/it]"
                    ]
                },
                {
                    "name": "stdout",
                    "output_type": "stream",
                    "text": [
                        "Trained and saved tuned model for Nuclei_Texture_Entropy_GOLD_3_02_256\n",
                        "Trained and saved shuffled tuned model for Nuclei_Texture_Entropy_GOLD_3_02_256\n"
                    ]
                },
                {
                    "name": "stderr",
                    "output_type": "stream",
                    "text": [
                        "Processing GOLD Features:  84%|\u2588\u2588\u2588\u2588\u2588\u2588\u2588\u2588\u258e | 142/170 [15:11<02:58,  6.38s/it]"
                    ]
                },
                {
                    "name": "stdout",
                    "output_type": "stream",
                    "text": [
                        "Trained and saved tuned model for Nuclei_Texture_Entropy_GOLD_3_03_256\n",
                        "Trained and saved shuffled tuned model for Nuclei_Texture_Entropy_GOLD_3_03_256\n"
                    ]
                },
                {
                    "name": "stderr",
                    "output_type": "stream",
                    "text": [
                        "Processing GOLD Features:  84%|\u2588\u2588\u2588\u2588\u2588\u2588\u2588\u2588\u258d | 143/170 [15:17<02:52,  6.37s/it]"
                    ]
                },
                {
                    "name": "stdout",
                    "output_type": "stream",
                    "text": [
                        "Trained and saved tuned model for Nuclei_Texture_InfoMeas1_GOLD_3_00_256\n",
                        "Trained and saved shuffled tuned model for Nuclei_Texture_InfoMeas1_GOLD_3_00_256\n"
                    ]
                },
                {
                    "name": "stderr",
                    "output_type": "stream",
                    "text": [
                        "Processing GOLD Features:  85%|\u2588\u2588\u2588\u2588\u2588\u2588\u2588\u2588\u258d | 144/170 [15:24<02:45,  6.38s/it]"
                    ]
                },
                {
                    "name": "stdout",
                    "output_type": "stream",
                    "text": [
                        "Trained and saved tuned model for Nuclei_Texture_InfoMeas1_GOLD_3_01_256\n",
                        "Trained and saved shuffled tuned model for Nuclei_Texture_InfoMeas1_GOLD_3_01_256\n"
                    ]
                },
                {
                    "name": "stderr",
                    "output_type": "stream",
                    "text": [
                        "Processing GOLD Features:  85%|\u2588\u2588\u2588\u2588\u2588\u2588\u2588\u2588\u258c | 145/170 [15:30<02:39,  6.38s/it]"
                    ]
                },
                {
                    "name": "stdout",
                    "output_type": "stream",
                    "text": [
                        "Trained and saved tuned model for Nuclei_Texture_InfoMeas1_GOLD_3_02_256\n",
                        "Trained and saved shuffled tuned model for Nuclei_Texture_InfoMeas1_GOLD_3_02_256\n"
                    ]
                },
                {
                    "name": "stderr",
                    "output_type": "stream",
                    "text": [
                        "Processing GOLD Features:  86%|\u2588\u2588\u2588\u2588\u2588\u2588\u2588\u2588\u258c | 146/170 [15:36<02:33,  6.38s/it]"
                    ]
                },
                {
                    "name": "stdout",
                    "output_type": "stream",
                    "text": [
                        "Trained and saved tuned model for Nuclei_Texture_InfoMeas1_GOLD_3_03_256\n",
                        "Trained and saved shuffled tuned model for Nuclei_Texture_InfoMeas1_GOLD_3_03_256\n"
                    ]
                },
                {
                    "name": "stderr",
                    "output_type": "stream",
                    "text": [
                        "Processing GOLD Features:  86%|\u2588\u2588\u2588\u2588\u2588\u2588\u2588\u2588\u258b | 147/170 [15:43<02:26,  6.37s/it]"
                    ]
                },
                {
                    "name": "stdout",
                    "output_type": "stream",
                    "text": [
                        "Trained and saved tuned model for Nuclei_Texture_InfoMeas2_GOLD_3_00_256\n",
                        "Trained and saved shuffled tuned model for Nuclei_Texture_InfoMeas2_GOLD_3_00_256\n"
                    ]
                },
                {
                    "name": "stderr",
                    "output_type": "stream",
                    "text": [
                        "Processing GOLD Features:  87%|\u2588\u2588\u2588\u2588\u2588\u2588\u2588\u2588\u258b | 148/170 [15:49<02:20,  6.39s/it]"
                    ]
                },
                {
                    "name": "stdout",
                    "output_type": "stream",
                    "text": [
                        "Trained and saved tuned model for Nuclei_Texture_InfoMeas2_GOLD_3_01_256\n",
                        "Trained and saved shuffled tuned model for Nuclei_Texture_InfoMeas2_GOLD_3_01_256\n"
                    ]
                },
                {
                    "name": "stderr",
                    "output_type": "stream",
                    "text": [
                        "Processing GOLD Features:  88%|\u2588\u2588\u2588\u2588\u2588\u2588\u2588\u2588\u258a | 149/170 [15:56<02:14,  6.38s/it]"
                    ]
                },
                {
                    "name": "stdout",
                    "output_type": "stream",
                    "text": [
                        "Trained and saved tuned model for Nuclei_Texture_InfoMeas2_GOLD_3_02_256\n",
                        "Trained and saved shuffled tuned model for Nuclei_Texture_InfoMeas2_GOLD_3_02_256\n"
                    ]
                },
                {
                    "name": "stderr",
                    "output_type": "stream",
                    "text": [
                        "Processing GOLD Features:  88%|\u2588\u2588\u2588\u2588\u2588\u2588\u2588\u2588\u258a | 150/170 [16:02<02:07,  6.39s/it]"
                    ]
                },
                {
                    "name": "stdout",
                    "output_type": "stream",
                    "text": [
                        "Trained and saved tuned model for Nuclei_Texture_InfoMeas2_GOLD_3_03_256\n",
                        "Trained and saved shuffled tuned model for Nuclei_Texture_InfoMeas2_GOLD_3_03_256\n"
                    ]
                },
                {
                    "name": "stderr",
                    "output_type": "stream",
                    "text": [
                        "Processing GOLD Features:  89%|\u2588\u2588\u2588\u2588\u2588\u2588\u2588\u2588\u2589 | 151/170 [16:08<02:01,  6.39s/it]"
                    ]
                },
                {
                    "name": "stdout",
                    "output_type": "stream",
                    "text": [
                        "Trained and saved tuned model for Nuclei_Texture_InverseDifferenceMoment_GOLD_3_00_256\n",
                        "Trained and saved shuffled tuned model for Nuclei_Texture_InverseDifferenceMoment_GOLD_3_00_256\n"
                    ]
                },
                {
                    "name": "stderr",
                    "output_type": "stream",
                    "text": [
                        "Processing GOLD Features:  89%|\u2588\u2588\u2588\u2588\u2588\u2588\u2588\u2588\u2589 | 152/170 [16:15<01:55,  6.44s/it]"
                    ]
                },
                {
                    "name": "stdout",
                    "output_type": "stream",
                    "text": [
                        "Trained and saved tuned model for Nuclei_Texture_InverseDifferenceMoment_GOLD_3_01_256\n",
                        "Trained and saved shuffled tuned model for Nuclei_Texture_InverseDifferenceMoment_GOLD_3_01_256\n"
                    ]
                },
                {
                    "name": "stderr",
                    "output_type": "stream",
                    "text": [
                        "Processing GOLD Features:  90%|\u2588\u2588\u2588\u2588\u2588\u2588\u2588\u2588\u2588 | 153/170 [16:21<01:49,  6.44s/it]"
                    ]
                },
                {
                    "name": "stdout",
                    "output_type": "stream",
                    "text": [
                        "Trained and saved tuned model for Nuclei_Texture_InverseDifferenceMoment_GOLD_3_02_256\n",
                        "Trained and saved shuffled tuned model for Nuclei_Texture_InverseDifferenceMoment_GOLD_3_02_256\n"
                    ]
                },
                {
                    "name": "stderr",
                    "output_type": "stream",
                    "text": [
                        "Processing GOLD Features:  91%|\u2588\u2588\u2588\u2588\u2588\u2588\u2588\u2588\u2588 | 154/170 [16:28<01:42,  6.43s/it]"
                    ]
                },
                {
                    "name": "stdout",
                    "output_type": "stream",
                    "text": [
                        "Trained and saved tuned model for Nuclei_Texture_InverseDifferenceMoment_GOLD_3_03_256\n",
                        "Trained and saved shuffled tuned model for Nuclei_Texture_InverseDifferenceMoment_GOLD_3_03_256\n"
                    ]
                },
                {
                    "name": "stderr",
                    "output_type": "stream",
                    "text": [
                        "Processing GOLD Features:  91%|\u2588\u2588\u2588\u2588\u2588\u2588\u2588\u2588\u2588 | 155/170 [16:34<01:36,  6.41s/it]"
                    ]
                },
                {
                    "name": "stdout",
                    "output_type": "stream",
                    "text": [
                        "Trained and saved tuned model for Nuclei_Texture_SumAverage_GOLD_3_00_256\n",
                        "Trained and saved shuffled tuned model for Nuclei_Texture_SumAverage_GOLD_3_00_256\n"
                    ]
                },
                {
                    "name": "stderr",
                    "output_type": "stream",
                    "text": [
                        "Processing GOLD Features:  92%|\u2588\u2588\u2588\u2588\u2588\u2588\u2588\u2588\u2588\u258f| 156/170 [16:40<01:29,  6.37s/it]"
                    ]
                },
                {
                    "name": "stdout",
                    "output_type": "stream",
                    "text": [
                        "Trained and saved tuned model for Nuclei_Texture_SumAverage_GOLD_3_01_256\n",
                        "Trained and saved shuffled tuned model for Nuclei_Texture_SumAverage_GOLD_3_01_256\n"
                    ]
                },
                {
                    "name": "stderr",
                    "output_type": "stream",
                    "text": [
                        "Processing GOLD Features:  92%|\u2588\u2588\u2588\u2588\u2588\u2588\u2588\u2588\u2588\u258f| 157/170 [16:47<01:22,  6.37s/it]"
                    ]
                },
                {
                    "name": "stdout",
                    "output_type": "stream",
                    "text": [
                        "Trained and saved tuned model for Nuclei_Texture_SumAverage_GOLD_3_02_256\n",
                        "Trained and saved shuffled tuned model for Nuclei_Texture_SumAverage_GOLD_3_02_256\n"
                    ]
                },
                {
                    "name": "stderr",
                    "output_type": "stream",
                    "text": [
                        "Processing GOLD Features:  93%|\u2588\u2588\u2588\u2588\u2588\u2588\u2588\u2588\u2588\u258e| 158/170 [16:53<01:16,  6.40s/it]"
                    ]
                },
                {
                    "name": "stdout",
                    "output_type": "stream",
                    "text": [
                        "Trained and saved tuned model for Nuclei_Texture_SumAverage_GOLD_3_03_256\n",
                        "Trained and saved shuffled tuned model for Nuclei_Texture_SumAverage_GOLD_3_03_256\n"
                    ]
                },
                {
                    "name": "stderr",
                    "output_type": "stream",
                    "text": [
                        "Processing GOLD Features:  94%|\u2588\u2588\u2588\u2588\u2588\u2588\u2588\u2588\u2588\u258e| 159/170 [17:00<01:10,  6.39s/it]"
                    ]
                },
                {
                    "name": "stdout",
                    "output_type": "stream",
                    "text": [
                        "Trained and saved tuned model for Nuclei_Texture_SumEntropy_GOLD_3_00_256\n",
                        "Trained and saved shuffled tuned model for Nuclei_Texture_SumEntropy_GOLD_3_00_256\n"
                    ]
                },
                {
                    "name": "stderr",
                    "output_type": "stream",
                    "text": [
                        "Processing GOLD Features:  94%|\u2588\u2588\u2588\u2588\u2588\u2588\u2588\u2588\u2588\u258d| 160/170 [17:06<01:03,  6.38s/it]"
                    ]
                },
                {
                    "name": "stdout",
                    "output_type": "stream",
                    "text": [
                        "Trained and saved tuned model for Nuclei_Texture_SumEntropy_GOLD_3_01_256\n",
                        "Trained and saved shuffled tuned model for Nuclei_Texture_SumEntropy_GOLD_3_01_256\n"
                    ]
                },
                {
                    "name": "stderr",
                    "output_type": "stream",
                    "text": [
                        "Processing GOLD Features:  95%|\u2588\u2588\u2588\u2588\u2588\u2588\u2588\u2588\u2588\u258d| 161/170 [17:12<00:57,  6.38s/it]"
                    ]
                },
                {
                    "name": "stdout",
                    "output_type": "stream",
                    "text": [
                        "Trained and saved tuned model for Nuclei_Texture_SumEntropy_GOLD_3_02_256\n",
                        "Trained and saved shuffled tuned model for Nuclei_Texture_SumEntropy_GOLD_3_02_256\n"
                    ]
                },
                {
                    "name": "stderr",
                    "output_type": "stream",
                    "text": [
                        "Processing GOLD Features:  95%|\u2588\u2588\u2588\u2588\u2588\u2588\u2588\u2588\u2588\u258c| 162/170 [17:19<00:51,  6.41s/it]"
                    ]
                },
                {
                    "name": "stdout",
                    "output_type": "stream",
                    "text": [
                        "Trained and saved tuned model for Nuclei_Texture_SumEntropy_GOLD_3_03_256\n",
                        "Trained and saved shuffled tuned model for Nuclei_Texture_SumEntropy_GOLD_3_03_256\n"
                    ]
                },
                {
                    "name": "stderr",
                    "output_type": "stream",
                    "text": [
                        "Processing GOLD Features:  96%|\u2588\u2588\u2588\u2588\u2588\u2588\u2588\u2588\u2588\u258c| 163/170 [17:25<00:44,  6.40s/it]"
                    ]
                },
                {
                    "name": "stdout",
                    "output_type": "stream",
                    "text": [
                        "Trained and saved tuned model for Nuclei_Texture_SumVariance_GOLD_3_00_256\n",
                        "Trained and saved shuffled tuned model for Nuclei_Texture_SumVariance_GOLD_3_00_256\n"
                    ]
                },
                {
                    "name": "stderr",
                    "output_type": "stream",
                    "text": [
                        "Processing GOLD Features:  96%|\u2588\u2588\u2588\u2588\u2588\u2588\u2588\u2588\u2588\u258b| 164/170 [17:32<00:38,  6.41s/it]"
                    ]
                },
                {
                    "name": "stdout",
                    "output_type": "stream",
                    "text": [
                        "Trained and saved tuned model for Nuclei_Texture_SumVariance_GOLD_3_01_256\n",
                        "Trained and saved shuffled tuned model for Nuclei_Texture_SumVariance_GOLD_3_01_256\n"
                    ]
                },
                {
                    "name": "stderr",
                    "output_type": "stream",
                    "text": [
                        "Processing GOLD Features:  97%|\u2588\u2588\u2588\u2588\u2588\u2588\u2588\u2588\u2588\u258b| 165/170 [17:38<00:32,  6.41s/it]"
                    ]
                },
                {
                    "name": "stdout",
                    "output_type": "stream",
                    "text": [
                        "Trained and saved tuned model for Nuclei_Texture_SumVariance_GOLD_3_02_256\n",
                        "Trained and saved shuffled tuned model for Nuclei_Texture_SumVariance_GOLD_3_02_256\n"
                    ]
                },
                {
                    "name": "stderr",
                    "output_type": "stream",
                    "text": [
                        "Processing GOLD Features:  98%|\u2588\u2588\u2588\u2588\u2588\u2588\u2588\u2588\u2588\u258a| 166/170 [17:44<00:25,  6.41s/it]"
                    ]
                },
                {
                    "name": "stdout",
                    "output_type": "stream",
                    "text": [
                        "Trained and saved tuned model for Nuclei_Texture_SumVariance_GOLD_3_03_256\n",
                        "Trained and saved shuffled tuned model for Nuclei_Texture_SumVariance_GOLD_3_03_256\n"
                    ]
                },
                {
                    "name": "stderr",
                    "output_type": "stream",
                    "text": [
                        "Processing GOLD Features:  98%|\u2588\u2588\u2588\u2588\u2588\u2588\u2588\u2588\u2588\u258a| 167/170 [17:52<00:19,  6.66s/it]"
                    ]
                },
                {
                    "name": "stdout",
                    "output_type": "stream",
                    "text": [
                        "Trained and saved tuned model for Nuclei_Texture_Variance_GOLD_3_00_256\n",
                        "Trained and saved shuffled tuned model for Nuclei_Texture_Variance_GOLD_3_00_256\n"
                    ]
                },
                {
                    "name": "stderr",
                    "output_type": "stream",
                    "text": [
                        "Processing GOLD Features:  99%|\u2588\u2588\u2588\u2588\u2588\u2588\u2588\u2588\u2588\u2589| 168/170 [17:58<00:13,  6.59s/it]"
                    ]
                },
                {
                    "name": "stdout",
                    "output_type": "stream",
                    "text": [
                        "Trained and saved tuned model for Nuclei_Texture_Variance_GOLD_3_01_256\n",
                        "Trained and saved shuffled tuned model for Nuclei_Texture_Variance_GOLD_3_01_256\n"
                    ]
                },
                {
                    "name": "stderr",
                    "output_type": "stream",
                    "text": [
                        "Processing GOLD Features:  99%|\u2588\u2588\u2588\u2588\u2588\u2588\u2588\u2588\u2588\u2589| 169/170 [18:05<00:06,  6.54s/it]"
                    ]
                },
                {
                    "name": "stdout",
                    "output_type": "stream",
                    "text": [
                        "Trained and saved tuned model for Nuclei_Texture_Variance_GOLD_3_02_256\n",
                        "Trained and saved shuffled tuned model for Nuclei_Texture_Variance_GOLD_3_02_256\n"
                    ]
                },
                {
                    "name": "stderr",
                    "output_type": "stream",
                    "text": [
                        "Processing GOLD Features: 100%|\u2588\u2588\u2588\u2588\u2588\u2588\u2588\u2588\u2588\u2588| 170/170 [18:11<00:00,  6.42s/it]"
                    ]
                },
                {
                    "name": "stdout",
                    "output_type": "stream",
                    "text": [
                        "Trained and saved tuned model for Nuclei_Texture_Variance_GOLD_3_03_256\n",
                        "Trained and saved shuffled tuned model for Nuclei_Texture_Variance_GOLD_3_03_256\n",
                        "All GOLD models have been trained and tuned!\n"
                    ]
                },
                {
                    "name": "stderr",
                    "output_type": "stream",
                    "text": [
                        "\n"
                    ]
                }
            ],
            "source": [
                "for gold_feature in tqdm(gold_features, desc=\"Processing GOLD Features\"):\n",
                "    y = training_df[gold_feature]\n",
                "\n",
                "    # Train regular model with hyperparameter tuning\n",
                "    logreg = ElasticNet(**elasticnet_params)\n",
                "\n",
                "    # Initialize random search\n",
                "    random_search = RandomizedSearchCV(logreg, **random_search_params)\n",
                "    random_search.fit(X, y)\n",
                "\n",
                "    # Save the tuned model\n",
                "    model_filename = final_dir / f\"{gold_feature}_tuned_model.joblib\"\n",
                "    joblib.dump(random_search.best_estimator_, model_filename)\n",
                "\n",
                "    random_search_shuffled = RandomizedSearchCV(logreg, **random_search_params)\n",
                "    random_search_shuffled.fit(X_shuffled, y)\n",
                "\n",
                "    # Save the shuffled tuned model\n",
                "    shuffled_model_filename = (\n",
                "        shuffled_dir / f\"{gold_feature}_shuffled_tuned_model.joblib\"\n",
                "    )\n",
                "    joblib.dump(random_search_shuffled.best_estimator_, shuffled_model_filename)\n",
                "\n",
                "    # Print confirmation\n",
                "    print(f\"Trained and saved tuned model for {gold_feature}\")\n",
                "    print(f\"Trained and saved shuffled tuned model for {gold_feature}\")\n",
                "\n",
                "print(\"All GOLD models have been trained and tuned!\")"
            ]
        }
    ],
    "metadata": {
        "kernelspec": {
            "display_name": "Python 3",
            "language": "python",
            "name": "python3"
        },
        "language_info": {
            "codemirror_mode": {
                "name": "ipython",
                "version": 3
            },
            "file_extension": ".py",
            "mimetype": "text/x-python",
            "name": "python",
            "nbconvert_exporter": "python",
            "pygments_lexer": "ipython3",
            "version": "3.10.14"
        }
    },
    "nbformat": 4,
    "nbformat_minor": 2
}
