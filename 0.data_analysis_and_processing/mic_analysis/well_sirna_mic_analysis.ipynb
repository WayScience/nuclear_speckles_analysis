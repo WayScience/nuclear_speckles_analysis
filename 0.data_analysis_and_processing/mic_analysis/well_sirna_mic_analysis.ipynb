{
 "cells": [
  {
   "cell_type": "markdown",
   "metadata": {
    "jukit_cell_id": "diZkzamaCr"
   },
   "source": [
    "# Evaluate Well Stain Relationship Strength\n",
    "This analysis compares Maximal Information Coefficient (MIC) scores between the same DAPI and nuclear speckle stain (A647 or GOLD) aggregated well features per well.\n",
    "Distributions of these MIC scores are visualized, between zero and one, where one indicates a perfect relationship and zero indicates no relationship.\n",
    "From this analysis we can underastand the relationships between the DAPI and nuclear speckle stains per cell population (Treatment, Well Position, Plate, etc...)\n",
    "With these insights we may further improve or stain feature regression and stain translation models.\n",
    "We save additional experimental details in a manifest for further evaluation."
   ]
  },
  {
   "cell_type": "code",
   "execution_count": 1,
   "metadata": {
    "execution": {
     "iopub.execute_input": "2024-09-23T22:33:14.295412Z",
     "iopub.status.busy": "2024-09-23T22:33:14.295192Z",
     "iopub.status.idle": "2024-09-23T22:33:14.878898Z",
     "shell.execute_reply": "2024-09-23T22:33:14.878489Z"
    },
    "jukit_cell_id": "JlHVCFc6jg"
   },
   "outputs": [],
   "source": [
    "import pathlib\n",
    "import re\n",
    "import sys\n",
    "\n",
    "import matplotlib.pyplot as plt\n",
    "import pandas as pd\n",
    "import seaborn as sns"
   ]
  },
  {
   "cell_type": "markdown",
   "metadata": {
    "jukit_cell_id": "09DzTtojev"
   },
   "source": [
    "## Find the root of the git repo on the host system"
   ]
  },
  {
   "cell_type": "code",
   "execution_count": 2,
   "metadata": {
    "execution": {
     "iopub.execute_input": "2024-09-23T22:33:14.881141Z",
     "iopub.status.busy": "2024-09-23T22:33:14.880930Z",
     "iopub.status.idle": "2024-09-23T22:33:14.883695Z",
     "shell.execute_reply": "2024-09-23T22:33:14.883406Z"
    },
    "jukit_cell_id": "ZSBTA9IqxD"
   },
   "outputs": [],
   "source": [
    "# Get the current working directory\n",
    "cwd = pathlib.Path.cwd()\n",
    "\n",
    "if (cwd / \".git\").is_dir():\n",
    "    root_dir = cwd\n",
    "\n",
    "else:\n",
    "    root_dir = None\n",
    "    for parent in cwd.parents:\n",
    "        if (parent / \".git\").is_dir():\n",
    "            root_dir = parent\n",
    "            break\n",
    "\n",
    "# Check if a Git root directory was found\n",
    "if root_dir is None:\n",
    "    raise FileNotFoundError(\"No Git root directory found.\")"
   ]
  },
  {
   "cell_type": "markdown",
   "metadata": {
    "jukit_cell_id": "D89Os0yFLC"
   },
   "source": [
    "# Custom Imports"
   ]
  },
  {
   "cell_type": "code",
   "execution_count": 3,
   "metadata": {
    "execution": {
     "iopub.execute_input": "2024-09-23T22:33:14.885048Z",
     "iopub.status.busy": "2024-09-23T22:33:14.884938Z",
     "iopub.status.idle": "2024-09-23T22:33:14.888425Z",
     "shell.execute_reply": "2024-09-23T22:33:14.888137Z"
    },
    "jukit_cell_id": "KnQdvFxPkd"
   },
   "outputs": [],
   "source": [
    "sys.path.append(f\"{root_dir}/0.data_analysis_and_processing/utils\")\n",
    "\n",
    "from MIC import MIC\n",
    "from PairwiseCompare import PairwiseCompare\n",
    "from ShuffledMIC import ShuffledMIC"
   ]
  },
  {
   "cell_type": "markdown",
   "metadata": {
    "jukit_cell_id": "fIxGUGaKkR"
   },
   "source": [
    "# Inputs"
   ]
  },
  {
   "cell_type": "code",
   "execution_count": 4,
   "metadata": {
    "execution": {
     "iopub.execute_input": "2024-09-23T22:33:14.889902Z",
     "iopub.status.busy": "2024-09-23T22:33:14.889793Z",
     "iopub.status.idle": "2024-09-23T22:33:15.403879Z",
     "shell.execute_reply": "2024-09-23T22:33:15.403401Z"
    },
    "jukit_cell_id": "dlU1p2c9cE"
   },
   "outputs": [],
   "source": [
    "# Paths to original nuclear speckle data\n",
    "data_dir = root_dir / \"nuclear_speckles_data\"\n",
    "nuclear_mask_dir = (data_dir / \"Nuclear_masks\").resolve(strict=True)\n",
    "sc_profiles_path = list((data_dir / \"Preprocessed_data/single_cell_profiles\").resolve(strict=True).glob(\"*feature_selected*.parquet\"))\n",
    "\n",
    "# Load single-cell profile data\n",
    "scdfs = [pd.read_parquet(sc_path) for sc_path in sc_profiles_path if sc_path.is_file()]"
   ]
  },
  {
   "cell_type": "markdown",
   "metadata": {
    "jukit_cell_id": "2nCHpCWHPX"
   },
   "source": [
    "# Outputs"
   ]
  },
  {
   "cell_type": "code",
   "execution_count": 5,
   "metadata": {
    "execution": {
     "iopub.execute_input": "2024-09-23T22:33:15.406209Z",
     "iopub.status.busy": "2024-09-23T22:33:15.405858Z",
     "iopub.status.idle": "2024-09-23T22:33:15.408600Z",
     "shell.execute_reply": "2024-09-23T22:33:15.408188Z"
    },
    "jukit_cell_id": "i6nQ6vwPOY"
   },
   "outputs": [],
   "source": [
    "distribution_figures_path = pathlib.Path(\"well_sirna_mic_distribution_figures\")\n",
    "distribution_figures_path.mkdir(parents=True, exist_ok=True)\n",
    "\n",
    "mic_comparisons_path = pathlib.Path(\"mic_comparisons_data\")\n",
    "mic_comparisons_path.mkdir(parents=True, exist_ok=True)"
   ]
  },
  {
   "cell_type": "markdown",
   "metadata": {
    "jukit_cell_id": "5HpdTkrhdj"
   },
   "source": [
    "# Processing"
   ]
  },
  {
   "cell_type": "markdown",
   "metadata": {
    "jukit_cell_id": "AMY2NJE0ci"
   },
   "source": [
    "## Combine Common Data\n",
    "Column names are used to combine common single-cell data."
   ]
  },
  {
   "cell_type": "code",
   "execution_count": 6,
   "metadata": {
    "execution": {
     "iopub.execute_input": "2024-09-23T22:33:15.409990Z",
     "iopub.status.busy": "2024-09-23T22:33:15.409873Z",
     "iopub.status.idle": "2024-09-23T22:33:15.800397Z",
     "shell.execute_reply": "2024-09-23T22:33:15.799693Z"
    },
    "jukit_cell_id": "TfjgwzLhIQ"
   },
   "outputs": [],
   "source": [
    "common_columns = scdfs[0].columns\n",
    "for scdf in scdfs[1:]:\n",
    "    common_columns = common_columns.intersection(scdf.columns)\n",
    "\n",
    "scdfs = pd.concat(scdfs, axis=0)[common_columns]"
   ]
  },
  {
   "cell_type": "code",
   "execution_count": 7,
   "metadata": {
    "execution": {
     "iopub.execute_input": "2024-09-23T22:33:15.803018Z",
     "iopub.status.busy": "2024-09-23T22:33:15.802846Z",
     "iopub.status.idle": "2024-09-23T22:33:16.008425Z",
     "shell.execute_reply": "2024-09-23T22:33:16.007779Z"
    },
    "jukit_cell_id": "GKjo1VAEwW"
   },
   "outputs": [
    {
     "name": "stdout",
     "output_type": "stream",
     "text": [
      "      Metadata_CellLine Metadata_Condition  Metadata_ImageNumber  \\\n",
      "0                  786O                NTC                     1   \n",
      "1                  786O                NTC                     1   \n",
      "2                  786O                NTC                     1   \n",
      "3                  786O                NTC                     1   \n",
      "4                  786O                NTC                     1   \n",
      "...                 ...                ...                   ...   \n",
      "63354              293T          untreated                   407   \n",
      "63355              293T          untreated                   407   \n",
      "63356              293T          untreated                   407   \n",
      "63357              293T          untreated                   407   \n",
      "63358              293T          untreated                   407   \n",
      "\n",
      "      Metadata_Plate Metadata_Well Metadata_Site  Metadata_Nuclei_Site_Count  \\\n",
      "0             slide3            A1           M14                          40   \n",
      "1             slide3            A1           M14                          40   \n",
      "2             slide3            A1           M14                          40   \n",
      "3             slide3            A1           M14                          40   \n",
      "4             slide3            A1           M14                          40   \n",
      "...              ...           ...           ...                         ...   \n",
      "63354         slide4            B4            M9                         856   \n",
      "63355         slide4            B4            M9                         856   \n",
      "63356         slide4            B4            M9                         856   \n",
      "63357         slide4            B4            M9                         856   \n",
      "63358         slide4            B4            M9                         856   \n",
      "\n",
      "       Metadata_Nuclei_Location_Center_X  Metadata_Nuclei_Location_Center_Y  \\\n",
      "0                             440.421603                          78.968641   \n",
      "1                             419.490134                         104.726914   \n",
      "2                             228.128582                        1150.712626   \n",
      "3                             193.636493                        1293.612259   \n",
      "4                             238.685272                        1344.190989   \n",
      "...                                  ...                                ...   \n",
      "63354                         259.852031                        2265.419729   \n",
      "63355                        1031.180619                        2264.759513   \n",
      "63356                         738.728900                        2267.087809   \n",
      "63357                        2272.609593                        2271.556609   \n",
      "63358                         824.547855                        2280.754675   \n",
      "\n",
      "       Nuclei_AreaShape_Area  ...  Nuclei_Texture_Correlation_DAPI_3_02_256  \\\n",
      "0                  -0.455396  ...                                  0.076553   \n",
      "1                  -0.768349  ...                                  0.440507   \n",
      "2                   1.681257  ...                                  0.442093   \n",
      "3                  -0.515006  ...                                 -0.204978   \n",
      "4                  -0.358529  ...                                 -0.196367   \n",
      "...                      ...  ...                                       ...   \n",
      "63354              -1.231858  ...                                 -1.567802   \n",
      "63355               0.397688  ...                                  0.873889   \n",
      "63356              -0.990121  ...                                  0.239501   \n",
      "63357               0.088127  ...                                  0.637374   \n",
      "63358              -1.449246  ...                                 -0.091024   \n",
      "\n",
      "       Nuclei_Texture_Correlation_DAPI_3_03_256  \\\n",
      "0                                     -0.955255   \n",
      "1                                     -0.935149   \n",
      "2                                     -0.002420   \n",
      "3                                     -1.124243   \n",
      "4                                     -1.294883   \n",
      "...                                         ...   \n",
      "63354                                 -1.402389   \n",
      "63355                                  0.957832   \n",
      "63356                                 -0.726772   \n",
      "63357                                  0.329904   \n",
      "63358                                 -0.500739   \n",
      "\n",
      "       Nuclei_Texture_Correlation_GOLD_3_00_256  \\\n",
      "0                                     -4.683966   \n",
      "1                                     -4.683966   \n",
      "2                                      0.477625   \n",
      "3                                     -0.895212   \n",
      "4                                     -1.379071   \n",
      "...                                         ...   \n",
      "63354                                 -1.699914   \n",
      "63355                                  0.256921   \n",
      "63356                                 -1.723400   \n",
      "63357                                 -0.938126   \n",
      "63358                                 -0.604331   \n",
      "\n",
      "       Nuclei_Texture_Correlation_GOLD_3_01_256  \\\n",
      "0                                     -2.873172   \n",
      "1                                     -2.873172   \n",
      "2                                      0.364749   \n",
      "3                                     -1.471390   \n",
      "4                                     -0.299818   \n",
      "...                                         ...   \n",
      "63354                                 -0.362258   \n",
      "63355                                  1.081944   \n",
      "63356                                 -1.670593   \n",
      "63357                                 -0.337367   \n",
      "63358                                 -0.373327   \n",
      "\n",
      "       Nuclei_Texture_Correlation_GOLD_3_02_256  \\\n",
      "0                                     -4.635442   \n",
      "1                                     -4.635442   \n",
      "2                                      0.057439   \n",
      "3                                     -0.572905   \n",
      "4                                     -0.971546   \n",
      "...                                         ...   \n",
      "63354                                 -0.952431   \n",
      "63355                                  0.885690   \n",
      "63356                                 -1.738772   \n",
      "63357                                 -0.740371   \n",
      "63358                                 -1.485818   \n",
      "\n",
      "       Nuclei_Texture_Correlation_GOLD_3_03_256  \\\n",
      "0                                     -2.869097   \n",
      "1                                     -2.869097   \n",
      "2                                      0.136200   \n",
      "3                                      0.140653   \n",
      "4                                     -2.075405   \n",
      "...                                         ...   \n",
      "63354                                 -1.934467   \n",
      "63355                                  0.074114   \n",
      "63356                                 -1.688474   \n",
      "63357                                 -0.793532   \n",
      "63358                                 -0.784130   \n",
      "\n",
      "       Nuclei_Texture_InfoMeas1_DAPI_3_00_256  \\\n",
      "0                                    0.535714   \n",
      "1                                    0.924185   \n",
      "2                                   -0.671712   \n",
      "3                                    0.708704   \n",
      "4                                    0.974129   \n",
      "...                                       ...   \n",
      "63354                                1.362543   \n",
      "63355                               -0.979198   \n",
      "63356                                0.486452   \n",
      "63357                               -0.346221   \n",
      "63358                               -0.147601   \n",
      "\n",
      "       Nuclei_Texture_InfoMeas1_DAPI_3_01_256  \\\n",
      "0                                   -0.182047   \n",
      "1                                   -0.823399   \n",
      "2                                   -0.987276   \n",
      "3                                    0.449238   \n",
      "4                                   -1.009551   \n",
      "...                                       ...   \n",
      "63354                                1.128533   \n",
      "63355                               -0.663974   \n",
      "63356                               -0.761964   \n",
      "63357                               -0.534778   \n",
      "63358                                0.065643   \n",
      "\n",
      "       Nuclei_Texture_InfoMeas1_DAPI_3_02_256  \\\n",
      "0                                    0.502261   \n",
      "1                                    0.023690   \n",
      "2                                   -0.664844   \n",
      "3                                    0.741110   \n",
      "4                                    0.464294   \n",
      "...                                       ...   \n",
      "63354                                1.162664   \n",
      "63355                               -1.025852   \n",
      "63356                               -1.088521   \n",
      "63357                               -1.008774   \n",
      "63358                                0.261785   \n",
      "\n",
      "       Nuclei_Texture_InfoMeas1_DAPI_3_03_256  \n",
      "0                                    0.791409  \n",
      "1                                   -0.008731  \n",
      "2                                    0.026038  \n",
      "3                                    1.011587  \n",
      "4                                    1.326281  \n",
      "...                                       ...  \n",
      "63354                                1.229538  \n",
      "63355                               -0.825447  \n",
      "63356                                0.597475  \n",
      "63357                               -0.252631  \n",
      "63358                                0.245148  \n",
      "\n",
      "[240906 rows x 267 columns]\n"
     ]
    }
   ],
   "source": [
    "scdfs.dropna(inplace=True)\n",
    "\n",
    "print(scdfs)"
   ]
  },
  {
   "cell_type": "markdown",
   "metadata": {
    "jukit_cell_id": "aV9CyQcjs6"
   },
   "source": [
    "## Seperate Gold, A647, and Dapi Features"
   ]
  },
  {
   "cell_type": "code",
   "execution_count": 8,
   "metadata": {
    "execution": {
     "iopub.execute_input": "2024-09-23T22:33:16.051353Z",
     "iopub.status.busy": "2024-09-23T22:33:16.051182Z",
     "iopub.status.idle": "2024-09-23T22:33:16.260126Z",
     "shell.execute_reply": "2024-09-23T22:33:16.259544Z"
    },
    "jukit_cell_id": "QqU4ieBlqx"
   },
   "outputs": [],
   "source": [
    "gold_scdfs = scdfs.loc[:, scdfs.columns.str.contains(\"GOLD|Metadata\", regex=True)]\n",
    "a647_scdfs = scdfs.loc[:, scdfs.columns.str.contains(\"A647|Metadata\", regex=True)]\n",
    "dapi_scdfs = scdfs.loc[:, scdfs.columns.str.contains(\"DAPI|Metadata\", regex=True)]\n",
    "\n",
    "gold_scdfs.columns = gold_scdfs.columns.str.replace('_GOLD', '', regex=False)\n",
    "a647_scdfs.columns = gold_scdfs.columns.str.replace('_A647', '', regex=False)\n",
    "dapi_scdfs.columns = dapi_scdfs.columns.str.replace('_DAPI', '', regex=False)"
   ]
  },
  {
   "cell_type": "markdown",
   "metadata": {
    "jukit_cell_id": "jA516CWZ8B"
   },
   "source": [
    "## Combine Seperated Stain Features"
   ]
  },
  {
   "cell_type": "code",
   "execution_count": 9,
   "metadata": {
    "execution": {
     "iopub.execute_input": "2024-09-23T22:33:16.262657Z",
     "iopub.status.busy": "2024-09-23T22:33:16.262496Z",
     "iopub.status.idle": "2024-09-23T22:33:16.647303Z",
     "shell.execute_reply": "2024-09-23T22:33:16.646758Z"
    },
    "jukit_cell_id": "3SM0BccfzV"
   },
   "outputs": [],
   "source": [
    "gold_scdfs = gold_scdfs.assign(Metadata_Stain=\"GOLD\")\n",
    "dapi_scdfs = dapi_scdfs.assign(Metadata_Stain=\"DAPI\")\n",
    "a647_scdfs = a647_scdfs.assign(Metadata_Stain=\"A647\")\n",
    "\n",
    "common_cols = gold_scdfs.columns.intersection(dapi_scdfs.columns).intersection(a647_scdfs.columns)\n",
    "scdfs = pd.concat([gold_scdfs[common_cols], dapi_scdfs[common_cols], a647_scdfs[common_cols]], axis=0)"
   ]
  },
  {
   "cell_type": "markdown",
   "metadata": {
    "jukit_cell_id": "dYBpppmu4P"
   },
   "source": [
    "## Specify Feature Metadata Columns"
   ]
  },
  {
   "cell_type": "code",
   "execution_count": 10,
   "metadata": {
    "execution": {
     "iopub.execute_input": "2024-09-23T22:33:16.649364Z",
     "iopub.status.busy": "2024-09-23T22:33:16.649240Z",
     "iopub.status.idle": "2024-09-23T22:33:16.651726Z",
     "shell.execute_reply": "2024-09-23T22:33:16.651383Z"
    },
    "jukit_cell_id": "Xvk0z6s5YD"
   },
   "outputs": [],
   "source": [
    "feat_cols = scdfs.columns[~scdfs.columns.str.contains(\"Metadata\")]"
   ]
  },
  {
   "cell_type": "markdown",
   "metadata": {
    "jukit_cell_id": "DpDVSA22OS"
   },
   "source": [
    "## Mean Aggregation to the Well Level"
   ]
  },
  {
   "cell_type": "code",
   "execution_count": 11,
   "metadata": {
    "execution": {
     "iopub.execute_input": "2024-09-23T22:33:16.653112Z",
     "iopub.status.busy": "2024-09-23T22:33:16.652903Z",
     "iopub.status.idle": "2024-09-23T22:33:16.937857Z",
     "shell.execute_reply": "2024-09-23T22:33:16.937275Z"
    },
    "jukit_cell_id": "3kAGbC43Zs"
   },
   "outputs": [],
   "source": [
    "# Define Placeholder Column\n",
    "scdfs[\"Metadata_Cell_Count\"] = scdfs[\"Metadata_Condition\"].values\n",
    "\n",
    "# Metadata to retain\n",
    "agg_funcs = {\n",
    "    \"Metadata_Condition\": \"first\",\n",
    "    \"Metadata_Cell_Count\": \"size\"\n",
    "}\n",
    "\n",
    "agg_funcs |= {feat_col: \"mean\" for feat_col in feat_cols}\n",
    "staindf = scdfs.groupby([\"Metadata_Plate\", \"Metadata_Well\", \"Metadata_Stain\"]).agg(agg_funcs).reset_index()"
   ]
  },
  {
   "cell_type": "code",
   "execution_count": 12,
   "metadata": {
    "execution": {
     "iopub.execute_input": "2024-09-23T22:33:16.939792Z",
     "iopub.status.busy": "2024-09-23T22:33:16.939629Z",
     "iopub.status.idle": "2024-09-23T22:33:16.946560Z",
     "shell.execute_reply": "2024-09-23T22:33:16.946176Z"
    },
    "jukit_cell_id": "Eo1zbJrCL0"
   },
   "outputs": [
    {
     "name": "stdout",
     "output_type": "stream",
     "text": [
      "   Metadata_Plate Metadata_Well Metadata_Stain Metadata_Condition  \\\n",
      "0          slide1            A1           A647                NTC   \n",
      "1          slide1            A1           DAPI                NTC   \n",
      "2          slide1            A1           GOLD                NTC   \n",
      "3          slide1            A2           A647            ALY kd8   \n",
      "4          slide1            A2           DAPI            ALY kd8   \n",
      "..            ...           ...            ...                ...   \n",
      "91         slide4            B3           DAPI        TMEM259 kd5   \n",
      "92         slide4            B3           GOLD        TMEM259 kd5   \n",
      "93         slide4            B4           A647          untreated   \n",
      "94         slide4            B4           DAPI          untreated   \n",
      "95         slide4            B4           GOLD          untreated   \n",
      "\n",
      "    Metadata_Cell_Count  Nuclei_Granularity_1  \\\n",
      "0                  1101              0.171474   \n",
      "1                  1101             -0.217538   \n",
      "2                  1101             -0.382057   \n",
      "3                  2325              0.035772   \n",
      "4                  2325             -0.449247   \n",
      "..                  ...                   ...   \n",
      "91                 6305             -0.270608   \n",
      "92                 6305             -0.400820   \n",
      "93                32309              0.073580   \n",
      "94                32309              0.228532   \n",
      "95                32309              0.381936   \n",
      "\n",
      "    Nuclei_Intensity_MassDisplacement  Nuclei_Intensity_StdIntensityEdge  \\\n",
      "0                            0.477067                           1.159588   \n",
      "1                            0.719026                           0.331419   \n",
      "2                            0.474737                           1.114561   \n",
      "3                            0.765541                           1.081828   \n",
      "4                            0.681245                           0.724933   \n",
      "..                                ...                                ...   \n",
      "91                           0.252576                           0.281212   \n",
      "92                           0.242829                           0.242058   \n",
      "93                          -0.327250                          -0.508211   \n",
      "94                          -0.302167                          -0.067118   \n",
      "95                          -0.277883                          -0.434359   \n",
      "\n",
      "    Nuclei_RadialDistribution_FracAtD_4of4  \\\n",
      "0                                -0.746587   \n",
      "1                                 0.609352   \n",
      "2                                 0.885131   \n",
      "3                                -0.434666   \n",
      "4                                -0.116966   \n",
      "..                                     ...   \n",
      "91                                0.073967   \n",
      "92                                0.171341   \n",
      "93                                0.357084   \n",
      "94                               -0.136774   \n",
      "95                               -0.270897   \n",
      "\n",
      "    Nuclei_RadialDistribution_MeanFrac_1of4  ...  \\\n",
      "0                                 -0.269572  ...   \n",
      "1                                  0.146927  ...   \n",
      "2                                 -0.330499  ...   \n",
      "3                                 -0.045196  ...   \n",
      "4                                  0.847064  ...   \n",
      "..                                      ...  ...   \n",
      "91                                 0.201741  ...   \n",
      "92                                -0.049005  ...   \n",
      "93                                 0.071471  ...   \n",
      "94                                -0.176057  ...   \n",
      "95                                 0.096382  ...   \n",
      "\n",
      "    Nuclei_RadialDistribution_ZernikePhase_8_8  \\\n",
      "0                                    -0.015042   \n",
      "1                                    -0.006253   \n",
      "2                                     0.006725   \n",
      "3                                    -0.000985   \n",
      "4                                     0.005417   \n",
      "..                                         ...   \n",
      "91                                    0.020617   \n",
      "92                                    0.002695   \n",
      "93                                   -0.005246   \n",
      "94                                   -0.001408   \n",
      "95                                   -0.001879   \n",
      "\n",
      "    Nuclei_RadialDistribution_ZernikePhase_9_1  \\\n",
      "0                                     0.018605   \n",
      "1                                     0.021927   \n",
      "2                                     0.008139   \n",
      "3                                     0.006110   \n",
      "4                                    -0.016053   \n",
      "..                                         ...   \n",
      "91                                   -0.007026   \n",
      "92                                   -0.009610   \n",
      "93                                    0.003692   \n",
      "94                                    0.001298   \n",
      "95                                    0.006690   \n",
      "\n",
      "    Nuclei_RadialDistribution_ZernikePhase_9_3  \\\n",
      "0                                    -0.058823   \n",
      "1                                    -0.075890   \n",
      "2                                    -0.054102   \n",
      "3                                     0.018343   \n",
      "4                                    -0.000847   \n",
      "..                                         ...   \n",
      "91                                    0.012595   \n",
      "92                                   -0.006364   \n",
      "93                                    0.004517   \n",
      "94                                   -0.004218   \n",
      "95                                    0.001116   \n",
      "\n",
      "    Nuclei_RadialDistribution_ZernikePhase_9_5  \\\n",
      "0                                    -0.030010   \n",
      "1                                    -0.050538   \n",
      "2                                    -0.042331   \n",
      "3                                    -0.002243   \n",
      "4                                     0.018493   \n",
      "..                                         ...   \n",
      "91                                    0.007589   \n",
      "92                                    0.008268   \n",
      "93                                   -0.007189   \n",
      "94                                   -0.003644   \n",
      "95                                   -0.003188   \n",
      "\n",
      "    Nuclei_RadialDistribution_ZernikePhase_9_7  \\\n",
      "0                                    -0.012822   \n",
      "1                                    -0.030914   \n",
      "2                                     0.003489   \n",
      "3                                     0.002698   \n",
      "4                                     0.008329   \n",
      "..                                         ...   \n",
      "91                                    0.009493   \n",
      "92                                   -0.005019   \n",
      "93                                   -0.000549   \n",
      "94                                    0.000465   \n",
      "95                                    0.001639   \n",
      "\n",
      "    Nuclei_RadialDistribution_ZernikePhase_9_9  \\\n",
      "0                                    -0.053868   \n",
      "1                                    -0.023099   \n",
      "2                                    -0.040262   \n",
      "3                                    -0.014026   \n",
      "4                                    -0.033349   \n",
      "..                                         ...   \n",
      "91                                    0.005480   \n",
      "92                                    0.010797   \n",
      "93                                   -0.004913   \n",
      "94                                    0.001752   \n",
      "95                                   -0.000386   \n",
      "\n",
      "    Nuclei_Texture_Correlation_3_00_256  Nuclei_Texture_Correlation_3_01_256  \\\n",
      "0                             -0.329853                            -0.279762   \n",
      "1                              0.377650                             0.403960   \n",
      "2                              0.237765                             0.097259   \n",
      "3                              0.205998                             0.206157   \n",
      "4                              0.771391                             0.715149   \n",
      "..                                  ...                                  ...   \n",
      "91                             0.517795                             0.516578   \n",
      "92                             0.428805                             0.333719   \n",
      "93                            -0.094486                            -0.088277   \n",
      "94                            -0.377683                            -0.371759   \n",
      "95                            -0.426505                            -0.304267   \n",
      "\n",
      "    Nuclei_Texture_Correlation_3_02_256  Nuclei_Texture_Correlation_3_03_256  \n",
      "0                             -0.340624                            -0.326910  \n",
      "1                              0.409060                             0.397982  \n",
      "2                              0.193286                             0.059259  \n",
      "3                              0.231749                             0.189171  \n",
      "4                              0.782281                             0.700230  \n",
      "..                                  ...                                  ...  \n",
      "91                             0.516336                             0.522199  \n",
      "92                             0.412210                             0.342874  \n",
      "93                            -0.090465                            -0.101682  \n",
      "94                            -0.372446                            -0.371644  \n",
      "95                            -0.410026                            -0.311796  \n",
      "\n",
      "[96 rows x 65 columns]\n"
     ]
    }
   ],
   "source": [
    "print(staindf)"
   ]
  },
  {
   "cell_type": "markdown",
   "metadata": {
    "jukit_cell_id": "C6AaBtUOCj"
   },
   "source": [
    "# MIC Comparisons\n",
    "Compares MIC scores between DAPI and nuclear speckle stains of the same well."
   ]
  },
  {
   "cell_type": "code",
   "execution_count": 13,
   "metadata": {
    "execution": {
     "iopub.execute_input": "2024-09-23T22:33:16.948139Z",
     "iopub.status.busy": "2024-09-23T22:33:16.947886Z",
     "iopub.status.idle": "2024-09-23T22:33:17.107447Z",
     "shell.execute_reply": "2024-09-23T22:33:17.106975Z"
    },
    "jukit_cell_id": "w71BTYZlzF"
   },
   "outputs": [],
   "source": [
    "micdfs = []\n",
    "speckle_stains = {\"GOLD\", \"A647\"}\n",
    "\n",
    "for stain in speckle_stains:\n",
    "    for feature_order in (\"mic\", \"shuffled_mic\"):\n",
    "\n",
    "        if feature_order == \"mic\":\n",
    "            mic_comparator = MIC()\n",
    "\n",
    "        else:\n",
    "            # Shuffles the samples/features depending on your perspective\n",
    "            mic_comparator = ShuffledMIC()\n",
    "\n",
    "        speckle_staindf = staindf.loc[staindf[\"Metadata_Stain\"] != stain]\n",
    "\n",
    "        comparer = PairwiseCompare(\n",
    "            _df=speckle_staindf,\n",
    "            _comparator=mic_comparator,\n",
    "            _antehoc_group_cols=[\"Metadata_Plate\", \"Metadata_Well\", \"Metadata_Condition\"],\n",
    "            _posthoc_group_cols=[\"Metadata_Stain\"],\n",
    "            _feat_cols=feat_cols,\n",
    "        )\n",
    "\n",
    "        comparer.intra_comparisons()\n",
    "\n",
    "        micdf = pd.DataFrame(mic_comparator.comparisons)\n",
    "        micdf = micdf.assign(Metadata_Comparison_Type=feature_order)\n",
    "        micdfs.append(micdf)\n",
    "\n",
    "micdfs = pd.concat(micdfs, axis=0)"
   ]
  },
  {
   "cell_type": "code",
   "execution_count": 14,
   "metadata": {
    "execution": {
     "iopub.execute_input": "2024-09-23T22:33:17.109218Z",
     "iopub.status.busy": "2024-09-23T22:33:17.109099Z",
     "iopub.status.idle": "2024-09-23T22:33:17.112680Z",
     "shell.execute_reply": "2024-09-23T22:33:17.112323Z"
    },
    "jukit_cell_id": "dmrEzRq5Dc"
   },
   "outputs": [],
   "source": [
    "agg_merge_cols = [\"Metadata_Plate\", \"Metadata_Well\"]\n",
    "\n",
    "micdfs = pd.merge(\n",
    "    left=micdfs,\n",
    "    right=staindf[agg_merge_cols + [\"Metadata_Cell_Count\", \"Metadata_Condition\"]],\n",
    "    how=\"inner\",\n",
    "    left_on=[\n",
    "        \"Metadata_Plate__antehoc_group0\",\n",
    "        \"Metadata_Well__antehoc_group0\"\n",
    "    ],\n",
    "    right_on=agg_merge_cols,\n",
    ")"
   ]
  },
  {
   "cell_type": "code",
   "execution_count": 15,
   "metadata": {
    "execution": {
     "iopub.execute_input": "2024-09-23T22:33:17.114222Z",
     "iopub.status.busy": "2024-09-23T22:33:17.113937Z",
     "iopub.status.idle": "2024-09-23T22:33:17.118788Z",
     "shell.execute_reply": "2024-09-23T22:33:17.118409Z"
    },
    "jukit_cell_id": "MibCyqkQRo"
   },
   "outputs": [
    {
     "name": "stdout",
     "output_type": "stream",
     "text": [
      "        mic_e Metadata_Plate__antehoc_group0 Metadata_Plate__antehoc_group1  \\\n",
      "0    0.857133                         slide1                         slide1   \n",
      "1    0.857133                         slide1                         slide1   \n",
      "2    0.857133                         slide1                         slide1   \n",
      "3    0.152908                         slide1                         slide1   \n",
      "4    0.152908                         slide1                         slide1   \n",
      "..        ...                            ...                            ...   \n",
      "379  0.726352                         slide4                         slide4   \n",
      "380  0.726352                         slide4                         slide4   \n",
      "381  0.170285                         slide4                         slide4   \n",
      "382  0.170285                         slide4                         slide4   \n",
      "383  0.170285                         slide4                         slide4   \n",
      "\n",
      "    Metadata_Well__antehoc_group0 Metadata_Well__antehoc_group1  \\\n",
      "0                              A1                            A1   \n",
      "1                              A1                            A1   \n",
      "2                              A1                            A1   \n",
      "3                              A1                            A1   \n",
      "4                              A1                            A1   \n",
      "..                            ...                           ...   \n",
      "379                            B4                            B4   \n",
      "380                            B4                            B4   \n",
      "381                            B4                            B4   \n",
      "382                            B4                            B4   \n",
      "383                            B4                            B4   \n",
      "\n",
      "    Metadata_Condition__antehoc_group0 Metadata_Condition__antehoc_group1  \\\n",
      "0                                  NTC                                NTC   \n",
      "1                                  NTC                                NTC   \n",
      "2                                  NTC                                NTC   \n",
      "3                                  NTC                                NTC   \n",
      "4                                  NTC                                NTC   \n",
      "..                                 ...                                ...   \n",
      "379                          untreated                          untreated   \n",
      "380                          untreated                          untreated   \n",
      "381                          untreated                          untreated   \n",
      "382                          untreated                          untreated   \n",
      "383                          untreated                          untreated   \n",
      "\n",
      "    Metadata_Stain__posthoc_group0 Metadata_Stain__posthoc_group1  \\\n",
      "0                             DAPI                           GOLD   \n",
      "1                             DAPI                           GOLD   \n",
      "2                             DAPI                           GOLD   \n",
      "3                             DAPI                           GOLD   \n",
      "4                             DAPI                           GOLD   \n",
      "..                             ...                            ...   \n",
      "379                           A647                           DAPI   \n",
      "380                           A647                           DAPI   \n",
      "381                           A647                           DAPI   \n",
      "382                           A647                           DAPI   \n",
      "383                           A647                           DAPI   \n",
      "\n",
      "    Metadata_Comparison_Type Metadata_Plate Metadata_Well  \\\n",
      "0                        mic         slide1            A1   \n",
      "1                        mic         slide1            A1   \n",
      "2                        mic         slide1            A1   \n",
      "3               shuffled_mic         slide1            A1   \n",
      "4               shuffled_mic         slide1            A1   \n",
      "..                       ...            ...           ...   \n",
      "379                      mic         slide4            B4   \n",
      "380                      mic         slide4            B4   \n",
      "381             shuffled_mic         slide4            B4   \n",
      "382             shuffled_mic         slide4            B4   \n",
      "383             shuffled_mic         slide4            B4   \n",
      "\n",
      "     Metadata_Cell_Count Metadata_Condition  \n",
      "0                   1101                NTC  \n",
      "1                   1101                NTC  \n",
      "2                   1101                NTC  \n",
      "3                   1101                NTC  \n",
      "4                   1101                NTC  \n",
      "..                   ...                ...  \n",
      "379                32309          untreated  \n",
      "380                32309          untreated  \n",
      "381                32309          untreated  \n",
      "382                32309          untreated  \n",
      "383                32309          untreated  \n",
      "\n",
      "[384 rows x 14 columns]\n"
     ]
    }
   ],
   "source": [
    "print(micdfs)"
   ]
  },
  {
   "cell_type": "markdown",
   "metadata": {
    "jukit_cell_id": "AqtWUrsIp4"
   },
   "source": [
    "# Save Results"
   ]
  },
  {
   "cell_type": "code",
   "execution_count": 16,
   "metadata": {
    "execution": {
     "iopub.execute_input": "2024-09-23T22:33:17.120257Z",
     "iopub.status.busy": "2024-09-23T22:33:17.120038Z",
     "iopub.status.idle": "2024-09-23T22:33:17.402708Z",
     "shell.execute_reply": "2024-09-23T22:33:17.402050Z"
    },
    "jukit_cell_id": "GH9A0UFvxL"
   },
   "outputs": [
    {
     "name": "stdout",
     "output_type": "stream",
     "text": [
      "        mic_e Metadata_Plate__antehoc_group0 Metadata_Plate__antehoc_group1  \\\n",
      "6    0.857133                         slide1                         slide1   \n",
      "7    0.857133                         slide1                         slide1   \n",
      "8    0.857133                         slide1                         slide1   \n",
      "9    0.195190                         slide1                         slide1   \n",
      "10   0.195190                         slide1                         slide1   \n",
      "..        ...                            ...                            ...   \n",
      "379  0.726352                         slide4                         slide4   \n",
      "380  0.726352                         slide4                         slide4   \n",
      "381  0.170285                         slide4                         slide4   \n",
      "382  0.170285                         slide4                         slide4   \n",
      "383  0.170285                         slide4                         slide4   \n",
      "\n",
      "    Metadata_Well__antehoc_group0 Metadata_Well__antehoc_group1  \\\n",
      "6                              A1                            A1   \n",
      "7                              A1                            A1   \n",
      "8                              A1                            A1   \n",
      "9                              A1                            A1   \n",
      "10                             A1                            A1   \n",
      "..                            ...                           ...   \n",
      "379                            B4                            B4   \n",
      "380                            B4                            B4   \n",
      "381                            B4                            B4   \n",
      "382                            B4                            B4   \n",
      "383                            B4                            B4   \n",
      "\n",
      "    Metadata_Condition__antehoc_group0 Metadata_Condition__antehoc_group1  \\\n",
      "6                                  NTC                                NTC   \n",
      "7                                  NTC                                NTC   \n",
      "8                                  NTC                                NTC   \n",
      "9                                  NTC                                NTC   \n",
      "10                                 NTC                                NTC   \n",
      "..                                 ...                                ...   \n",
      "379                          untreated                          untreated   \n",
      "380                          untreated                          untreated   \n",
      "381                          untreated                          untreated   \n",
      "382                          untreated                          untreated   \n",
      "383                          untreated                          untreated   \n",
      "\n",
      "    Metadata_Stain__posthoc_group0 Metadata_Stain__posthoc_group1  \\\n",
      "6                             A647                           DAPI   \n",
      "7                             A647                           DAPI   \n",
      "8                             A647                           DAPI   \n",
      "9                             A647                           DAPI   \n",
      "10                            A647                           DAPI   \n",
      "..                             ...                            ...   \n",
      "379                           A647                           DAPI   \n",
      "380                           A647                           DAPI   \n",
      "381                           A647                           DAPI   \n",
      "382                           A647                           DAPI   \n",
      "383                           A647                           DAPI   \n",
      "\n",
      "    Metadata_Comparison_Type Metadata_Plate Metadata_Well  \\\n",
      "6                        mic         slide1            A1   \n",
      "7                        mic         slide1            A1   \n",
      "8                        mic         slide1            A1   \n",
      "9               shuffled_mic         slide1            A1   \n",
      "10              shuffled_mic         slide1            A1   \n",
      "..                       ...            ...           ...   \n",
      "379                      mic         slide4            B4   \n",
      "380                      mic         slide4            B4   \n",
      "381             shuffled_mic         slide4            B4   \n",
      "382             shuffled_mic         slide4            B4   \n",
      "383             shuffled_mic         slide4            B4   \n",
      "\n",
      "     Metadata_Cell_Count Metadata_Condition  \n",
      "6                   1101                NTC  \n",
      "7                   1101                NTC  \n",
      "8                   1101                NTC  \n",
      "9                   1101                NTC  \n",
      "10                  1101                NTC  \n",
      "..                   ...                ...  \n",
      "379                32309          untreated  \n",
      "380                32309          untreated  \n",
      "381                32309          untreated  \n",
      "382                32309          untreated  \n",
      "383                32309          untreated  \n",
      "\n",
      "[192 rows x 14 columns]\n"
     ]
    },
    {
     "name": "stdout",
     "output_type": "stream",
     "text": [
      "        mic_e Metadata_Plate__antehoc_group0 Metadata_Plate__antehoc_group1  \\\n",
      "0    0.857133                         slide1                         slide1   \n",
      "1    0.857133                         slide1                         slide1   \n",
      "2    0.857133                         slide1                         slide1   \n",
      "3    0.152908                         slide1                         slide1   \n",
      "4    0.152908                         slide1                         slide1   \n",
      "..        ...                            ...                            ...   \n",
      "373  0.813132                         slide4                         slide4   \n",
      "374  0.813132                         slide4                         slide4   \n",
      "375  0.152928                         slide4                         slide4   \n",
      "376  0.152928                         slide4                         slide4   \n",
      "377  0.152928                         slide4                         slide4   \n",
      "\n",
      "    Metadata_Well__antehoc_group0 Metadata_Well__antehoc_group1  \\\n",
      "0                              A1                            A1   \n",
      "1                              A1                            A1   \n",
      "2                              A1                            A1   \n",
      "3                              A1                            A1   \n",
      "4                              A1                            A1   \n",
      "..                            ...                           ...   \n",
      "373                            B4                            B4   \n",
      "374                            B4                            B4   \n",
      "375                            B4                            B4   \n",
      "376                            B4                            B4   \n",
      "377                            B4                            B4   \n",
      "\n",
      "    Metadata_Condition__antehoc_group0 Metadata_Condition__antehoc_group1  \\\n",
      "0                                  NTC                                NTC   \n",
      "1                                  NTC                                NTC   \n",
      "2                                  NTC                                NTC   \n",
      "3                                  NTC                                NTC   \n",
      "4                                  NTC                                NTC   \n",
      "..                                 ...                                ...   \n",
      "373                          untreated                          untreated   \n",
      "374                          untreated                          untreated   \n",
      "375                          untreated                          untreated   \n",
      "376                          untreated                          untreated   \n",
      "377                          untreated                          untreated   \n",
      "\n",
      "    Metadata_Stain__posthoc_group0 Metadata_Stain__posthoc_group1  \\\n",
      "0                             DAPI                           GOLD   \n",
      "1                             DAPI                           GOLD   \n",
      "2                             DAPI                           GOLD   \n",
      "3                             DAPI                           GOLD   \n",
      "4                             DAPI                           GOLD   \n",
      "..                             ...                            ...   \n",
      "373                           DAPI                           GOLD   \n",
      "374                           DAPI                           GOLD   \n",
      "375                           DAPI                           GOLD   \n",
      "376                           DAPI                           GOLD   \n",
      "377                           DAPI                           GOLD   \n",
      "\n",
      "    Metadata_Comparison_Type Metadata_Plate Metadata_Well  \\\n",
      "0                        mic         slide1            A1   \n",
      "1                        mic         slide1            A1   \n",
      "2                        mic         slide1            A1   \n",
      "3               shuffled_mic         slide1            A1   \n",
      "4               shuffled_mic         slide1            A1   \n",
      "..                       ...            ...           ...   \n",
      "373                      mic         slide4            B4   \n",
      "374                      mic         slide4            B4   \n",
      "375             shuffled_mic         slide4            B4   \n",
      "376             shuffled_mic         slide4            B4   \n",
      "377             shuffled_mic         slide4            B4   \n",
      "\n",
      "     Metadata_Cell_Count Metadata_Condition  \n",
      "0                   1101                NTC  \n",
      "1                   1101                NTC  \n",
      "2                   1101                NTC  \n",
      "3                   1101                NTC  \n",
      "4                   1101                NTC  \n",
      "..                   ...                ...  \n",
      "373                32309          untreated  \n",
      "374                32309          untreated  \n",
      "375                32309          untreated  \n",
      "376                32309          untreated  \n",
      "377                32309          untreated  \n",
      "\n",
      "[192 rows x 14 columns]\n"
     ]
    }
   ],
   "source": [
    "for stain in speckle_stains:\n",
    "\n",
    "    pattern = f\"DAPI|{re.escape(stain)}\"\n",
    "    stain_micdfs = micdfs.loc[micdfs[\"Metadata_Stain__posthoc_group0\"].str.contains(pattern, regex=True) & micdfs[\"Metadata_Stain__posthoc_group1\"].str.contains(pattern, regex=True)]\n",
    "    print(stain_micdfs)\n",
    "\n",
    "    sns.histplot(data=stain_micdfs, x=\"mic_e\", hue=\"Metadata_Comparison_Type\",\n",
    "    palette={\"shuffled_mic\": 'blue', \"mic\": 'red'}, bins=10, kde=False)\n",
    "\n",
    "    plt.gcf().set_size_inches(18, 10)\n",
    "\n",
    "    plt.xlabel(\"MIC\", fontsize=13)\n",
    "    plt.ylabel(\"Density\", fontsize=13)\n",
    "\n",
    "    plt.xticks(fontsize=12)\n",
    "    plt.yticks(fontsize=12)\n",
    "\n",
    "    plt.title(f\"Distributions of Maximal Information Coeficient (MIC)\\nBetween DAPI and {stain} Features per Well\", fontsize=16)\n",
    "\n",
    "    plt.xlim(0, 1)\n",
    "    plt.ylim(0.0, 80.0)\n",
    "\n",
    "    plt.savefig(distribution_figures_path / f\"mic_distributions_dapi_{stain.lower()}_wells.png\")\n",
    "    plt.close()"
   ]
  },
  {
   "cell_type": "code",
   "execution_count": 17,
   "metadata": {
    "execution": {
     "iopub.execute_input": "2024-09-23T22:33:17.405366Z",
     "iopub.status.busy": "2024-09-23T22:33:17.405204Z",
     "iopub.status.idle": "2024-09-23T22:33:17.410029Z",
     "shell.execute_reply": "2024-09-23T22:33:17.409577Z"
    },
    "jukit_cell_id": "QKzuA6IiNf"
   },
   "outputs": [],
   "source": [
    "micdfs.to_parquet(mic_comparisons_path / \"well_sirna_mic_comparisons.parquet\")"
   ]
  }
 ],
 "metadata": {
  "anaconda-cloud": {},
  "kernelspec": {
   "display_name": "python",
   "language": "python",
   "name": "python3"
  },
  "language_info": {
   "codemirror_mode": {
    "name": "ipython",
    "version": 3
   },
   "file_extension": ".py",
   "mimetype": "text/x-python",
   "name": "python",
   "nbconvert_exporter": "python",
   "pygments_lexer": "ipython3",
   "version": "3.10.15"
  }
 },
 "nbformat": 4,
 "nbformat_minor": 4
}
