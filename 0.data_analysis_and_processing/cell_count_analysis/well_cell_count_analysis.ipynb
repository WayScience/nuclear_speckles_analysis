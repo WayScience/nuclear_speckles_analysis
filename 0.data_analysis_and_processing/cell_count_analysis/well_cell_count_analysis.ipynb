{
 "cells": [
  {
   "cell_type": "markdown",
   "metadata": {
    "jukit_cell_id": "nSFMQ1rJnU"
   },
   "source": [
    "# Visualize Well Cell Count Distribution"
   ]
  },
  {
   "cell_type": "code",
   "execution_count": 1,
   "metadata": {
    "execution": {
     "iopub.execute_input": "2024-10-04T16:33:34.173084Z",
     "iopub.status.busy": "2024-10-04T16:33:34.172691Z",
     "iopub.status.idle": "2024-10-04T16:33:34.755791Z",
     "shell.execute_reply": "2024-10-04T16:33:34.755376Z"
    },
    "jukit_cell_id": "aUWxRwDnDN"
   },
   "outputs": [],
   "source": [
    "import pathlib\n",
    "\n",
    "import matplotlib.pyplot as plt\n",
    "import pandas as pd\n",
    "import seaborn as sns"
   ]
  },
  {
   "cell_type": "markdown",
   "metadata": {
    "jukit_cell_id": "16JZoL1Qyn"
   },
   "source": [
    "## Find the root of the git repo on the host system"
   ]
  },
  {
   "cell_type": "code",
   "execution_count": 2,
   "metadata": {
    "execution": {
     "iopub.execute_input": "2024-10-04T16:33:34.758131Z",
     "iopub.status.busy": "2024-10-04T16:33:34.757912Z",
     "iopub.status.idle": "2024-10-04T16:33:34.760796Z",
     "shell.execute_reply": "2024-10-04T16:33:34.760511Z"
    },
    "jukit_cell_id": "q9OTubYygL"
   },
   "outputs": [],
   "source": [
    "# Get the current working directory\n",
    "cwd = pathlib.Path.cwd()\n",
    "\n",
    "if (cwd / \".git\").is_dir():\n",
    "    root_dir = cwd\n",
    "\n",
    "else:\n",
    "    root_dir = None\n",
    "    for parent in cwd.parents:\n",
    "        if (parent / \".git\").is_dir():\n",
    "            root_dir = parent\n",
    "            break\n",
    "\n",
    "# Check if a Git root directory was found\n",
    "if root_dir is None:\n",
    "    raise FileNotFoundError(\"No Git root directory found.\")"
   ]
  },
  {
   "cell_type": "markdown",
   "metadata": {
    "jukit_cell_id": "jlUracEfmS"
   },
   "source": [
    "# Inputs"
   ]
  },
  {
   "cell_type": "code",
   "execution_count": 3,
   "metadata": {
    "execution": {
     "iopub.execute_input": "2024-10-04T16:33:34.762392Z",
     "iopub.status.busy": "2024-10-04T16:33:34.762282Z",
     "iopub.status.idle": "2024-10-04T16:33:34.824466Z",
     "shell.execute_reply": "2024-10-04T16:33:34.824152Z"
    },
    "jukit_cell_id": "lVnNftOynO"
   },
   "outputs": [],
   "source": [
    "mic_comparisons_path = root_dir / \"0.data_analysis_and_processing/mic_analysis/mic_comparisons_data/well_sirna_mic_comparisons.parquet\"\n",
    "micdf = pd.read_parquet(mic_comparisons_path)"
   ]
  },
  {
   "cell_type": "markdown",
   "metadata": {
    "jukit_cell_id": "DHw8UoqKKJ"
   },
   "source": [
    "# Outputs"
   ]
  },
  {
   "cell_type": "code",
   "execution_count": 4,
   "metadata": {
    "execution": {
     "iopub.execute_input": "2024-10-04T16:33:34.826280Z",
     "iopub.status.busy": "2024-10-04T16:33:34.826167Z",
     "iopub.status.idle": "2024-10-04T16:33:34.828228Z",
     "shell.execute_reply": "2024-10-04T16:33:34.827958Z"
    },
    "jukit_cell_id": "ySZeCNnLwb"
   },
   "outputs": [],
   "source": [
    "cell_count_path = pathlib.Path(\"cell_count_distribution_figures\")\n",
    "cell_count_path.mkdir(parents=True, exist_ok=True)"
   ]
  },
  {
   "cell_type": "code",
   "execution_count": 5,
   "metadata": {
    "execution": {
     "iopub.execute_input": "2024-10-04T16:33:34.829470Z",
     "iopub.status.busy": "2024-10-04T16:33:34.829365Z",
     "iopub.status.idle": "2024-10-04T16:33:34.832004Z",
     "shell.execute_reply": "2024-10-04T16:33:34.831751Z"
    },
    "jukit_cell_id": "FW2xFD6tFX"
   },
   "outputs": [],
   "source": [
    "micdf = micdf.drop_duplicates(subset=[\"Metadata_Plate\", \"Metadata_Well\"])"
   ]
  },
  {
   "cell_type": "code",
   "execution_count": 6,
   "metadata": {
    "execution": {
     "iopub.execute_input": "2024-10-04T16:33:34.833199Z",
     "iopub.status.busy": "2024-10-04T16:33:34.833096Z",
     "iopub.status.idle": "2024-10-04T16:33:34.837430Z",
     "shell.execute_reply": "2024-10-04T16:33:34.837165Z"
    },
    "jukit_cell_id": "i1ltEYtSkb"
   },
   "outputs": [
    {
     "name": "stdout",
     "output_type": "stream",
     "text": [
      "        mic_e Metadata_Plate Metadata_Well Metadata_Condition  \\\n",
      "0    0.857133         slide1            A1                NTC   \n",
      "18   0.757082         slide1            A2            ALY kd8   \n",
      "36   0.830519         slide1            A3          SART1 kd6   \n",
      "54   0.621573         slide1            A4           FIBP kd7   \n",
      "72   0.820112         slide1            B1            ALY kd5   \n",
      "90   0.782552         slide1            B2          SART1 kd4   \n",
      "108  0.757082         slide1            B3           FIBP kd6   \n",
      "126  0.782552         slide1            B4          untreated   \n",
      "144  0.818074         slide2            A1                NTC   \n",
      "162  0.791746         slide2            A2         DDX39A kd4   \n",
      "180  0.857133         slide2            A3          SARNP kd9   \n",
      "198  0.709443         slide2            A4        TMEM259 kd6   \n",
      "216  0.678485         slide2            B1         DDX39A kd1   \n",
      "234  0.730308         slide2            B2          SARNP kd3   \n",
      "252  0.576689         slide2            B3        TMEM259 kd5   \n",
      "270  0.767101         slide2            B4          untreated   \n",
      "288  0.402771         slide3            A1                NTC   \n",
      "306  0.734179         slide3            A2            ALY kd8   \n",
      "324  0.664992         slide3            A3          SART1 kd6   \n",
      "342  0.678485         slide3            A4           FIBP kd7   \n",
      "360  0.730308         slide3            B1            ALY kd5   \n",
      "378  0.812292         slide3            B2          SART1 kd4   \n",
      "396  0.583895         slide3            B3           FIBP kd6   \n",
      "414  0.734179         slide3            B4          untreated   \n",
      "432  0.524741         slide4            A1                NTC   \n",
      "450  0.877599         slide4            A2         DDX39A kd4   \n",
      "468  0.897105         slide4            A3          SARNP kd9   \n",
      "486  0.678485         slide4            A4        TMEM259 kd6   \n",
      "504  0.742119         slide4            B1         DDX39A kd1   \n",
      "522  0.435906         slide4            B2          SARNP kd3   \n",
      "540  0.820112         slide4            B3        TMEM259 kd5   \n",
      "558  0.726352         slide4            B4          untreated   \n",
      "\n",
      "    Metadata_Stain__posthoc_group0 Metadata_Stain__posthoc_group1  \\\n",
      "0                             A647                           DAPI   \n",
      "18                            A647                           DAPI   \n",
      "36                            A647                           DAPI   \n",
      "54                            A647                           DAPI   \n",
      "72                            A647                           DAPI   \n",
      "90                            A647                           DAPI   \n",
      "108                           A647                           DAPI   \n",
      "126                           A647                           DAPI   \n",
      "144                           A647                           DAPI   \n",
      "162                           A647                           DAPI   \n",
      "180                           A647                           DAPI   \n",
      "198                           A647                           DAPI   \n",
      "216                           A647                           DAPI   \n",
      "234                           A647                           DAPI   \n",
      "252                           A647                           DAPI   \n",
      "270                           A647                           DAPI   \n",
      "288                           A647                           DAPI   \n",
      "306                           A647                           DAPI   \n",
      "324                           A647                           DAPI   \n",
      "342                           A647                           DAPI   \n",
      "360                           A647                           DAPI   \n",
      "378                           A647                           DAPI   \n",
      "396                           A647                           DAPI   \n",
      "414                           A647                           DAPI   \n",
      "432                           A647                           DAPI   \n",
      "450                           A647                           DAPI   \n",
      "468                           A647                           DAPI   \n",
      "486                           A647                           DAPI   \n",
      "504                           A647                           DAPI   \n",
      "522                           A647                           DAPI   \n",
      "540                           A647                           DAPI   \n",
      "558                           A647                           DAPI   \n",
      "\n",
      "    Metadata_Comparison_Type  Metadata_Cell_Count  \n",
      "0                        mic                 1101  \n",
      "18                       mic                 2325  \n",
      "36                       mic                 1575  \n",
      "54                       mic                 2851  \n",
      "72                       mic                 1709  \n",
      "90                       mic                 3461  \n",
      "108                      mic                 1515  \n",
      "126                      mic                55093  \n",
      "144                      mic                 1983  \n",
      "162                      mic                 1866  \n",
      "180                      mic                 1596  \n",
      "198                      mic                 1746  \n",
      "216                      mic                 1862  \n",
      "234                      mic                 2219  \n",
      "252                      mic                 2975  \n",
      "270                      mic                37542  \n",
      "288                      mic                 1944  \n",
      "306                      mic                 6618  \n",
      "324                      mic                 3344  \n",
      "342                      mic                 3654  \n",
      "360                      mic                 3615  \n",
      "378                      mic                 4047  \n",
      "396                      mic                 4912  \n",
      "414                      mic                28000  \n",
      "432                      mic                 2513  \n",
      "450                      mic                 3983  \n",
      "468                      mic                 3804  \n",
      "486                      mic                 6892  \n",
      "504                      mic                 3347  \n",
      "522                      mic                 4200  \n",
      "540                      mic                 6305  \n",
      "558                      mic                32309  \n"
     ]
    }
   ],
   "source": [
    "print(micdf)"
   ]
  },
  {
   "cell_type": "code",
   "execution_count": 7,
   "metadata": {
    "execution": {
     "iopub.execute_input": "2024-10-04T16:33:34.860784Z",
     "iopub.status.busy": "2024-10-04T16:33:34.860650Z",
     "iopub.status.idle": "2024-10-04T16:33:35.063358Z",
     "shell.execute_reply": "2024-10-04T16:33:35.062978Z"
    },
    "jukit_cell_id": "JyJkqwndUY"
   },
   "outputs": [
    {
     "data": {
      "image/png": "[encoded data removed]",
      "text/plain": [
       "<Figure size 1800x1000 with 1 Axes>"
      ]
     },
     "metadata": {},
     "output_type": "display_data"
    }
   ],
   "source": [
    "plt.figure(figsize=(18, 10))\n",
    "sns.histplot(data=micdf, x=\"Metadata_Cell_Count\", kde=False)\n",
    "plt.xlabel(\"Well Cell Count Distribution\")\n",
    "plt.ylabel(\"Number of Wells\")\n",
    "plt.title(\"Well Cell Counts\")\n",
    "\n",
    "plt.savefig(cell_count_path / \"well_cell_counts.png\")"
   ]
  }
 ],
 "metadata": {
  "anaconda-cloud": {},
  "kernelspec": {
   "display_name": "python",
   "language": "python",
   "name": "python3"
  },
  "language_info": {
   "codemirror_mode": {
    "name": "ipython",
    "version": 3
   },
   "file_extension": ".py",
   "mimetype": "text/x-python",
   "name": "python",
   "nbconvert_exporter": "python",
   "pygments_lexer": "ipython3",
   "version": "3.10.15"
  }
 },
 "nbformat": 4,
 "nbformat_minor": 4
}
