{
 "cells": [
  {
   "cell_type": "markdown",
   "metadata": {
    "jukit_cell_id": "4AA77kNCKm"
   },
   "source": [
    "# Evaluate Vision Models\n",
    "Here, the best vision models, thus far, are evaluated according to four metrics on both the training and validation datasets:\n",
    "L1 Loss, L2 Loss, PSNR, and SSIM"
   ]
  },
  {
   "cell_type": "code",
   "execution_count": 1,
   "metadata": {
    "execution": {
     "iopub.execute_input": "2024-12-13T21:08:13.995458Z",
     "iopub.status.busy": "2024-12-13T21:08:13.995303Z",
     "iopub.status.idle": "2024-12-13T21:08:15.598847Z",
     "shell.execute_reply": "2024-12-13T21:08:15.598365Z"
    },
    "jukit_cell_id": "hiLBvSISaw"
   },
   "outputs": [],
   "source": [
    "import copy\n",
    "import pathlib\n",
    "import random\n",
    "import sys\n",
    "from collections import defaultdict\n",
    "\n",
    "import albumentations as A\n",
    "import mlflow\n",
    "import numpy as np\n",
    "import pandas as pd\n",
    "import torch\n",
    "from torch.utils.data import random_split"
   ]
  },
  {
   "cell_type": "markdown",
   "metadata": {
    "jukit_cell_id": "Meri0joHnI"
   },
   "source": [
    "## Find the root of the git repo on the host system"
   ]
  },
  {
   "cell_type": "code",
   "execution_count": 2,
   "metadata": {
    "execution": {
     "iopub.execute_input": "2024-12-13T21:08:15.601591Z",
     "iopub.status.busy": "2024-12-13T21:08:15.601178Z",
     "iopub.status.idle": "2024-12-13T21:08:15.604161Z",
     "shell.execute_reply": "2024-12-13T21:08:15.603810Z"
    },
    "jukit_cell_id": "Ko16YFvQXV"
   },
   "outputs": [],
   "source": [
    "# Get the current working directory\n",
    "cwd = pathlib.Path.cwd()\n",
    "\n",
    "if (cwd / \".git\").is_dir():\n",
    "    root_dir = cwd\n",
    "\n",
    "else:\n",
    "    root_dir = None\n",
    "    for parent in cwd.parents:\n",
    "        if (parent / \".git\").is_dir():\n",
    "            root_dir = parent\n",
    "            break\n",
    "\n",
    "# Check if a Git root directory was found\n",
    "if root_dir is None:\n",
    "    raise FileNotFoundError(\"No Git root directory found.\")"
   ]
  },
  {
   "cell_type": "markdown",
   "metadata": {
    "jukit_cell_id": "vGuEzAxPyF"
   },
   "source": [
    "## Custom Imports"
   ]
  },
  {
   "cell_type": "code",
   "execution_count": 3,
   "metadata": {
    "execution": {
     "iopub.execute_input": "2024-12-13T21:08:15.605794Z",
     "iopub.status.busy": "2024-12-13T21:08:15.605690Z",
     "iopub.status.idle": "2024-12-13T21:08:15.618802Z",
     "shell.execute_reply": "2024-12-13T21:08:15.618460Z"
    },
    "jukit_cell_id": "RTGYNW7JLL"
   },
   "outputs": [],
   "source": [
    "sys.path.append(str((root_dir / \"1.develop_vision_models\").resolve(strict=True)))\n",
    "sys.path.append(str((root_dir / \"1.develop_vision_models/losses\").resolve(strict=True)))\n",
    "sys.path.append(str((root_dir / \"1.develop_vision_models/models\").resolve(strict=True)))\n",
    "\n",
    "from datasets.ImageDataset import ImageDataset\n",
    "from L2Loss import L2Loss\n",
    "from losses.L1Loss import L1Loss\n",
    "from PSNR import PSNR\n",
    "from SSIM import SSIM\n",
    "from transforms.CropNPixels import CropNPixels\n",
    "from transforms.MinMaxNormalize import MinMaxNormalize"
   ]
  },
  {
   "cell_type": "markdown",
   "metadata": {
    "jukit_cell_id": "ZDjx5NhMh5"
   },
   "source": [
    "## Set random seeds"
   ]
  },
  {
   "cell_type": "code",
   "execution_count": 4,
   "metadata": {
    "execution": {
     "iopub.execute_input": "2024-12-13T21:08:15.620457Z",
     "iopub.status.busy": "2024-12-13T21:08:15.620352Z",
     "iopub.status.idle": "2024-12-13T21:08:15.624680Z",
     "shell.execute_reply": "2024-12-13T21:08:15.624354Z"
    },
    "jukit_cell_id": "goD9xIS6sd"
   },
   "outputs": [
    {
     "data": {
      "text/plain": [
       "<torch._C.Generator at 0x7fc87ea84d30>"
      ]
     },
     "execution_count": 4,
     "metadata": {},
     "output_type": "execute_result"
    }
   ],
   "source": [
    "random.seed(0)\n",
    "np.random.seed(0)\n",
    "torch.manual_seed(0)"
   ]
  },
  {
   "cell_type": "markdown",
   "metadata": {
    "jukit_cell_id": "dbCREcNBCC"
   },
   "source": [
    "# Inputs"
   ]
  },
  {
   "cell_type": "code",
   "execution_count": 5,
   "metadata": {
    "execution": {
     "iopub.execute_input": "2024-12-13T21:08:15.660654Z",
     "iopub.status.busy": "2024-12-13T21:08:15.660523Z",
     "iopub.status.idle": "2024-12-13T21:08:15.664678Z",
     "shell.execute_reply": "2024-12-13T21:08:15.664351Z"
    },
    "jukit_cell_id": "2hSr3QFUwp"
   },
   "outputs": [],
   "source": [
    "treated_dapi_crops, gold_crops = {}, {}\n",
    "\n",
    "# Nuclei crops path of treated nuclei in the Dapi channel with all original pixel values\n",
    "treated_dapi_crops[\"same_background\"] = (\n",
    "    root_dir\n",
    "    / \"vision_nuclear_speckle_prediction/treated_nuclei_dapi_crops_same_background\"\n",
    ").resolve(strict=True)\n",
    "\n",
    "# Nuclei crops path of nuclei in the Gold channel with all original pixel values\n",
    "gold_crops[\"same_background\"] = (\n",
    "    root_dir / \"vision_nuclear_speckle_prediction/gold_cropped_nuclei_same_background\"\n",
    ").resolve(strict=True)\n",
    "\n",
    "# Nuclei crops path of treated nuclei in the Dapi channel with black backgrounds\n",
    "treated_dapi_crops[\"black_background\"] = (\n",
    "    root_dir / \"vision_nuclear_speckle_prediction/treated_nuclei_dapi_crops\"\n",
    ").resolve(strict=True)\n",
    "\n",
    "# Nuclei crops path of nuclei in the Gold channel with black backgrounds\n",
    "gold_crops[\"black_background\"] = (\n",
    "    root_dir / \"vision_nuclear_speckle_prediction/gold_cropped_nuclei\"\n",
    ").resolve(strict=True)\n",
    "\n",
    "# Contains model metadata\n",
    "model_manifestdf = pd.read_csv(\"model_manifest.csv\")"
   ]
  },
  {
   "cell_type": "markdown",
   "metadata": {
    "jukit_cell_id": "SCnVToH5O1"
   },
   "source": [
    "# Outputs"
   ]
  },
  {
   "cell_type": "code",
   "execution_count": 6,
   "metadata": {
    "execution": {
     "iopub.execute_input": "2024-12-13T21:08:15.666486Z",
     "iopub.status.busy": "2024-12-13T21:08:15.666382Z",
     "iopub.status.idle": "2024-12-13T21:08:15.668291Z",
     "shell.execute_reply": "2024-12-13T21:08:15.667968Z"
    },
    "jukit_cell_id": "tf1RlhXNwo"
   },
   "outputs": [],
   "source": [
    "metrics_path = pathlib.Path(\"model_metrics\")\n",
    "metrics_path.mkdir(parents=True, exist_ok=True)"
   ]
  },
  {
   "cell_type": "markdown",
   "metadata": {
    "jukit_cell_id": "5TaDZfsCpl"
   },
   "source": [
    "# Evaluate Models"
   ]
  },
  {
   "cell_type": "code",
   "execution_count": 7,
   "metadata": {
    "execution": {
     "iopub.execute_input": "2024-12-13T21:08:15.669767Z",
     "iopub.status.busy": "2024-12-13T21:08:15.669668Z",
     "iopub.status.idle": "2024-12-13T21:28:49.595809Z",
     "shell.execute_reply": "2024-12-13T21:28:49.595329Z"
    },
    "jukit_cell_id": "hOpgm7TTzF"
   },
   "outputs": [],
   "source": [
    "loss_funcs = {\n",
    "    \"l1_loss\": L1Loss(_metric_name=\"l1_loss\"),\n",
    "    \"l2_loss\": L2Loss(_metric_name=\"l2_loss\"),\n",
    "    \"psnr\": PSNR(_metric_name=\"psnr\"),\n",
    "    \"ssim\": SSIM(_metric_name=\"ssim\"),\n",
    "}\n",
    "\n",
    "losses = defaultdict(list)\n",
    "device = torch.device(\"cuda\" if torch.cuda.is_available() else \"cpu\")\n",
    "\n",
    "# Iterate through best models\n",
    "for _, model_metadata in model_manifestdf.iterrows():\n",
    "\n",
    "    if \"fnet\" in model_metadata[\"model_name\"]:\n",
    "\n",
    "        input_transforms = A.Compose(\n",
    "            [\n",
    "                MinMaxNormalize(_normalization_factor=(2**16) - 1, _always_apply=True),\n",
    "                CropNPixels(_pixel_count=1, _always_apply=True),\n",
    "            ]\n",
    "        )\n",
    "\n",
    "    else:\n",
    "\n",
    "        input_transforms = A.Compose(\n",
    "            [\n",
    "                MinMaxNormalize(_normalization_factor=(2**16) - 1, _always_apply=True),\n",
    "            ]\n",
    "        )\n",
    "\n",
    "    target_transforms = copy.deepcopy(input_transforms)\n",
    "\n",
    "    img_dataset = ImageDataset(\n",
    "        _input_dir=(\n",
    "            treated_dapi_crops[\"same_background\"]\n",
    "            if \"same_background\" in model_metadata[\"model_name\"]\n",
    "            else treated_dapi_crops[\"same_background\"]\n",
    "        ),\n",
    "        _target_dir=(\n",
    "            gold_crops[\"same_background\"]\n",
    "            if \"same_background\" in model_metadata[\"model_name\"]\n",
    "            else gold_crops[\"same_background\"]\n",
    "        ),\n",
    "        _input_transform=input_transforms,\n",
    "        _target_transform=target_transforms,\n",
    "    )\n",
    "\n",
    "    # Same splitting procedure as in model trainers\n",
    "    train_size = int(0.7 * len(img_dataset))\n",
    "    val_size = int(0.15 * len(img_dataset))\n",
    "    test_size = len(img_dataset) - train_size - val_size\n",
    "    train_dataset, val_dataset, _ = random_split(\n",
    "        img_dataset, [train_size, val_size, test_size]\n",
    "    )\n",
    "\n",
    "    with torch.no_grad():\n",
    "\n",
    "        generator_model = (\n",
    "            mlflow.pytorch.load_model(model_metadata[\"model_path\"]).eval().to(device)\n",
    "        )\n",
    "\n",
    "        val_metric_counts = defaultdict(float)\n",
    "        train_metric_counts = defaultdict(float)\n",
    "\n",
    "        for input, target in val_dataset:\n",
    "\n",
    "            # Format target and input images\n",
    "            target = target.unsqueeze(0).to(device)\n",
    "            output = generator_model(input.unsqueeze(0).to(device))\n",
    "\n",
    "            # Accumulate losses\n",
    "            for loss_name, loss_func in loss_funcs.items():\n",
    "                val_metric_counts[loss_name] += loss_func(\n",
    "                    _generated_outputs=output, _targets=target\n",
    "                )\n",
    "\n",
    "        for input, target in train_dataset:\n",
    "\n",
    "            target = target.unsqueeze(0).to(device)\n",
    "            output = generator_model(input.unsqueeze(0).to(device))\n",
    "\n",
    "            for loss_name, loss_func in loss_funcs.items():\n",
    "                train_metric_counts[loss_name] += loss_func(\n",
    "                    _generated_outputs=output, _targets=target\n",
    "                )\n",
    "\n",
    "        # Create Tidy format\n",
    "        losses[\"model_name\"].append(model_metadata[\"model_name\"])\n",
    "        losses[\"model_name\"].append(model_metadata[\"model_name\"])\n",
    "        losses[\"datasplit\"].append(\"training\")\n",
    "        losses[\"datasplit\"].append(\"validation\")\n",
    "\n",
    "        # Normalize Losses\n",
    "        for loss_name, loss_func in loss_funcs.items():\n",
    "            losses[loss_name].append(\n",
    "                train_metric_counts[loss_name].item() / len(train_dataset)\n",
    "            )\n",
    "            losses[loss_name].append(\n",
    "                val_metric_counts[loss_name].item() / len(val_dataset)\n",
    "            )"
   ]
  },
  {
   "cell_type": "code",
   "execution_count": 8,
   "metadata": {
    "execution": {
     "iopub.execute_input": "2024-12-13T21:28:49.598004Z",
     "iopub.status.busy": "2024-12-13T21:28:49.597869Z",
     "iopub.status.idle": "2024-12-13T21:28:49.607539Z",
     "shell.execute_reply": "2024-12-13T21:28:49.607168Z"
    },
    "jukit_cell_id": "bwF17818lw"
   },
   "outputs": [],
   "source": [
    "lossdf = pd.DataFrame(losses)\n",
    "lossdf.to_csv(metrics_path / \"best_model_metrics.csv\", index=False)"
   ]
  },
  {
   "cell_type": "code",
   "execution_count": 9,
   "metadata": {
    "execution": {
     "iopub.execute_input": "2024-12-13T21:28:49.609480Z",
     "iopub.status.busy": "2024-12-13T21:28:49.609337Z",
     "iopub.status.idle": "2024-12-13T21:28:49.626345Z",
     "shell.execute_reply": "2024-12-13T21:28:49.625969Z"
    },
    "jukit_cell_id": "qiKzCTm57t"
   },
   "outputs": [
    {
     "data": {
      "text/html": [
       "<div>\n",
       "<style scoped>\n",
       "    .dataframe tbody tr th:only-of-type {\n",
       "        vertical-align: middle;\n",
       "    }\n",
       "\n",
       "    .dataframe tbody tr th {\n",
       "        vertical-align: top;\n",
       "    }\n",
       "\n",
       "    .dataframe thead th {\n",
       "        text-align: right;\n",
       "    }\n",
       "</style>\n",
       "<table border=\"1\" class=\"dataframe\">\n",
       "  <thead>\n",
       "    <tr style=\"text-align: right;\">\n",
       "      <th></th>\n",
       "      <th>model_name</th>\n",
       "      <th>datasplit</th>\n",
       "      <th>l1_loss</th>\n",
       "      <th>l2_loss</th>\n",
       "      <th>psnr</th>\n",
       "      <th>ssim</th>\n",
       "    </tr>\n",
       "  </thead>\n",
       "  <tbody>\n",
       "    <tr>\n",
       "      <th>0</th>\n",
       "      <td>fnet_normalized_same_background</td>\n",
       "      <td>training</td>\n",
       "      <td>0.004986</td>\n",
       "      <td>0.000118</td>\n",
       "      <td>42.263964</td>\n",
       "      <td>1.600324</td>\n",
       "    </tr>\n",
       "    <tr>\n",
       "      <th>1</th>\n",
       "      <td>fnet_normalized_same_background</td>\n",
       "      <td>validation</td>\n",
       "      <td>0.004914</td>\n",
       "      <td>0.000113</td>\n",
       "      <td>42.307141</td>\n",
       "      <td>1.609225</td>\n",
       "    </tr>\n",
       "    <tr>\n",
       "      <th>2</th>\n",
       "      <td>unet_optimized_black_background</td>\n",
       "      <td>training</td>\n",
       "      <td>0.004962</td>\n",
       "      <td>0.000118</td>\n",
       "      <td>42.240877</td>\n",
       "      <td>1.546479</td>\n",
       "    </tr>\n",
       "    <tr>\n",
       "      <th>3</th>\n",
       "      <td>unet_optimized_black_background</td>\n",
       "      <td>validation</td>\n",
       "      <td>0.004988</td>\n",
       "      <td>0.000119</td>\n",
       "      <td>42.195480</td>\n",
       "      <td>1.549304</td>\n",
       "    </tr>\n",
       "    <tr>\n",
       "      <th>4</th>\n",
       "      <td>unet_optimized_black_background</td>\n",
       "      <td>training</td>\n",
       "      <td>0.004204</td>\n",
       "      <td>0.000095</td>\n",
       "      <td>43.311267</td>\n",
       "      <td>1.631941</td>\n",
       "    </tr>\n",
       "  </tbody>\n",
       "</table>\n",
       "</div>"
      ],
      "text/plain": [
       "                        model_name   datasplit   l1_loss   l2_loss       psnr  \\\n",
       "0  fnet_normalized_same_background    training  0.004986  0.000118  42.263964   \n",
       "1  fnet_normalized_same_background  validation  0.004914  0.000113  42.307141   \n",
       "2  unet_optimized_black_background    training  0.004962  0.000118  42.240877   \n",
       "3  unet_optimized_black_background  validation  0.004988  0.000119  42.195480   \n",
       "4  unet_optimized_black_background    training  0.004204  0.000095  43.311267   \n",
       "\n",
       "       ssim  \n",
       "0  1.600324  \n",
       "1  1.609225  \n",
       "2  1.546479  \n",
       "3  1.549304  \n",
       "4  1.631941  "
      ]
     },
     "execution_count": 9,
     "metadata": {},
     "output_type": "execute_result"
    }
   ],
   "source": [
    "lossdf.head()"
   ]
  }
 ],
 "metadata": {
  "anaconda-cloud": {},
  "kernelspec": {
   "display_name": "python",
   "language": "python",
   "name": "python3"
  },
  "language_info": {
   "codemirror_mode": {
    "name": "ipython",
    "version": 3
   },
   "file_extension": ".py",
   "mimetype": "text/x-python",
   "name": "python",
   "nbconvert_exporter": "python",
   "pygments_lexer": "ipython3",
   "version": "3.11.10"
  }
 },
 "nbformat": 4,
 "nbformat_minor": 4
}
