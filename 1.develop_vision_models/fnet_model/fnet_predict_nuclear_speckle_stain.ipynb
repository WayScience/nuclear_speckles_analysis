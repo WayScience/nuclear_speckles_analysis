{
 "cells": [
  {
   "cell_type": "markdown",
   "metadata": {
    "jukit_cell_id": "kVG1q9x0D6"
   },
   "source": [
    "# Predict GOLD Stain from DAPI (Fnet)\n",
    "The 2d fnet architecture (https://doi.org/10.1038/s41592-018-0111-2) is trained to predict the GOLD stain from cropped DAPI Nuclei Images.\n",
    "This model was trained on a similar task, therefore, we are interested in model's performance when trained on our task."
   ]
  },
  {
   "cell_type": "code",
   "execution_count": 1,
   "metadata": {
    "execution": {
     "iopub.execute_input": "2024-09-25T19:23:35.069566Z",
     "iopub.status.busy": "2024-09-25T19:23:35.069475Z",
     "iopub.status.idle": "2024-09-25T19:23:36.907888Z",
     "shell.execute_reply": "2024-09-25T19:23:36.907462Z"
    },
    "jukit_cell_id": "hiLBvSISaw"
   },
   "outputs": [],
   "source": [
    "import pathlib\n",
    "import random\n",
    "import sys\n",
    "from collections import defaultdict\n",
    "from typing import Tuple\n",
    "import copy\n",
    "\n",
    "import albumentations as A\n",
    "import matplotlib.pyplot as plt\n",
    "import mlflow\n",
    "import numpy as np\n",
    "import pandas as pd\n",
    "import torch\n",
    "import torch.nn as nn\n",
    "import torch.optim as optim"
   ]
  },
  {
   "cell_type": "markdown",
   "metadata": {
    "jukit_cell_id": "Meri0joHnI"
   },
   "source": [
    "## Find the root of the git repo on the host system"
   ]
  },
  {
   "cell_type": "code",
   "execution_count": 2,
   "metadata": {
    "execution": {
     "iopub.execute_input": "2024-09-25T19:23:36.910501Z",
     "iopub.status.busy": "2024-09-25T19:23:36.910157Z",
     "iopub.status.idle": "2024-09-25T19:23:36.912979Z",
     "shell.execute_reply": "2024-09-25T19:23:36.912655Z"
    },
    "jukit_cell_id": "Ko16YFvQXV"
   },
   "outputs": [],
   "source": [
    "# Get the current working directory\n",
    "cwd = pathlib.Path.cwd()\n",
    "\n",
    "if (cwd / \".git\").is_dir():\n",
    "    root_dir = cwd\n",
    "\n",
    "else:\n",
    "    root_dir = None\n",
    "    for parent in cwd.parents:\n",
    "        if (parent / \".git\").is_dir():\n",
    "            root_dir = parent\n",
    "            break\n",
    "\n",
    "# Check if a Git root directory was found\n",
    "if root_dir is None:\n",
    "    raise FileNotFoundError(\"No Git root directory found.\")"
   ]
  },
  {
   "cell_type": "markdown",
   "metadata": {
    "jukit_cell_id": "vGuEzAxPyF"
   },
   "source": [
    "## Custom Imports"
   ]
  },
  {
   "cell_type": "code",
   "execution_count": 3,
   "metadata": {
    "execution": {
     "iopub.execute_input": "2024-09-25T19:23:36.914344Z",
     "iopub.status.busy": "2024-09-25T19:23:36.914242Z",
     "iopub.status.idle": "2024-09-25T19:23:36.917538Z",
     "shell.execute_reply": "2024-09-25T19:23:36.917215Z"
    },
    "jukit_cell_id": "AN1PVs3hBQ"
   },
   "outputs": [],
   "source": [
    "sys.path.append(str((root_dir / \"1.develop_vision_models\").resolve(strict=True)))\n",
    "\n",
    "from ImageDataset import ImageDataset\n",
    "from models.fnet_nn_2d import Net\n",
    "from ModelTrainer import ModelTrainer\n",
    "from transforms.CropNPixels import CropNPixels\n",
    "from transforms.StandardScaler import StandardScaler"
   ]
  },
  {
   "cell_type": "markdown",
   "metadata": {
    "jukit_cell_id": "ZDjx5NhMh5"
   },
   "source": [
    "## Set random seeds"
   ]
  },
  {
   "cell_type": "code",
   "execution_count": 4,
   "metadata": {
    "execution": {
     "iopub.execute_input": "2024-09-25T19:23:36.918974Z",
     "iopub.status.busy": "2024-09-25T19:23:36.918799Z",
     "iopub.status.idle": "2024-09-25T19:23:36.925642Z",
     "shell.execute_reply": "2024-09-25T19:23:36.925322Z"
    },
    "jukit_cell_id": "goD9xIS6sd"
   },
   "outputs": [
    {
     "data": {
      "text/plain": [
       "0"
      ]
     },
     "execution_count": 4,
     "metadata": {},
     "output_type": "execute_result"
    }
   ],
   "source": [
    "random.seed(0)\n",
    "np.random.seed(0)\n",
    "\n",
    "mlflow.log_param(\"random_seed\", 0)"
   ]
  },
  {
   "cell_type": "markdown",
   "metadata": {
    "jukit_cell_id": "dbCREcNBCC"
   },
   "source": [
    "# Inputs"
   ]
  },
  {
   "cell_type": "code",
   "execution_count": 5,
   "metadata": {
    "execution": {
     "iopub.execute_input": "2024-09-25T19:23:36.956483Z",
     "iopub.status.busy": "2024-09-25T19:23:36.956351Z",
     "iopub.status.idle": "2024-09-25T19:23:38.010885Z",
     "shell.execute_reply": "2024-09-25T19:23:38.010296Z"
    },
    "jukit_cell_id": "1EyjCcnIdZ"
   },
   "outputs": [],
   "source": [
    "# Nuclei crops path of treated nuclei in the Dapi channel with all original pixel values\n",
    "treated_dapi_crops = (root_dir / \"vision_nuclear_speckle_prediction/treated_nuclei_dapi_crops_same_background\").resolve(strict=True)\n",
    "\n",
    "# Nuclei crops path of nuclei in the Gold channel with all original pixel values\n",
    "gold_crops = (root_dir / \"vision_nuclear_speckle_prediction/gold_cropped_nuclei_same_background\").resolve(strict=True)\n",
    "\n",
    "# Paths to original nuclear speckle data\n",
    "data_dir = (root_dir / \"nuclear_speckles_data\").resolve(strict=True)\n",
    "nuclear_mask_dir = (data_dir / \"Nuclear_masks\").resolve(strict=True)\n",
    "sc_profiles_path = list((data_dir / \"Preprocessed_data/single_cell_profiles\").resolve(strict=True).glob(\"*feature_selected*.parquet\"))\n",
    "\n",
    "# Load single-cell profile data\n",
    "scdfs = [pd.read_parquet(sc_path) for sc_path in sc_profiles_path if sc_path.is_file()]\n",
    "scdfs = pd.concat(scdfs, axis=0).reset_index(drop=True)"
   ]
  },
  {
   "cell_type": "markdown",
   "metadata": {
    "jukit_cell_id": "SCnVToH5O1"
   },
   "source": [
    "# Outputs"
   ]
  },
  {
   "cell_type": "code",
   "execution_count": 6,
   "metadata": {
    "execution": {
     "iopub.execute_input": "2024-09-25T19:23:38.012734Z",
     "iopub.status.busy": "2024-09-25T19:23:38.012624Z",
     "iopub.status.idle": "2024-09-25T19:23:38.015394Z",
     "shell.execute_reply": "2024-09-25T19:23:38.015080Z"
    },
    "jukit_cell_id": "8ufd624Ycq"
   },
   "outputs": [],
   "source": [
    "figure_path = pathlib.Path(\"fnet_validation_images\")\n",
    "figure_path.mkdir(parents=True, exist_ok=True)\n",
    "\n",
    "metrics_path = pathlib.Path(\"metrics\")\n",
    "metrics_path.mkdir(parents=True, exist_ok=True)\n",
    "\n",
    "model_path = pathlib.Path(\"model\")\n",
    "model_path.mkdir(parents=True, exist_ok=True)"
   ]
  },
  {
   "cell_type": "code",
   "execution_count": 7,
   "metadata": {
    "execution": {
     "iopub.execute_input": "2024-09-25T19:23:38.016749Z",
     "iopub.status.busy": "2024-09-25T19:23:38.016649Z",
     "iopub.status.idle": "2024-09-25T19:23:38.019157Z",
     "shell.execute_reply": "2024-09-25T19:23:38.018886Z"
    },
    "jukit_cell_id": "HVINHVNqNE"
   },
   "outputs": [],
   "source": [
    "description = \"Here we leverage the 2d fnet architecture in https://doi.org/10.1038/s41592-018-0111-2 to predict the GOLD stain from cropped DAPI Nuclei Images. We retain all pixel values in the cropped images\"\n",
    "mlflow.set_tag(\"mlflow.note.content\", description)"
   ]
  },
  {
   "cell_type": "markdown",
   "metadata": {
    "jukit_cell_id": "79aCdZVnr1"
   },
   "source": [
    "# Image Generation Functions"
   ]
  },
  {
   "cell_type": "code",
   "execution_count": 8,
   "metadata": {
    "execution": {
     "iopub.execute_input": "2024-09-25T19:23:38.020446Z",
     "iopub.status.busy": "2024-09-25T19:23:38.020347Z",
     "iopub.status.idle": "2024-09-25T19:23:38.022597Z",
     "shell.execute_reply": "2024-09-25T19:23:38.022331Z"
    },
    "jukit_cell_id": "u1rAXJ2oS2"
   },
   "outputs": [],
   "source": [
    "def format_img(_tensor_img: torch.Tensor) -> np.ndarray:\n",
    "    \"\"\"Reshapes an image and rescales pixel values from the StandardScaler transform.\"\"\"\n",
    "\n",
    "    mean = trainer.val_dataset.dataset.input_transform[0].mean\n",
    "    std = trainer.val_dataset.dataset.input_transform[0].std\n",
    "\n",
    "    return ((torch.squeeze(_tensor_img) * std) + mean).to(torch.uint16).cpu().numpy()"
   ]
  },
  {
   "cell_type": "code",
   "execution_count": 9,
   "metadata": {
    "execution": {
     "iopub.execute_input": "2024-09-25T19:23:38.023955Z",
     "iopub.status.busy": "2024-09-25T19:23:38.023730Z",
     "iopub.status.idle": "2024-09-25T19:23:38.026062Z",
     "shell.execute_reply": "2024-09-25T19:23:38.025735Z"
    },
    "jukit_cell_id": "CxqLJC1H7k"
   },
   "outputs": [],
   "source": [
    "def evaluate_and_format_imgs(_input: torch.Tensor, _target: torch.Tensor) -> Tuple[torch.Tensor, torch.Tensor, torch.Tensor]:\n",
    "\n",
    "    single_input = input.unsqueeze(1).to(device)\n",
    "    single_target = target.to(device)\n",
    "\n",
    "    model.eval()\n",
    "    with torch.no_grad():\n",
    "        # Forward Pass\n",
    "        output = model(single_input)\n",
    "\n",
    "    return format_img(single_input), format_img(single_target), format_img(output)"
   ]
  },
  {
   "cell_type": "markdown",
   "metadata": {
    "jukit_cell_id": "1aeIZilTQ4"
   },
   "source": [
    "# Initialize and Train Model"
   ]
  },
  {
   "cell_type": "code",
   "execution_count": 10,
   "metadata": {
    "execution": {
     "iopub.execute_input": "2024-09-25T19:23:38.027263Z",
     "iopub.status.busy": "2024-09-25T19:23:38.027167Z",
     "iopub.status.idle": "2024-09-25T19:23:38.197604Z",
     "shell.execute_reply": "2024-09-25T19:23:38.197158Z"
    },
    "jukit_cell_id": "hOpgm7TTzF"
   },
   "outputs": [],
   "source": [
    "input_transforms = A.Compose([\n",
    "    StandardScaler(_always_apply=True),\n",
    "    CropNPixels(_pixel_count=1, _always_apply=True)\n",
    "])\n",
    "\n",
    "target_transforms = copy.deepcopy(input_transforms)\n",
    "\n",
    "img_dataset = ImageDataset(\n",
    "    _input_dir=treated_dapi_crops,\n",
    "    _target_dir=gold_crops,\n",
    "    _input_transform=input_transforms,\n",
    "    _target_transform=target_transforms\n",
    ")"
   ]
  },
  {
   "cell_type": "code",
   "execution_count": 11,
   "metadata": {
    "execution": {
     "iopub.execute_input": "2024-09-25T19:23:38.199647Z",
     "iopub.status.busy": "2024-09-25T19:23:38.199507Z",
     "iopub.status.idle": "2024-09-25T19:23:38.465761Z",
     "shell.execute_reply": "2024-09-25T19:23:38.465225Z"
    },
    "jukit_cell_id": "RFhdisqTYz"
   },
   "outputs": [
    {
     "data": {
      "text/plain": [
       "Net(\n",
       "  (net_recurse): _Net_recurse(\n",
       "    (sub_2conv_more): SubNet2Conv(\n",
       "      (conv1): Conv2d(1, 32, kernel_size=(3, 3), stride=(1, 1), padding=(1, 1))\n",
       "      (bn1): BatchNorm2d(32, eps=1e-05, momentum=0.1, affine=True, track_running_stats=True)\n",
       "      (relu1): ReLU()\n",
       "      (conv2): Conv2d(32, 32, kernel_size=(3, 3), stride=(1, 1), padding=(1, 1))\n",
       "      (bn2): BatchNorm2d(32, eps=1e-05, momentum=0.1, affine=True, track_running_stats=True)\n",
       "      (relu2): ReLU()\n",
       "    )\n",
       "    (sub_2conv_less): SubNet2Conv(\n",
       "      (conv1): Conv2d(64, 32, kernel_size=(3, 3), stride=(1, 1), padding=(1, 1))\n",
       "      (bn1): BatchNorm2d(32, eps=1e-05, momentum=0.1, affine=True, track_running_stats=True)\n",
       "      (relu1): ReLU()\n",
       "      (conv2): Conv2d(32, 32, kernel_size=(3, 3), stride=(1, 1), padding=(1, 1))\n",
       "      (bn2): BatchNorm2d(32, eps=1e-05, momentum=0.1, affine=True, track_running_stats=True)\n",
       "      (relu2): ReLU()\n",
       "    )\n",
       "    (conv_down): Conv2d(32, 32, kernel_size=(2, 2), stride=(2, 2))\n",
       "    (bn0): BatchNorm2d(32, eps=1e-05, momentum=0.1, affine=True, track_running_stats=True)\n",
       "    (relu0): ReLU()\n",
       "    (convt): ConvTranspose2d(64, 32, kernel_size=(2, 2), stride=(2, 2))\n",
       "    (bn1): BatchNorm2d(32, eps=1e-05, momentum=0.1, affine=True, track_running_stats=True)\n",
       "    (relu1): ReLU()\n",
       "    (sub_u): _Net_recurse(\n",
       "      (sub_2conv_more): SubNet2Conv(\n",
       "        (conv1): Conv2d(32, 64, kernel_size=(3, 3), stride=(1, 1), padding=(1, 1))\n",
       "        (bn1): BatchNorm2d(64, eps=1e-05, momentum=0.1, affine=True, track_running_stats=True)\n",
       "        (relu1): ReLU()\n",
       "        (conv2): Conv2d(64, 64, kernel_size=(3, 3), stride=(1, 1), padding=(1, 1))\n",
       "        (bn2): BatchNorm2d(64, eps=1e-05, momentum=0.1, affine=True, track_running_stats=True)\n",
       "        (relu2): ReLU()\n",
       "      )\n",
       "      (sub_2conv_less): SubNet2Conv(\n",
       "        (conv1): Conv2d(128, 64, kernel_size=(3, 3), stride=(1, 1), padding=(1, 1))\n",
       "        (bn1): BatchNorm2d(64, eps=1e-05, momentum=0.1, affine=True, track_running_stats=True)\n",
       "        (relu1): ReLU()\n",
       "        (conv2): Conv2d(64, 64, kernel_size=(3, 3), stride=(1, 1), padding=(1, 1))\n",
       "        (bn2): BatchNorm2d(64, eps=1e-05, momentum=0.1, affine=True, track_running_stats=True)\n",
       "        (relu2): ReLU()\n",
       "      )\n",
       "      (conv_down): Conv2d(64, 64, kernel_size=(2, 2), stride=(2, 2))\n",
       "      (bn0): BatchNorm2d(64, eps=1e-05, momentum=0.1, affine=True, track_running_stats=True)\n",
       "      (relu0): ReLU()\n",
       "      (convt): ConvTranspose2d(128, 64, kernel_size=(2, 2), stride=(2, 2))\n",
       "      (bn1): BatchNorm2d(64, eps=1e-05, momentum=0.1, affine=True, track_running_stats=True)\n",
       "      (relu1): ReLU()\n",
       "      (sub_u): _Net_recurse(\n",
       "        (sub_2conv_more): SubNet2Conv(\n",
       "          (conv1): Conv2d(64, 128, kernel_size=(3, 3), stride=(1, 1), padding=(1, 1))\n",
       "          (bn1): BatchNorm2d(128, eps=1e-05, momentum=0.1, affine=True, track_running_stats=True)\n",
       "          (relu1): ReLU()\n",
       "          (conv2): Conv2d(128, 128, kernel_size=(3, 3), stride=(1, 1), padding=(1, 1))\n",
       "          (bn2): BatchNorm2d(128, eps=1e-05, momentum=0.1, affine=True, track_running_stats=True)\n",
       "          (relu2): ReLU()\n",
       "        )\n",
       "        (sub_2conv_less): SubNet2Conv(\n",
       "          (conv1): Conv2d(256, 128, kernel_size=(3, 3), stride=(1, 1), padding=(1, 1))\n",
       "          (bn1): BatchNorm2d(128, eps=1e-05, momentum=0.1, affine=True, track_running_stats=True)\n",
       "          (relu1): ReLU()\n",
       "          (conv2): Conv2d(128, 128, kernel_size=(3, 3), stride=(1, 1), padding=(1, 1))\n",
       "          (bn2): BatchNorm2d(128, eps=1e-05, momentum=0.1, affine=True, track_running_stats=True)\n",
       "          (relu2): ReLU()\n",
       "        )\n",
       "        (conv_down): Conv2d(128, 128, kernel_size=(2, 2), stride=(2, 2))\n",
       "        (bn0): BatchNorm2d(128, eps=1e-05, momentum=0.1, affine=True, track_running_stats=True)\n",
       "        (relu0): ReLU()\n",
       "        (convt): ConvTranspose2d(256, 128, kernel_size=(2, 2), stride=(2, 2))\n",
       "        (bn1): BatchNorm2d(128, eps=1e-05, momentum=0.1, affine=True, track_running_stats=True)\n",
       "        (relu1): ReLU()\n",
       "        (sub_u): _Net_recurse(\n",
       "          (sub_2conv_more): SubNet2Conv(\n",
       "            (conv1): Conv2d(128, 256, kernel_size=(3, 3), stride=(1, 1), padding=(1, 1))\n",
       "            (bn1): BatchNorm2d(256, eps=1e-05, momentum=0.1, affine=True, track_running_stats=True)\n",
       "            (relu1): ReLU()\n",
       "            (conv2): Conv2d(256, 256, kernel_size=(3, 3), stride=(1, 1), padding=(1, 1))\n",
       "            (bn2): BatchNorm2d(256, eps=1e-05, momentum=0.1, affine=True, track_running_stats=True)\n",
       "            (relu2): ReLU()\n",
       "          )\n",
       "          (sub_2conv_less): SubNet2Conv(\n",
       "            (conv1): Conv2d(512, 256, kernel_size=(3, 3), stride=(1, 1), padding=(1, 1))\n",
       "            (bn1): BatchNorm2d(256, eps=1e-05, momentum=0.1, affine=True, track_running_stats=True)\n",
       "            (relu1): ReLU()\n",
       "            (conv2): Conv2d(256, 256, kernel_size=(3, 3), stride=(1, 1), padding=(1, 1))\n",
       "            (bn2): BatchNorm2d(256, eps=1e-05, momentum=0.1, affine=True, track_running_stats=True)\n",
       "            (relu2): ReLU()\n",
       "          )\n",
       "          (conv_down): Conv2d(256, 256, kernel_size=(2, 2), stride=(2, 2))\n",
       "          (bn0): BatchNorm2d(256, eps=1e-05, momentum=0.1, affine=True, track_running_stats=True)\n",
       "          (relu0): ReLU()\n",
       "          (convt): ConvTranspose2d(512, 256, kernel_size=(2, 2), stride=(2, 2))\n",
       "          (bn1): BatchNorm2d(256, eps=1e-05, momentum=0.1, affine=True, track_running_stats=True)\n",
       "          (relu1): ReLU()\n",
       "          (sub_u): _Net_recurse(\n",
       "            (sub_2conv_more): SubNet2Conv(\n",
       "              (conv1): Conv2d(256, 512, kernel_size=(3, 3), stride=(1, 1), padding=(1, 1))\n",
       "              (bn1): BatchNorm2d(512, eps=1e-05, momentum=0.1, affine=True, track_running_stats=True)\n",
       "              (relu1): ReLU()\n",
       "              (conv2): Conv2d(512, 512, kernel_size=(3, 3), stride=(1, 1), padding=(1, 1))\n",
       "              (bn2): BatchNorm2d(512, eps=1e-05, momentum=0.1, affine=True, track_running_stats=True)\n",
       "              (relu2): ReLU()\n",
       "            )\n",
       "          )\n",
       "        )\n",
       "      )\n",
       "    )\n",
       "  )\n",
       "  (conv_out): Conv2d(32, 1, kernel_size=(3, 3), stride=(1, 1), padding=(1, 1))\n",
       ")"
      ]
     },
     "execution_count": 11,
     "metadata": {},
     "output_type": "execute_result"
    }
   ],
   "source": [
    "model = Net()\n",
    "device = torch.device('cuda' if torch.cuda.is_available() else 'cpu')\n",
    "\n",
    "model.to(device)"
   ]
  },
  {
   "cell_type": "code",
   "execution_count": 12,
   "metadata": {
    "execution": {
     "iopub.execute_input": "2024-09-25T19:23:38.467818Z",
     "iopub.status.busy": "2024-09-25T19:23:38.467689Z",
     "iopub.status.idle": "2024-09-25T19:23:38.857801Z",
     "shell.execute_reply": "2024-09-25T19:23:38.857488Z"
    },
    "jukit_cell_id": "k5VvaO0rJb"
   },
   "outputs": [],
   "source": [
    "optim_params = {\n",
    "    \"lr\": 1e-3,\n",
    "    \"betas\": (0.5, 0.999)\n",
    "}\n",
    "\n",
    "optimizer = optim.Adam(\n",
    "    model.parameters(),\n",
    "    **optim_params\n",
    ")\n",
    "\n",
    "mlflow.log_param(\"Optimizer\", \"ADAM\")\n",
    "mlflow.log_params(optim_params)"
   ]
  },
  {
   "cell_type": "code",
   "execution_count": 13,
   "metadata": {
    "execution": {
     "iopub.execute_input": "2024-09-25T19:23:38.859373Z",
     "iopub.status.busy": "2024-09-25T19:23:38.859170Z",
     "iopub.status.idle": "2024-09-25T19:23:38.862375Z",
     "shell.execute_reply": "2024-09-25T19:23:38.862169Z"
    },
    "jukit_cell_id": "gCGJH6f2N0"
   },
   "outputs": [
    {
     "data": {
      "text/plain": [
       "'mae_loss'"
      ]
     },
     "execution_count": 13,
     "metadata": {},
     "output_type": "execute_result"
    }
   ],
   "source": [
    "# These keys will be in the names of the logged losses\n",
    "tracked_losses = {\n",
    "    \"mse_loss\": nn.MSELoss(),\n",
    "    \"mae_loss\": nn.L1Loss()\n",
    "}\n",
    "\n",
    "backprop_loss_name = \"mae_loss\"\n",
    "\n",
    "mlflow.log_param(\"Training Loss\", backprop_loss_name)"
   ]
  },
  {
   "cell_type": "code",
   "execution_count": 14,
   "metadata": {
    "execution": {
     "iopub.execute_input": "2024-09-25T19:23:38.863465Z",
     "iopub.status.busy": "2024-09-25T19:23:38.863376Z",
     "iopub.status.idle": "2024-09-25T19:23:38.865920Z",
     "shell.execute_reply": "2024-09-25T19:23:38.865710Z"
    },
    "jukit_cell_id": "yuahqaK6bO"
   },
   "outputs": [],
   "source": [
    "trainer_params = {\n",
    "    \"batch_size\": 32,\n",
    "    \"epochs\": 2_000,\n",
    "    \"patience\": 15\n",
    "}\n",
    "\n",
    "mlflow.log_params(trainer_params)\n",
    "trainer_params = {f\"_{param_name}\": param_value for param_name, param_value in trainer_params.items()}"
   ]
  },
  {
   "cell_type": "code",
   "execution_count": 15,
   "metadata": {
    "execution": {
     "iopub.execute_input": "2024-09-25T19:23:38.867128Z",
     "iopub.status.busy": "2024-09-25T19:23:38.867033Z",
     "iopub.status.idle": "2024-09-25T19:23:38.871217Z",
     "shell.execute_reply": "2024-09-25T19:23:38.870920Z"
    },
    "jukit_cell_id": "ysdNFUJpaV"
   },
   "outputs": [],
   "source": [
    "trainer = ModelTrainer(\n",
    "    _model=model,\n",
    "    _image_dataset=img_dataset,\n",
    "    _optimizer=optimizer,\n",
    "    _tracked_losses=tracked_losses,\n",
    "    _backprop_loss_name=backprop_loss_name,\n",
    "    **trainer_params\n",
    ")"
   ]
  },
  {
   "cell_type": "code",
   "execution_count": 16,
   "metadata": {
    "execution": {
     "iopub.execute_input": "2024-09-25T19:23:38.872414Z",
     "iopub.status.busy": "2024-09-25T19:23:38.872240Z",
     "iopub.status.idle": "2024-09-25T19:46:43.299209Z",
     "shell.execute_reply": "2024-09-25T19:46:43.298621Z"
    },
    "jukit_cell_id": "q0gMPtxZX6"
   },
   "outputs": [],
   "source": [
    "trainer.train()"
   ]
  },
  {
   "cell_type": "markdown",
   "metadata": {
    "jukit_cell_id": "5L32l3Q5aZ"
   },
   "source": [
    "# Generate Images\n",
    "Evaluate the model by generating the same number of example images for each siRNA."
   ]
  },
  {
   "cell_type": "code",
   "execution_count": 17,
   "metadata": {
    "execution": {
     "iopub.execute_input": "2024-09-25T19:46:43.302164Z",
     "iopub.status.busy": "2024-09-25T19:46:43.302022Z",
     "iopub.status.idle": "2024-09-25T19:46:57.328463Z",
     "shell.execute_reply": "2024-09-25T19:46:57.327901Z"
    },
    "jukit_cell_id": "9jlZLKlJ6p"
   },
   "outputs": [],
   "source": [
    "example_images_per_sirna = 10\n",
    "\n",
    "sirna_img_counts = {sirna: 0 for sirna in scdfs.loc[scdfs[\"Metadata_Condition\"] != \"untreated\"][\"Metadata_Condition\"].unique()}\n",
    "\n",
    "for input, target in iter(trainer.val_dataset):\n",
    "\n",
    "    img_name = trainer.val_dataset.dataset.input_name\n",
    "    img_name = img_name.replace(\"_illumcorrect.tiff\", \"\")\n",
    "\n",
    "    cell_id = img_name.split(\"_\")[0]\n",
    "    sirna = scdfs.loc[int(cell_id)][\"Metadata_Condition\"]\n",
    "\n",
    "    if sirna not in list(sirna_img_counts.keys()):\n",
    "        continue\n",
    "\n",
    "    input, target, output = evaluate_and_format_imgs(input, target)\n",
    "\n",
    "    max_pixel_val = max(np.max(input), np.max(target), np.max(output))\n",
    "    min_pixel_val = min(np.min(input), np.min(target), np.min(output))\n",
    "\n",
    "    titles = ['DAPI Image', 'Predicted GOLD Image', 'Target GOLD Image']\n",
    "\n",
    "    fig, axes = plt.subplots(1, 3, figsize=(15, 5))\n",
    "\n",
    "    fig.suptitle(f\"{img_name}\", fontsize=16)\n",
    "\n",
    "    plt.subplots_adjust(wspace=0.3, hspace=0)  # Adjust `wspace` if titles overlap\n",
    "\n",
    "    axes[0].imshow(input, cmap=\"grey\", vmin=min_pixel_val, vmax=max_pixel_val)\n",
    "    axes[0].axis('off')\n",
    "    axes[0].set_title(titles[0], fontsize=14)\n",
    "\n",
    "    axes[1].imshow(output, cmap=\"grey\", vmin=min_pixel_val, vmax=max_pixel_val)\n",
    "    axes[1].axis('off')\n",
    "    axes[1].set_title(titles[1], fontsize=14)\n",
    "\n",
    "    axes[2].imshow(target, cmap=\"grey\", vmin=min_pixel_val, vmax=max_pixel_val)\n",
    "    axes[2].axis('off')\n",
    "    axes[2].set_title(titles[2], fontsize=14)\n",
    "\n",
    "    plt.savefig(figure_path / f\"{img_name}.png\", bbox_inches='tight', pad_inches=0)\n",
    "    plt.close()\n",
    "\n",
    "    sirna_img_counts[sirna] += 1\n",
    "\n",
    "    if sirna_img_counts[sirna] >= example_images_per_sirna:\n",
    "        sirna_img_counts.pop(sirna)\n",
    "\n",
    "        if not sirna_img_counts:\n",
    "            break"
   ]
  },
  {
   "cell_type": "markdown",
   "metadata": {
    "jukit_cell_id": "acR8M5ntCA"
   },
   "source": [
    "# Log Metrics and Model"
   ]
  },
  {
   "cell_type": "code",
   "execution_count": 18,
   "metadata": {
    "execution": {
     "iopub.execute_input": "2024-09-25T19:46:57.331335Z",
     "iopub.status.busy": "2024-09-25T19:46:57.331203Z",
     "iopub.status.idle": "2024-09-25T19:46:57.340128Z",
     "shell.execute_reply": "2024-09-25T19:46:57.339742Z"
    },
    "jukit_cell_id": "uTLac1sMYT"
   },
   "outputs": [],
   "source": [
    "client = mlflow.MlflowClient()\n",
    "\n",
    "run_id = mlflow.active_run().info.run_id\n",
    "run = client.get_run(run_id)\n",
    "\n",
    "metrics_per_epoch = defaultdict(list)\n",
    "\n",
    "for metric_name in run.data.metrics.keys():\n",
    "    metric_history = client.get_metric_history(run_id=run_id, key=metric_name)\n",
    "    for metric in metric_history:\n",
    "        metrics_per_epoch[metric_name].append(metric.value)\n",
    "\n",
    "metricsdf = pd.DataFrame(metrics_per_epoch)\n",
    "metricsdf[\"epoch\"] = np.arange(metricsdf.shape[0])\n",
    "metricsdf.to_csv(metrics_path / \"fnet_metrics_per_epoch.csv\", index=False)"
   ]
  },
  {
   "cell_type": "code",
   "execution_count": 19,
   "metadata": {
    "execution": {
     "iopub.execute_input": "2024-09-25T19:46:57.342350Z",
     "iopub.status.busy": "2024-09-25T19:46:57.342226Z",
     "iopub.status.idle": "2024-09-25T19:46:57.715929Z",
     "shell.execute_reply": "2024-09-25T19:46:57.715374Z"
    },
    "jukit_cell_id": "c3SsRLYFxN"
   },
   "outputs": [
    {
     "name": "stderr",
     "output_type": "stream",
     "text": [
      "2024/09/25 13:46:57 WARNING mlflow.models.model: Model logged without a signature and input example. Please set `input_example` parameter when logging the model to auto infer the model signature.\n"
     ]
    }
   ],
   "source": [
    "mlflow.pytorch.log_model(pytorch_model=model.cpu(), artifact_path=\"model\", conda_env=str(root_dir / \"1.develop_vision_models\" / \"environment.yml\"))\n",
    "\n",
    "# Save model for github\n",
    "torch.save(model.state_dict(), model_path / \"fnet_model_states.pth\")"
   ]
  }
 ],
 "metadata": {
  "anaconda-cloud": {},
  "kernelspec": {
   "display_name": "python",
   "language": "python",
   "name": "python3"
  },
  "language_info": {
   "codemirror_mode": {
    "name": "ipython",
    "version": 3
   },
   "file_extension": ".py",
   "mimetype": "text/x-python",
   "name": "python",
   "nbconvert_exporter": "python",
   "pygments_lexer": "ipython3",
   "version": "3.11.10"
  }
 },
 "nbformat": 4,
 "nbformat_minor": 4
}
